{
 "cells": [
  {
   "cell_type": "code",
   "execution_count": 1,
   "metadata": {},
   "outputs": [],
   "source": [
    "import pickle\n",
    "import numpy as np\n",
    "import pandas as pd\n",
    "import torch\n",
    "import torch.nn as nn\n",
    "import torch.optim as optim\n",
    "from torch.utils.data import Dataset, DataLoader\n",
    "from sklearn.preprocessing import LabelEncoder\n",
    "from sklearn.model_selection import train_test_split\n"
   ]
  },
  {
   "cell_type": "code",
   "execution_count": 2,
   "metadata": {},
   "outputs": [],
   "source": [
    "# print(torch.is_gpu_)"
   ]
  },
  {
   "cell_type": "code",
   "execution_count": null,
   "metadata": {},
   "outputs": [],
   "source": []
  },
  {
   "cell_type": "code",
   "execution_count": 3,
   "metadata": {},
   "outputs": [
    {
     "name": "stdout",
     "output_type": "stream",
     "text": [
      "torch.Size([1500])\n",
      "torch.Size([1500])\n"
     ]
    }
   ],
   "source": [
    "\n",
    "# Read the pickle object\n",
    "with open(\"../../dataset/pickles/LOC3.pickle\", \"rb\") as f:\n",
    "    data = pickle.load(f)\n",
    "\n",
    "# Convert the data to a pandas dataframe\n",
    "df = pd.DataFrame(data)\n",
    "\n",
    "# Encode the class labels\n",
    "label_encoder = LabelEncoder()\n",
    "df['class_label'] = label_encoder.fit_transform(df['class_label'])\n",
    "\n",
    "# Define the maximum sequence length\n",
    "max_len = 0\n",
    "for i in df['lengths']:\n",
    "    max_len=max(max_len,len(i))\n",
    "\n",
    "# Pad the sequences to the maximum length\n",
    "sequences = np.array(df['lengths'])\n",
    "padded_sequences = np.zeros((len(sequences), max_len))\n",
    "for i, sequence in enumerate(sequences):\n",
    "    padded_sequences[i, :len(sequence)] = sequence\n",
    "\n",
    "# Split the data into training and validation sets\n",
    "X_train, X_val, y_train, y_val = train_test_split(padded_sequences, df['class_label'], test_size=0.2)\n",
    "\n",
    "# Convert the data to PyTorch tensors\n",
    "X_train = torch.from_numpy(X_train).to(torch.float32)\n",
    "y_train = torch.from_numpy(y_train.values).long()\n",
    "X_val = torch.from_numpy(X_val).to(torch.float32)\n",
    "y_val = torch.from_numpy(y_val.values).long()\n",
    "# check if split is stratified\n",
    "# print(\"Training set class distribution:\")\n",
    "# print(y_train.unique(return_counts=True)) \n",
    "# print(\"Validation set class distribution:\")\n",
    "# print(y_val.unique(return_counts=True))\n",
    "print(y_train.unique().shape)\n",
    "print(y_val.unique().shape)"
   ]
  },
  {
   "cell_type": "code",
   "execution_count": 4,
   "metadata": {},
   "outputs": [],
   "source": [
    "# Define a custom dataset\n",
    "class SequenceDataset(Dataset):\n",
    "    def __init__(self, sequences, labels):\n",
    "        self.sequences = sequences\n",
    "        self.labels = labels\n",
    "    \n",
    "    def __len__(self):\n",
    "        return len(self.labels)\n",
    "    \n",
    "    def __getitem__(self, index):\n",
    "        sequence = self.sequences[index]\n",
    "        label = self.labels[index]\n",
    "        return sequence, label\n"
   ]
  },
  {
   "cell_type": "code",
   "execution_count": 5,
   "metadata": {},
   "outputs": [
    {
     "name": "stdout",
     "output_type": "stream",
     "text": [
      "1213\n"
     ]
    }
   ],
   "source": [
    "\n",
    "# Initialize the model\n",
    "input_dim=0\n",
    "for i in X_train:\n",
    "    input_dim = max(input_dim,len(i))\n",
    "# input_dim = len(X_train[0])\n",
    "hidden_dim = 128\n",
    "output_dim = 1500\n",
    "learning_rate = 1e-3\n",
    "print(input_dim)\n",
    "# Define the loss function and optimizer\n",
    "criterion = nn.CrossEntropyLoss()\n",
    "# Define the dataloaders\n",
    "train_dataset = SequenceDataset(X_train, y_train)\n",
    "train_loader = DataLoader(train_dataset, batch_size=64, shuffle=True)\n",
    "val_dataset = SequenceDataset(X_val, y_val)\n",
    "val_loader = DataLoader(val_dataset, batch_size=64, shuffle=False)\n"
   ]
  },
  {
   "cell_type": "code",
   "execution_count": null,
   "metadata": {},
   "outputs": [],
   "source": []
  },
  {
   "cell_type": "code",
   "execution_count": 6,
   "metadata": {},
   "outputs": [],
   "source": [
    "\n",
    "# Define the model architecture\n",
    "class RNN(nn.Module):\n",
    "    def __init__(self, input_dim, hidden_dim, output_dim, batch_size):\n",
    "        super(RNN, self).__init__()\n",
    "        self.batch_size=batch_size\n",
    "        # simple 1d conv \n",
    "        self.conv1 = nn.Conv1d(1, 8, 3, padding=1)\n",
    "        self.bn1 = nn.BatchNorm1d(8)\n",
    "        self.relu = nn.ReLU()        \n",
    "        \n",
    "        # parameters for the RNN\n",
    "        self.hidden_dim = hidden_dim\n",
    "        self.input_dim = input_dim\n",
    "        self.output_dim = output_dim\n",
    "\n",
    "        # define the RNN\n",
    "        # self.rnn = nn.LSTM(8*input_dim, hidden_dim, batch_first=True)\n",
    "        self.rnn = nn.RNN(8*input_dim, hidden_dim, batch_first=True)\n",
    "        # define the output layer\n",
    "        self.fc = nn.Linear(hidden_dim, output_dim)    \n",
    "        self.h = self.init_hidden(self.batch_size)    \n",
    "        self.flatten = nn.Flatten()\n",
    "        # self.fc = nn.Linear(8*input_dim, output_dim)\n",
    "        \n",
    "    def init_hidden(self, bsz):\n",
    "        # initialize the hidden state\n",
    "        self.h=torch.zeros(1, bsz, self.hidden_dim).to(device)\n",
    "    \n",
    "    def forward(self, x):\n",
    "        # reshape the input\n",
    "        # x = x.view(self.batch_size, self.input_dim, -1)\n",
    "        x = self.conv1(x)\n",
    "        x = self.bn1(x)\n",
    "        x = self.relu(x)\n",
    "        x = self.flatten(x)\n",
    "        # initialize the hidden state\n",
    "        self.init_hidden(x.shape[0])\n",
    "        # get RNN unit outputs\n",
    "        out, h = self.rnn(x.unsqueeze(1), self.h)\n",
    "        # get the output for the last time step\n",
    "        out = self.fc(out[:, -1, :])\n",
    "        return out"
   ]
  },
  {
   "cell_type": "code",
   "execution_count": 7,
   "metadata": {},
   "outputs": [
    {
     "name": "stdout",
     "output_type": "stream",
     "text": [
      "Using device: cuda:6\n"
     ]
    }
   ],
   "source": [
    "device = torch.device('cuda:6' if torch.cuda.is_available() else 'cpu')\n",
    "print('Using device:', device)\n",
    "rnn = RNN(input_dim, hidden_dim, output_dim, batch_size=64)\n",
    "rnn = rnn.to(device)\n",
    "criterion = criterion.to(device)\n",
    "\n",
    "optimizer = torch.optim.Adam(rnn.parameters(), lr=learning_rate)\n"
   ]
  },
  {
   "cell_type": "code",
   "execution_count": 8,
   "metadata": {},
   "outputs": [
    {
     "name": "stdout",
     "output_type": "stream",
     "text": [
      "Train Loss: 4.2927 Train Acc: 18.7041 %\n",
      "Epoch: 0, Test Accuracy of the model on the test sequences: 36.27004873011263 %\n",
      "{'precision': 0.3719240144743547, 'recall': 0.36735669044085306, 'f1': 0.32531710261567903}\n"
     ]
    },
    {
     "name": "stderr",
     "output_type": "stream",
     "text": [
      "/home/anirudha/miniconda3/envs/cod/lib/python3.9/site-packages/sklearn/metrics/_classification.py:1327: UndefinedMetricWarning: Precision and F-score are ill-defined and being set to 0.0 in labels with no predicted samples. Use `zero_division` parameter to control this behavior.\n",
      "  _warn_prf(average, modifier, msg_start, len(result))\n"
     ]
    },
    {
     "name": "stdout",
     "output_type": "stream",
     "text": [
      "Train Loss: 2.3597 Train Acc: 47.0761 %\n",
      "Epoch: 1, Test Accuracy of the model on the test sequences: 53.306225191209215 %\n",
      "{'precision': 0.5381971276026251, 'recall': 0.5335120526474874, 'f1': 0.5067731308629632}\n"
     ]
    },
    {
     "name": "stderr",
     "output_type": "stream",
     "text": [
      "/home/anirudha/miniconda3/envs/cod/lib/python3.9/site-packages/sklearn/metrics/_classification.py:1327: UndefinedMetricWarning: Precision and F-score are ill-defined and being set to 0.0 in labels with no predicted samples. Use `zero_division` parameter to control this behavior.\n",
      "  _warn_prf(average, modifier, msg_start, len(result))\n"
     ]
    },
    {
     "name": "stdout",
     "output_type": "stream",
     "text": [
      "Train Loss: 1.7119 Train Acc: 60.1520 %\n",
      "Epoch: 2, Test Accuracy of the model on the test sequences: 61.70329493013199 %\n",
      "{'precision': 0.6295597335609329, 'recall': 0.6188084273709336, 'f1': 0.6005461698545397}\n"
     ]
    },
    {
     "name": "stderr",
     "output_type": "stream",
     "text": [
      "/home/anirudha/miniconda3/envs/cod/lib/python3.9/site-packages/sklearn/metrics/_classification.py:1327: UndefinedMetricWarning: Precision and F-score are ill-defined and being set to 0.0 in labels with no predicted samples. Use `zero_division` parameter to control this behavior.\n",
      "  _warn_prf(average, modifier, msg_start, len(result))\n"
     ]
    },
    {
     "name": "stdout",
     "output_type": "stream",
     "text": [
      "Train Loss: 1.3641 Train Acc: 67.3527 %\n",
      "Epoch: 3, Test Accuracy of the model on the test sequences: 66.94420240746119 %\n",
      "{'precision': 0.6754449022112455, 'recall': 0.6721007604944914, 'f1': 0.6557440002475289}\n"
     ]
    },
    {
     "name": "stderr",
     "output_type": "stream",
     "text": [
      "/home/anirudha/miniconda3/envs/cod/lib/python3.9/site-packages/sklearn/metrics/_classification.py:1327: UndefinedMetricWarning: Precision and F-score are ill-defined and being set to 0.0 in labels with no predicted samples. Use `zero_division` parameter to control this behavior.\n",
      "  _warn_prf(average, modifier, msg_start, len(result))\n"
     ]
    },
    {
     "name": "stdout",
     "output_type": "stream",
     "text": [
      "Train Loss: 1.1300 Train Acc: 72.3751 %\n",
      "Epoch: 4, Test Accuracy of the model on the test sequences: 71.05237680317552 %\n",
      "{'precision': 0.717417430207837, 'recall': 0.7116567155806224, 'f1': 0.6978141566804732}\n"
     ]
    },
    {
     "name": "stderr",
     "output_type": "stream",
     "text": [
      "/home/anirudha/miniconda3/envs/cod/lib/python3.9/site-packages/sklearn/metrics/_classification.py:1327: UndefinedMetricWarning: Precision and F-score are ill-defined and being set to 0.0 in labels with no predicted samples. Use `zero_division` parameter to control this behavior.\n",
      "  _warn_prf(average, modifier, msg_start, len(result))\n"
     ]
    },
    {
     "name": "stdout",
     "output_type": "stream",
     "text": [
      "Train Loss: 0.9685 Train Acc: 75.8645 %\n",
      "Epoch: 5, Test Accuracy of the model on the test sequences: 72.7659986445929 %\n",
      "{'precision': 0.7342602026495495, 'recall': 0.7285153135734731, 'f1': 0.7146701308862609}\n"
     ]
    },
    {
     "name": "stderr",
     "output_type": "stream",
     "text": [
      "/home/anirudha/miniconda3/envs/cod/lib/python3.9/site-packages/sklearn/metrics/_classification.py:1327: UndefinedMetricWarning: Precision and F-score are ill-defined and being set to 0.0 in labels with no predicted samples. Use `zero_division` parameter to control this behavior.\n",
      "  _warn_prf(average, modifier, msg_start, len(result))\n"
     ]
    },
    {
     "name": "stdout",
     "output_type": "stream",
     "text": [
      "Train Loss: 0.8524 Train Acc: 78.2615 %\n",
      "Epoch: 6, Test Accuracy of the model on the test sequences: 74.60547971730081 %\n",
      "{'precision': 0.7512842487813347, 'recall': 0.748047165176264, 'f1': 0.7333625019838171}\n"
     ]
    },
    {
     "name": "stderr",
     "output_type": "stream",
     "text": [
      "/home/anirudha/miniconda3/envs/cod/lib/python3.9/site-packages/sklearn/metrics/_classification.py:1327: UndefinedMetricWarning: Precision and F-score are ill-defined and being set to 0.0 in labels with no predicted samples. Use `zero_division` parameter to control this behavior.\n",
      "  _warn_prf(average, modifier, msg_start, len(result))\n"
     ]
    },
    {
     "name": "stdout",
     "output_type": "stream",
     "text": [
      "Train Loss: 0.7670 Train Acc: 80.0219 %\n",
      "Epoch: 7, Test Accuracy of the model on the test sequences: 76.09320037435053 %\n",
      "{'precision': 0.7659801259926378, 'recall': 0.7621838726813206, 'f1': 0.7505179504352734}\n"
     ]
    },
    {
     "name": "stderr",
     "output_type": "stream",
     "text": [
      "/home/anirudha/miniconda3/envs/cod/lib/python3.9/site-packages/sklearn/metrics/_classification.py:1327: UndefinedMetricWarning: Precision and F-score are ill-defined and being set to 0.0 in labels with no predicted samples. Use `zero_division` parameter to control this behavior.\n",
      "  _warn_prf(average, modifier, msg_start, len(result))\n"
     ]
    },
    {
     "name": "stdout",
     "output_type": "stream",
     "text": [
      "Train Loss: 0.7019 Train Acc: 81.4201 %\n",
      "Epoch: 8, Test Accuracy of the model on the test sequences: 76.15451641010746 %\n",
      "{'precision': 0.7712844359288097, 'recall': 0.7631421168528992, 'f1': 0.7517165635385703}\n"
     ]
    },
    {
     "name": "stderr",
     "output_type": "stream",
     "text": [
      "/home/anirudha/miniconda3/envs/cod/lib/python3.9/site-packages/sklearn/metrics/_classification.py:1327: UndefinedMetricWarning: Precision and F-score are ill-defined and being set to 0.0 in labels with no predicted samples. Use `zero_division` parameter to control this behavior.\n",
      "  _warn_prf(average, modifier, msg_start, len(result))\n"
     ]
    },
    {
     "name": "stdout",
     "output_type": "stream",
     "text": [
      "Train Loss: 0.6543 Train Acc: 82.4674 %\n",
      "Epoch: 9, Test Accuracy of the model on the test sequences: 77.57123955207022 %\n",
      "{'precision': 0.7833836915786605, 'recall': 0.7775869132967486, 'f1': 0.7665058265588575}\n"
     ]
    },
    {
     "name": "stderr",
     "output_type": "stream",
     "text": [
      "/home/anirudha/miniconda3/envs/cod/lib/python3.9/site-packages/sklearn/metrics/_classification.py:1327: UndefinedMetricWarning: Precision and F-score are ill-defined and being set to 0.0 in labels with no predicted samples. Use `zero_division` parameter to control this behavior.\n",
      "  _warn_prf(average, modifier, msg_start, len(result))\n"
     ]
    },
    {
     "name": "stdout",
     "output_type": "stream",
     "text": [
      "Train Loss: 0.6154 Train Acc: 83.1628 %\n",
      "Epoch: 10, Test Accuracy of the model on the test sequences: 78.03272340013554 %\n",
      "{'precision': 0.7869343457212884, 'recall': 0.7806578973958582, 'f1': 0.7712282438619144}\n"
     ]
    },
    {
     "name": "stderr",
     "output_type": "stream",
     "text": [
      "/home/anirudha/miniconda3/envs/cod/lib/python3.9/site-packages/sklearn/metrics/_classification.py:1327: UndefinedMetricWarning: Precision and F-score are ill-defined and being set to 0.0 in labels with no predicted samples. Use `zero_division` parameter to control this behavior.\n",
      "  _warn_prf(average, modifier, msg_start, len(result))\n"
     ]
    },
    {
     "name": "stdout",
     "output_type": "stream",
     "text": [
      "Train Loss: 0.5847 Train Acc: 83.9011 %\n",
      "Epoch: 11, Test Accuracy of the model on the test sequences: 77.91009132862168 %\n",
      "{'precision': 0.7887674473332433, 'recall': 0.780940935911174, 'f1': 0.7723034557820195}\n"
     ]
    },
    {
     "name": "stderr",
     "output_type": "stream",
     "text": [
      "/home/anirudha/miniconda3/envs/cod/lib/python3.9/site-packages/sklearn/metrics/_classification.py:1327: UndefinedMetricWarning: Precision and F-score are ill-defined and being set to 0.0 in labels with no predicted samples. Use `zero_division` parameter to control this behavior.\n",
      "  _warn_prf(average, modifier, msg_start, len(result))\n"
     ]
    },
    {
     "name": "stdout",
     "output_type": "stream",
     "text": [
      "Train Loss: 0.5573 Train Acc: 84.4553 %\n",
      "Epoch: 12, Test Accuracy of the model on the test sequences: 78.82660470519896 %\n",
      "{'precision': 0.7976568285032967, 'recall': 0.7896627372657921, 'f1': 0.7807701370674864}\n"
     ]
    },
    {
     "name": "stderr",
     "output_type": "stream",
     "text": [
      "/home/anirudha/miniconda3/envs/cod/lib/python3.9/site-packages/sklearn/metrics/_classification.py:1327: UndefinedMetricWarning: Precision and F-score are ill-defined and being set to 0.0 in labels with no predicted samples. Use `zero_division` parameter to control this behavior.\n",
      "  _warn_prf(average, modifier, msg_start, len(result))\n"
     ]
    },
    {
     "name": "stdout",
     "output_type": "stream",
     "text": [
      "Train Loss: 0.5346 Train Acc: 85.0064 %\n",
      "Epoch: 13, Test Accuracy of the model on the test sequences: 78.97828121470295 %\n",
      "{'precision': 0.797511157965856, 'recall': 0.7912654977411647, 'f1': 0.7814424612077179}\n"
     ]
    },
    {
     "name": "stderr",
     "output_type": "stream",
     "text": [
      "/home/anirudha/miniconda3/envs/cod/lib/python3.9/site-packages/sklearn/metrics/_classification.py:1327: UndefinedMetricWarning: Precision and F-score are ill-defined and being set to 0.0 in labels with no predicted samples. Use `zero_division` parameter to control this behavior.\n",
      "  _warn_prf(average, modifier, msg_start, len(result))\n"
     ]
    },
    {
     "name": "stdout",
     "output_type": "stream",
     "text": [
      "Train Loss: 0.5160 Train Acc: 85.3323 %\n",
      "Epoch: 14, Test Accuracy of the model on the test sequences: 79.24290831639074 %\n",
      "{'precision': 0.8014872161001206, 'recall': 0.7952546163674283, 'f1': 0.7849958881709465}\n"
     ]
    },
    {
     "name": "stderr",
     "output_type": "stream",
     "text": [
      "/home/anirudha/miniconda3/envs/cod/lib/python3.9/site-packages/sklearn/metrics/_classification.py:1327: UndefinedMetricWarning: Precision and F-score are ill-defined and being set to 0.0 in labels with no predicted samples. Use `zero_division` parameter to control this behavior.\n",
      "  _warn_prf(average, modifier, msg_start, len(result))\n"
     ]
    },
    {
     "name": "stdout",
     "output_type": "stream",
     "text": [
      "Train Loss: 0.5003 Train Acc: 85.6462 %\n",
      "Epoch: 15, Test Accuracy of the model on the test sequences: 79.14286636331364 %\n",
      "{'precision': 0.7999819711869013, 'recall': 0.7934976959965054, 'f1': 0.7847467417290303}\n"
     ]
    },
    {
     "name": "stderr",
     "output_type": "stream",
     "text": [
      "/home/anirudha/miniconda3/envs/cod/lib/python3.9/site-packages/sklearn/metrics/_classification.py:1327: UndefinedMetricWarning: Precision and F-score are ill-defined and being set to 0.0 in labels with no predicted samples. Use `zero_division` parameter to control this behavior.\n",
      "  _warn_prf(average, modifier, msg_start, len(result))\n"
     ]
    },
    {
     "name": "stdout",
     "output_type": "stream",
     "text": [
      "Train Loss: 0.4854 Train Acc: 85.9358 %\n",
      "Epoch: 16, Test Accuracy of the model on the test sequences: 79.58498725271888 %\n",
      "{'precision': 0.8053206063440814, 'recall': 0.7972919683428087, 'f1': 0.7890215591319081}\n"
     ]
    },
    {
     "name": "stderr",
     "output_type": "stream",
     "text": [
      "/home/anirudha/miniconda3/envs/cod/lib/python3.9/site-packages/sklearn/metrics/_classification.py:1327: UndefinedMetricWarning: Precision and F-score are ill-defined and being set to 0.0 in labels with no predicted samples. Use `zero_division` parameter to control this behavior.\n",
      "  _warn_prf(average, modifier, msg_start, len(result))\n"
     ]
    },
    {
     "name": "stdout",
     "output_type": "stream",
     "text": [
      "Train Loss: 0.4708 Train Acc: 86.3336 %\n",
      "Epoch: 17, Test Accuracy of the model on the test sequences: 80.11746861587118 %\n",
      "{'precision': 0.8088886929448248, 'recall': 0.8027809295829106, 'f1': 0.7942274061062188}\n"
     ]
    },
    {
     "name": "stderr",
     "output_type": "stream",
     "text": [
      "/home/anirudha/miniconda3/envs/cod/lib/python3.9/site-packages/sklearn/metrics/_classification.py:1327: UndefinedMetricWarning: Precision and F-score are ill-defined and being set to 0.0 in labels with no predicted samples. Use `zero_division` parameter to control this behavior.\n",
      "  _warn_prf(average, modifier, msg_start, len(result))\n"
     ]
    },
    {
     "name": "stdout",
     "output_type": "stream",
     "text": [
      "Train Loss: 0.4604 Train Acc: 86.5595 %\n",
      "Epoch: 18, Test Accuracy of the model on the test sequences: 80.04324394100752 %\n",
      "{'precision': 0.8108523170758138, 'recall': 0.8026692852213757, 'f1': 0.7945439586296097}\n"
     ]
    },
    {
     "name": "stderr",
     "output_type": "stream",
     "text": [
      "/home/anirudha/miniconda3/envs/cod/lib/python3.9/site-packages/sklearn/metrics/_classification.py:1327: UndefinedMetricWarning: Precision and F-score are ill-defined and being set to 0.0 in labels with no predicted samples. Use `zero_division` parameter to control this behavior.\n",
      "  _warn_prf(average, modifier, msg_start, len(result))\n"
     ]
    },
    {
     "name": "stdout",
     "output_type": "stream",
     "text": [
      "Train Loss: 0.4482 Train Acc: 86.8620 %\n",
      "Epoch: 19, Test Accuracy of the model on the test sequences: 79.8302513957466 %\n",
      "{'precision': 0.8070049691246501, 'recall': 0.8002140862550229, 'f1': 0.7915410689076755}\n"
     ]
    },
    {
     "name": "stderr",
     "output_type": "stream",
     "text": [
      "/home/anirudha/miniconda3/envs/cod/lib/python3.9/site-packages/sklearn/metrics/_classification.py:1327: UndefinedMetricWarning: Precision and F-score are ill-defined and being set to 0.0 in labels with no predicted samples. Use `zero_division` parameter to control this behavior.\n",
      "  _warn_prf(average, modifier, msg_start, len(result))\n"
     ]
    },
    {
     "name": "stdout",
     "output_type": "stream",
     "text": [
      "Train Loss: 0.4403 Train Acc: 86.9306 %\n",
      "Epoch: 20, Test Accuracy of the model on the test sequences: 80.03033530190079 %\n",
      "{'precision': 0.8096205617727115, 'recall': 0.8001452231138372, 'f1': 0.7930641854207956}\n"
     ]
    },
    {
     "name": "stderr",
     "output_type": "stream",
     "text": [
      "/home/anirudha/miniconda3/envs/cod/lib/python3.9/site-packages/sklearn/metrics/_classification.py:1327: UndefinedMetricWarning: Precision and F-score are ill-defined and being set to 0.0 in labels with no predicted samples. Use `zero_division` parameter to control this behavior.\n",
      "  _warn_prf(average, modifier, msg_start, len(result))\n"
     ]
    },
    {
     "name": "stdout",
     "output_type": "stream",
     "text": [
      "Train Loss: 0.4298 Train Acc: 87.2622 %\n",
      "Epoch: 21, Test Accuracy of the model on the test sequences: 80.53699938683964 %\n",
      "{'precision': 0.8119198612847557, 'recall': 0.8060136715381147, 'f1': 0.798105893663717}\n"
     ]
    },
    {
     "name": "stderr",
     "output_type": "stream",
     "text": [
      "/home/anirudha/miniconda3/envs/cod/lib/python3.9/site-packages/sklearn/metrics/_classification.py:1327: UndefinedMetricWarning: Precision and F-score are ill-defined and being set to 0.0 in labels with no predicted samples. Use `zero_division` parameter to control this behavior.\n",
      "  _warn_prf(average, modifier, msg_start, len(result))\n"
     ]
    },
    {
     "name": "stdout",
     "output_type": "stream",
     "text": [
      "Train Loss: 0.4192 Train Acc: 87.4841 %\n",
      "Epoch: 22, Test Accuracy of the model on the test sequences: 80.12069577564785 %\n",
      "{'precision': 0.8128182033108693, 'recall': 0.8034310809145018, 'f1': 0.7955801508975796}\n"
     ]
    },
    {
     "name": "stderr",
     "output_type": "stream",
     "text": [
      "/home/anirudha/miniconda3/envs/cod/lib/python3.9/site-packages/sklearn/metrics/_classification.py:1327: UndefinedMetricWarning: Precision and F-score are ill-defined and being set to 0.0 in labels with no predicted samples. Use `zero_division` parameter to control this behavior.\n",
      "  _warn_prf(average, modifier, msg_start, len(result))\n"
     ]
    },
    {
     "name": "stdout",
     "output_type": "stream",
     "text": [
      "Train Loss: 0.4135 Train Acc: 87.6188 %\n",
      "Epoch: 23, Test Accuracy of the model on the test sequences: 80.8435795656243 %\n",
      "{'precision': 0.8189820067503673, 'recall': 0.8093779434439393, 'f1': 0.8029104686193356}\n"
     ]
    },
    {
     "name": "stderr",
     "output_type": "stream",
     "text": [
      "/home/anirudha/miniconda3/envs/cod/lib/python3.9/site-packages/sklearn/metrics/_classification.py:1327: UndefinedMetricWarning: Precision and F-score are ill-defined and being set to 0.0 in labels with no predicted samples. Use `zero_division` parameter to control this behavior.\n",
      "  _warn_prf(average, modifier, msg_start, len(result))\n"
     ]
    },
    {
     "name": "stdout",
     "output_type": "stream",
     "text": [
      "Train Loss: 0.4067 Train Acc: 87.6737 %\n",
      "Epoch: 24, Test Accuracy of the model on the test sequences: 80.82744376674088 %\n",
      "{'precision': 0.8159706049172869, 'recall': 0.8107344797256567, 'f1': 0.8024823972786019}\n"
     ]
    },
    {
     "name": "stderr",
     "output_type": "stream",
     "text": [
      "/home/anirudha/miniconda3/envs/cod/lib/python3.9/site-packages/sklearn/metrics/_classification.py:1327: UndefinedMetricWarning: Precision and F-score are ill-defined and being set to 0.0 in labels with no predicted samples. Use `zero_division` parameter to control this behavior.\n",
      "  _warn_prf(average, modifier, msg_start, len(result))\n"
     ]
    },
    {
     "name": "stdout",
     "output_type": "stream",
     "text": [
      "Train Loss: 0.4009 Train Acc: 87.8471 %\n",
      "Epoch: 25, Test Accuracy of the model on the test sequences: 80.74676477232387 %\n",
      "{'precision': 0.8141915696171582, 'recall': 0.8092859989795655, 'f1': 0.801106877206941}\n"
     ]
    },
    {
     "name": "stderr",
     "output_type": "stream",
     "text": [
      "/home/anirudha/miniconda3/envs/cod/lib/python3.9/site-packages/sklearn/metrics/_classification.py:1327: UndefinedMetricWarning: Precision and F-score are ill-defined and being set to 0.0 in labels with no predicted samples. Use `zero_division` parameter to control this behavior.\n",
      "  _warn_prf(average, modifier, msg_start, len(result))\n"
     ]
    },
    {
     "name": "stdout",
     "output_type": "stream",
     "text": [
      "Train Loss: 0.3925 Train Acc: 88.1142 %\n",
      "Epoch: 26, Test Accuracy of the model on the test sequences: 80.80485364830413 %\n",
      "{'precision': 0.8136084030450851, 'recall': 0.8093596512647837, 'f1': 0.8019513329708173}\n"
     ]
    },
    {
     "name": "stderr",
     "output_type": "stream",
     "text": [
      "/home/anirudha/miniconda3/envs/cod/lib/python3.9/site-packages/sklearn/metrics/_classification.py:1327: UndefinedMetricWarning: Precision and F-score are ill-defined and being set to 0.0 in labels with no predicted samples. Use `zero_division` parameter to control this behavior.\n",
      "  _warn_prf(average, modifier, msg_start, len(result))\n"
     ]
    },
    {
     "name": "stdout",
     "output_type": "stream",
     "text": [
      "Train Loss: 0.3854 Train Acc: 88.1795 %\n",
      "Epoch: 27, Test Accuracy of the model on the test sequences: 80.65317713880015 %\n",
      "{'precision': 0.8150083467904923, 'recall': 0.8072217898915801, 'f1': 0.8000113895249737}\n"
     ]
    },
    {
     "name": "stderr",
     "output_type": "stream",
     "text": [
      "/home/anirudha/miniconda3/envs/cod/lib/python3.9/site-packages/sklearn/metrics/_classification.py:1327: UndefinedMetricWarning: Precision and F-score are ill-defined and being set to 0.0 in labels with no predicted samples. Use `zero_division` parameter to control this behavior.\n",
      "  _warn_prf(average, modifier, msg_start, len(result))\n"
     ]
    },
    {
     "name": "stdout",
     "output_type": "stream",
     "text": [
      "Train Loss: 0.3806 Train Acc: 88.3449 %\n",
      "Epoch: 28, Test Accuracy of the model on the test sequences: 81.14693258463227 %\n",
      "{'precision': 0.8205336665935594, 'recall': 0.813888739595974, 'f1': 0.8059361001865526}\n"
     ]
    },
    {
     "name": "stderr",
     "output_type": "stream",
     "text": [
      "/home/anirudha/miniconda3/envs/cod/lib/python3.9/site-packages/sklearn/metrics/_classification.py:1327: UndefinedMetricWarning: Precision and F-score are ill-defined and being set to 0.0 in labels with no predicted samples. Use `zero_division` parameter to control this behavior.\n",
      "  _warn_prf(average, modifier, msg_start, len(result))\n"
     ]
    },
    {
     "name": "stdout",
     "output_type": "stream",
     "text": [
      "Train Loss: 0.3766 Train Acc: 88.4296 %\n",
      "Epoch: 29, Test Accuracy of the model on the test sequences: 80.76935489076064 %\n",
      "{'precision': 0.8183177596808752, 'recall': 0.8089696146843438, 'f1': 0.8025434574255178}\n"
     ]
    },
    {
     "name": "stderr",
     "output_type": "stream",
     "text": [
      "/home/anirudha/miniconda3/envs/cod/lib/python3.9/site-packages/sklearn/metrics/_classification.py:1327: UndefinedMetricWarning: Precision and F-score are ill-defined and being set to 0.0 in labels with no predicted samples. Use `zero_division` parameter to control this behavior.\n",
      "  _warn_prf(average, modifier, msg_start, len(result))\n"
     ]
    },
    {
     "name": "stdout",
     "output_type": "stream",
     "text": [
      "Train Loss: 0.3697 Train Acc: 88.6475 %\n",
      "Epoch: 30, Test Accuracy of the model on the test sequences: 81.14693258463227 %\n",
      "{'precision': 0.82060798771612, 'recall': 0.8132676841434926, 'f1': 0.8059152668063948}\n"
     ]
    },
    {
     "name": "stderr",
     "output_type": "stream",
     "text": [
      "/home/anirudha/miniconda3/envs/cod/lib/python3.9/site-packages/sklearn/metrics/_classification.py:1327: UndefinedMetricWarning: Precision and F-score are ill-defined and being set to 0.0 in labels with no predicted samples. Use `zero_division` parameter to control this behavior.\n",
      "  _warn_prf(average, modifier, msg_start, len(result))\n"
     ]
    },
    {
     "name": "stdout",
     "output_type": "stream",
     "text": [
      "Train Loss: 0.3662 Train Acc: 88.6838 %\n",
      "Epoch: 31, Test Accuracy of the model on the test sequences: 80.40145867621906 %\n",
      "{'precision': 0.8135793018723707, 'recall': 0.8044748086600864, 'f1': 0.7971674962853424}\n"
     ]
    },
    {
     "name": "stderr",
     "output_type": "stream",
     "text": [
      "/home/anirudha/miniconda3/envs/cod/lib/python3.9/site-packages/sklearn/metrics/_classification.py:1327: UndefinedMetricWarning: Precision and F-score are ill-defined and being set to 0.0 in labels with no predicted samples. Use `zero_division` parameter to control this behavior.\n",
      "  _warn_prf(average, modifier, msg_start, len(result))\n"
     ]
    },
    {
     "name": "stdout",
     "output_type": "stream",
     "text": [
      "Train Loss: 0.3608 Train Acc: 88.7693 %\n",
      "Epoch: 32, Test Accuracy of the model on the test sequences: 81.16629554329235 %\n",
      "{'precision': 0.8207044709071316, 'recall': 0.8127094180022268, 'f1': 0.8065362265812807}\n"
     ]
    },
    {
     "name": "stderr",
     "output_type": "stream",
     "text": [
      "/home/anirudha/miniconda3/envs/cod/lib/python3.9/site-packages/sklearn/metrics/_classification.py:1327: UndefinedMetricWarning: Precision and F-score are ill-defined and being set to 0.0 in labels with no predicted samples. Use `zero_division` parameter to control this behavior.\n",
      "  _warn_prf(average, modifier, msg_start, len(result))\n"
     ]
    },
    {
     "name": "stdout",
     "output_type": "stream",
     "text": [
      "Train Loss: 0.3577 Train Acc: 88.8338 %\n",
      "Epoch: 33, Test Accuracy of the model on the test sequences: 81.1243424661955 %\n",
      "{'precision': 0.8208205529982461, 'recall': 0.8138246889720837, 'f1': 0.8066956674403027}\n"
     ]
    },
    {
     "name": "stderr",
     "output_type": "stream",
     "text": [
      "/home/anirudha/miniconda3/envs/cod/lib/python3.9/site-packages/sklearn/metrics/_classification.py:1327: UndefinedMetricWarning: Precision and F-score are ill-defined and being set to 0.0 in labels with no predicted samples. Use `zero_division` parameter to control this behavior.\n",
      "  _warn_prf(average, modifier, msg_start, len(result))\n"
     ]
    },
    {
     "name": "stdout",
     "output_type": "stream",
     "text": [
      "Train Loss: 0.3527 Train Acc: 88.9492 %\n",
      "Epoch: 34, Test Accuracy of the model on the test sequences: 81.10497950753542 %\n",
      "{'precision': 0.819525776958536, 'recall': 0.8119470846579546, 'f1': 0.8043614239134037}\n"
     ]
    },
    {
     "name": "stderr",
     "output_type": "stream",
     "text": [
      "/home/anirudha/miniconda3/envs/cod/lib/python3.9/site-packages/sklearn/metrics/_classification.py:1327: UndefinedMetricWarning: Precision and F-score are ill-defined and being set to 0.0 in labels with no predicted samples. Use `zero_division` parameter to control this behavior.\n",
      "  _warn_prf(average, modifier, msg_start, len(result))\n"
     ]
    },
    {
     "name": "stdout",
     "output_type": "stream",
     "text": [
      "Train Loss: 0.3483 Train Acc: 89.0646 %\n",
      "Epoch: 35, Test Accuracy of the model on the test sequences: 80.927485719818 %\n",
      "{'precision': 0.8194190738143571, 'recall': 0.8119584295159689, 'f1': 0.8040248255849262}\n"
     ]
    },
    {
     "name": "stderr",
     "output_type": "stream",
     "text": [
      "/home/anirudha/miniconda3/envs/cod/lib/python3.9/site-packages/sklearn/metrics/_classification.py:1327: UndefinedMetricWarning: Precision and F-score are ill-defined and being set to 0.0 in labels with no predicted samples. Use `zero_division` parameter to control this behavior.\n",
      "  _warn_prf(average, modifier, msg_start, len(result))\n"
     ]
    },
    {
     "name": "stdout",
     "output_type": "stream",
     "text": [
      "Train Loss: 0.3434 Train Acc: 89.2534 %\n",
      "Epoch: 36, Test Accuracy of the model on the test sequences: 81.32442637234969 %\n",
      "{'precision': 0.8255700344436112, 'recall': 0.8150617030091674, 'f1': 0.808910182138932}\n"
     ]
    },
    {
     "name": "stderr",
     "output_type": "stream",
     "text": [
      "/home/anirudha/miniconda3/envs/cod/lib/python3.9/site-packages/sklearn/metrics/_classification.py:1327: UndefinedMetricWarning: Precision and F-score are ill-defined and being set to 0.0 in labels with no predicted samples. Use `zero_division` parameter to control this behavior.\n",
      "  _warn_prf(average, modifier, msg_start, len(result))\n"
     ]
    },
    {
     "name": "stdout",
     "output_type": "stream",
     "text": [
      "Train Loss: 0.3404 Train Acc: 89.2897 %\n",
      "Epoch: 37, Test Accuracy of the model on the test sequences: 81.21793009971924 %\n",
      "{'precision': 0.8233394694636563, 'recall': 0.8137790850639053, 'f1': 0.8067947008636547}\n"
     ]
    },
    {
     "name": "stderr",
     "output_type": "stream",
     "text": [
      "/home/anirudha/miniconda3/envs/cod/lib/python3.9/site-packages/sklearn/metrics/_classification.py:1327: UndefinedMetricWarning: Precision and F-score are ill-defined and being set to 0.0 in labels with no predicted samples. Use `zero_division` parameter to control this behavior.\n",
      "  _warn_prf(average, modifier, msg_start, len(result))\n"
     ]
    },
    {
     "name": "stdout",
     "output_type": "stream",
     "text": [
      "Train Loss: 0.3362 Train Acc: 89.4632 %\n",
      "Epoch: 38, Test Accuracy of the model on the test sequences: 81.45028560364024 %\n",
      "{'precision': 0.8231198070288938, 'recall': 0.8155216272183378, 'f1': 0.8086089957470234}\n"
     ]
    },
    {
     "name": "stderr",
     "output_type": "stream",
     "text": [
      "/home/anirudha/miniconda3/envs/cod/lib/python3.9/site-packages/sklearn/metrics/_classification.py:1327: UndefinedMetricWarning: Precision and F-score are ill-defined and being set to 0.0 in labels with no predicted samples. Use `zero_division` parameter to control this behavior.\n",
      "  _warn_prf(average, modifier, msg_start, len(result))\n"
     ]
    },
    {
     "name": "stdout",
     "output_type": "stream",
     "text": [
      "Train Loss: 0.3345 Train Acc: 89.4930 %\n",
      "Epoch: 39, Test Accuracy of the model on the test sequences: 81.63423371091103 %\n",
      "{'precision': 0.8259504315213747, 'recall': 0.818391077104868, 'f1': 0.8114966029363582}\n"
     ]
    },
    {
     "name": "stderr",
     "output_type": "stream",
     "text": [
      "/home/anirudha/miniconda3/envs/cod/lib/python3.9/site-packages/sklearn/metrics/_classification.py:1327: UndefinedMetricWarning: Precision and F-score are ill-defined and being set to 0.0 in labels with no predicted samples. Use `zero_division` parameter to control this behavior.\n",
      "  _warn_prf(average, modifier, msg_start, len(result))\n"
     ]
    },
    {
     "name": "stdout",
     "output_type": "stream",
     "text": [
      "Train Loss: 0.3307 Train Acc: 89.5261 %\n",
      "Epoch: 40, Test Accuracy of the model on the test sequences: 81.31151773324298 %\n",
      "{'precision': 0.8234333163414367, 'recall': 0.8154582676069853, 'f1': 0.8091466366857237}\n"
     ]
    },
    {
     "name": "stderr",
     "output_type": "stream",
     "text": [
      "/home/anirudha/miniconda3/envs/cod/lib/python3.9/site-packages/sklearn/metrics/_classification.py:1327: UndefinedMetricWarning: Precision and F-score are ill-defined and being set to 0.0 in labels with no predicted samples. Use `zero_division` parameter to control this behavior.\n",
      "  _warn_prf(average, modifier, msg_start, len(result))\n"
     ]
    },
    {
     "name": "stdout",
     "output_type": "stream",
     "text": [
      "Train Loss: 0.3255 Train Acc: 89.7092 %\n",
      "Epoch: 41, Test Accuracy of the model on the test sequences: 81.67618678800787 %\n",
      "{'precision': 0.8223765563773047, 'recall': 0.8182375589017465, 'f1': 0.8108878673544517}\n"
     ]
    },
    {
     "name": "stderr",
     "output_type": "stream",
     "text": [
      "/home/anirudha/miniconda3/envs/cod/lib/python3.9/site-packages/sklearn/metrics/_classification.py:1327: UndefinedMetricWarning: Precision and F-score are ill-defined and being set to 0.0 in labels with no predicted samples. Use `zero_division` parameter to control this behavior.\n",
      "  _warn_prf(average, modifier, msg_start, len(result))\n"
     ]
    },
    {
     "name": "stdout",
     "output_type": "stream",
     "text": [
      "Train Loss: 0.3232 Train Acc: 89.7843 %\n",
      "Epoch: 42, Test Accuracy of the model on the test sequences: 81.8375447768419 %\n",
      "{'precision': 0.8269848404531946, 'recall': 0.82000546695176, 'f1': 0.8128390367787709}\n"
     ]
    },
    {
     "name": "stderr",
     "output_type": "stream",
     "text": [
      "/home/anirudha/miniconda3/envs/cod/lib/python3.9/site-packages/sklearn/metrics/_classification.py:1327: UndefinedMetricWarning: Precision and F-score are ill-defined and being set to 0.0 in labels with no predicted samples. Use `zero_division` parameter to control this behavior.\n",
      "  _warn_prf(average, modifier, msg_start, len(result))\n"
     ]
    },
    {
     "name": "stdout",
     "output_type": "stream",
     "text": [
      "Train Loss: 0.3212 Train Acc: 89.7964 %\n",
      "Epoch: 43, Test Accuracy of the model on the test sequences: 81.70845838577468 %\n",
      "{'precision': 0.8251397594020009, 'recall': 0.817481165939303, 'f1': 0.8114118399104576}\n"
     ]
    },
    {
     "name": "stderr",
     "output_type": "stream",
     "text": [
      "/home/anirudha/miniconda3/envs/cod/lib/python3.9/site-packages/sklearn/metrics/_classification.py:1327: UndefinedMetricWarning: Precision and F-score are ill-defined and being set to 0.0 in labels with no predicted samples. Use `zero_division` parameter to control this behavior.\n",
      "  _warn_prf(average, modifier, msg_start, len(result))\n"
     ]
    },
    {
     "name": "stdout",
     "output_type": "stream",
     "text": [
      "Train Loss: 0.3169 Train Acc: 89.8399 %\n",
      "Epoch: 44, Test Accuracy of the model on the test sequences: 81.80204601929842 %\n",
      "{'precision': 0.825105328127502, 'recall': 0.8187165451222376, 'f1': 0.8124103370919332}\n"
     ]
    },
    {
     "name": "stderr",
     "output_type": "stream",
     "text": [
      "/home/anirudha/miniconda3/envs/cod/lib/python3.9/site-packages/sklearn/metrics/_classification.py:1327: UndefinedMetricWarning: Precision and F-score are ill-defined and being set to 0.0 in labels with no predicted samples. Use `zero_division` parameter to control this behavior.\n",
      "  _warn_prf(average, modifier, msg_start, len(result))\n"
     ]
    },
    {
     "name": "stdout",
     "output_type": "stream",
     "text": [
      "Train Loss: 0.3148 Train Acc: 89.9359 %\n",
      "Epoch: 45, Test Accuracy of the model on the test sequences: 81.472875722077 %\n",
      "{'precision': 0.8234788236667305, 'recall': 0.8154675930660488, 'f1': 0.8093108986768968}\n"
     ]
    },
    {
     "name": "stderr",
     "output_type": "stream",
     "text": [
      "/home/anirudha/miniconda3/envs/cod/lib/python3.9/site-packages/sklearn/metrics/_classification.py:1327: UndefinedMetricWarning: Precision and F-score are ill-defined and being set to 0.0 in labels with no predicted samples. Use `zero_division` parameter to control this behavior.\n",
      "  _warn_prf(average, modifier, msg_start, len(result))\n"
     ]
    },
    {
     "name": "stdout",
     "output_type": "stream",
     "text": [
      "Train Loss: 0.3119 Train Acc: 90.0537 %\n",
      "Epoch: 46, Test Accuracy of the model on the test sequences: 81.5051473198438 %\n",
      "{'precision': 0.8214921028354256, 'recall': 0.8171117210925045, 'f1': 0.809571708755337}\n"
     ]
    },
    {
     "name": "stderr",
     "output_type": "stream",
     "text": [
      "/home/anirudha/miniconda3/envs/cod/lib/python3.9/site-packages/sklearn/metrics/_classification.py:1327: UndefinedMetricWarning: Precision and F-score are ill-defined and being set to 0.0 in labels with no predicted samples. Use `zero_division` parameter to control this behavior.\n",
      "  _warn_prf(average, modifier, msg_start, len(result))\n"
     ]
    },
    {
     "name": "stdout",
     "output_type": "stream",
     "text": [
      "Train Loss: 0.3092 Train Acc: 90.1522 %\n",
      "Epoch: 47, Test Accuracy of the model on the test sequences: 81.88272501371543 %\n",
      "{'precision': 0.8271668575939382, 'recall': 0.8201213697881872, 'f1': 0.813249118810616}\n"
     ]
    },
    {
     "name": "stderr",
     "output_type": "stream",
     "text": [
      "/home/anirudha/miniconda3/envs/cod/lib/python3.9/site-packages/sklearn/metrics/_classification.py:1327: UndefinedMetricWarning: Precision and F-score are ill-defined and being set to 0.0 in labels with no predicted samples. Use `zero_division` parameter to control this behavior.\n",
      "  _warn_prf(average, modifier, msg_start, len(result))\n"
     ]
    },
    {
     "name": "stdout",
     "output_type": "stream",
     "text": [
      "Train Loss: 0.3084 Train Acc: 90.0045 %\n",
      "Epoch: 48, Test Accuracy of the model on the test sequences: 81.74718430309484 %\n",
      "{'precision': 0.8263390971586377, 'recall': 0.8180449800287127, 'f1': 0.8108010770695252}\n"
     ]
    },
    {
     "name": "stderr",
     "output_type": "stream",
     "text": [
      "/home/anirudha/miniconda3/envs/cod/lib/python3.9/site-packages/sklearn/metrics/_classification.py:1327: UndefinedMetricWarning: Precision and F-score are ill-defined and being set to 0.0 in labels with no predicted samples. Use `zero_division` parameter to control this behavior.\n",
      "  _warn_prf(average, modifier, msg_start, len(result))\n"
     ]
    },
    {
     "name": "stdout",
     "output_type": "stream",
     "text": [
      "Train Loss: 0.3035 Train Acc: 90.1990 %\n",
      "Epoch: 49, Test Accuracy of the model on the test sequences: 81.97308548746248 %\n",
      "{'precision': 0.8275994097483517, 'recall': 0.8210039022559237, 'f1': 0.8149194164143234}\n"
     ]
    },
    {
     "name": "stderr",
     "output_type": "stream",
     "text": [
      "/home/anirudha/miniconda3/envs/cod/lib/python3.9/site-packages/sklearn/metrics/_classification.py:1327: UndefinedMetricWarning: Precision and F-score are ill-defined and being set to 0.0 in labels with no predicted samples. Use `zero_division` parameter to control this behavior.\n",
      "  _warn_prf(average, modifier, msg_start, len(result))\n"
     ]
    }
   ],
   "source": [
    "from sklearn.metrics import precision_recall_fscore_support\n",
    "def get_precision_recall_f1(y_true, y_pred):\n",
    "    \"\"\"Calculate precision, recall, F1 score for each class.\n",
    "    Args:\n",
    "        y_true (list): list of true labels\n",
    "        y_pred (list): list of predicted labels\n",
    "    Returns:\n",
    "        dict: dictionary with precision, recall, F1 score for each class\n",
    "    \"\"\"\n",
    "    # Calculate precision, recall, F1 score for each class\n",
    "    precision, recall, f1, _ = precision_recall_fscore_support(y_true, y_pred, average='macro')\n",
    "    return {\n",
    "        \"precision\": precision,\n",
    "        \"recall\": recall,\n",
    "        \"f1\": f1\n",
    "    }\n",
    "\n",
    "num_epochs = 50\n",
    "# optimizer = optimizer.to(device)\n",
    "for epoch in range(num_epochs):\n",
    "    running_loss = 0.0\n",
    "    running_corrects = 0\n",
    "    rnn.train()\n",
    "    for sequences, labels in train_loader:\n",
    "        optimizer.zero_grad()\n",
    "        labels = labels.to(device)\n",
    "        sequences = sequences.to(device)\n",
    "        sequences = sequences.unsqueeze(1)\n",
    "        outputs = rnn(sequences)\n",
    "        \n",
    "        # print(sequences.shape)\n",
    "        # print(outputs.shape)\n",
    "        # print(labels.shape)\n",
    "        loss = criterion(outputs, labels)\n",
    "        loss.backward()\n",
    "        optimizer.step()\n",
    "        running_loss += loss.item() * sequences.size(0)\n",
    "        _, preds = torch.max(outputs, 1)\n",
    "        running_corrects += torch.sum(preds == labels)\n",
    "    epoch_loss = running_loss / len(train_dataset)\n",
    "    epoch_acc = running_corrects.double() /len(train_dataset)\n",
    "    print('Train Loss: {:.4f} Train Acc: {:.4f} %'.format(epoch_loss, epoch_acc*100))\n",
    "    \n",
    "    # test the model\n",
    "    rnn.eval()\n",
    "    with torch.no_grad():\n",
    "        correct = 0\n",
    "        total = 0\n",
    "        total_preds = []\n",
    "        total_labels = []\n",
    "        for sequences, labels in val_loader:\n",
    "            sequences = sequences.to(device)\n",
    "            labels = labels.to(device)\n",
    "            sequences = sequences.unsqueeze(1)\n",
    "            outputs = rnn(sequences)\n",
    "            _, predicted = torch.max(outputs.data, 1)\n",
    "            total += labels.size(0)\n",
    "            correct += (predicted == labels).sum().item()\n",
    "            total_preds.append(predicted)\n",
    "            total_labels.append(labels)\n",
    "        \n",
    "        print('Epoch: {}, Test Accuracy of the model on the test sequences: {} %'.format(epoch, 100 * correct / total))\n",
    "        total_preds = torch.cat(total_preds, dim=0)\n",
    "        total_labels = torch.cat(total_labels, dim=0)\n",
    "        print(get_precision_recall_f1(total_labels.cpu(), total_preds.cpu()))"
   ]
  },
  {
   "cell_type": "code",
   "execution_count": 9,
   "metadata": {},
   "outputs": [],
   "source": [
    "# save model\n",
    "torch.save(rnn.state_dict(), 'rnn_model_.ckpt')\n"
   ]
  },
  {
   "cell_type": "code",
   "execution_count": null,
   "metadata": {},
   "outputs": [],
   "source": [
    "print(total_preds.unique().shape)\n",
    "print(total_labels.unique().shape)\n",
    "print(\"Accuracy:{:.4f}\".format(torch.sum(total_preds == total_labels).item()/len(total_labels)))\n",
    "print(total_preds.shape)\n",
    "print(\"Precision:{:.4f} Recall:{:.4f} F1:{:.4f}\".format(get_precision_recall_f1(total_labels.cpu(), total_preds.cpu())['precision'], get_precision_recall_f1(total_labels.cpu(), total_preds.cpu())['recall'], get_precision_recall_f1(total_labels.cpu(), total_preds.cpu())['f1']))"
   ]
  },
  {
   "cell_type": "code",
   "execution_count": null,
   "metadata": {},
   "outputs": [],
   "source": [
    "# Evaluate the model\n",
    "running_loss = 0.0\n",
    "running_corrects = 0\n",
    "rnn.eval()\n",
    "with torch.no_grad():\n",
    "    for sequences, labels in val_loader:\n",
    "        labels = labels.to(device)\n",
    "        sequences = sequences.to(device)\n",
    "        sequences = sequences.unsqueeze(1)\n",
    "        outputs = rnn(sequences)\n",
    "        loss = criterion(outputs, labels)\n",
    "        running_loss += loss.item() * sequences.size(0)\n",
    "        _, preds = torch.max(outputs, 1)\n",
    "        running_corrects += torch.sum(preds == labels)\n",
    "epoch_loss = running_loss / len(val_dataset)\n",
    "epoch_acc = running_corrects.double() / len(val_dataset)\n",
    "print('Val Loss: {:.4f} Val Acc: {:.4f}'.format(epoch_loss, epoch_acc))\n"
   ]
  },
  {
   "cell_type": "code",
   "execution_count": null,
   "metadata": {},
   "outputs": [],
   "source": [
    "accuracy = model.predict(test_data)\n",
    "print(\"Accuracy: \", accuracy,\"%\")"
   ]
  },
  {
   "cell_type": "code",
   "execution_count": null,
   "metadata": {},
   "outputs": [],
   "source": [
    "a = torch.tensor([[1]])"
   ]
  }
 ],
 "metadata": {
  "kernelspec": {
   "display_name": "707",
   "language": "python",
   "name": "python3"
  },
  "language_info": {
   "codemirror_mode": {
    "name": "ipython",
    "version": 3
   },
   "file_extension": ".py",
   "mimetype": "text/x-python",
   "name": "python",
   "nbconvert_exporter": "python",
   "pygments_lexer": "ipython3",
   "version": "3.9.15"
  },
  "orig_nbformat": 4
 },
 "nbformat": 4,
 "nbformat_minor": 2
}
