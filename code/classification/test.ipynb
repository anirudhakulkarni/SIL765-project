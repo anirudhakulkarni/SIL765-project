{
 "cells": [
  {
   "cell_type": "code",
   "execution_count": 4,
   "metadata": {},
   "outputs": [],
   "source": [
    "import pickle\n",
    "import numpy as np\n",
    "import pandas as pd\n",
    "import torch\n",
    "import torch.nn as nn\n",
    "import torch.optim as optim\n",
    "from torch.utils.data import Dataset, DataLoader\n",
    "from sklearn.preprocessing import LabelEncoder\n",
    "from sklearn.model_selection import train_test_split\n"
   ]
  },
  {
   "cell_type": "code",
   "execution_count": 6,
   "metadata": {},
   "outputs": [
    {
     "name": "stdout",
     "output_type": "stream",
     "text": [
      "torch.Size([1500])\n",
      "torch.Size([1500])\n"
     ]
    }
   ],
   "source": [
    "\n",
    "# Read the pickle object\n",
    "with open(\"../../dataset/pickles/LOC3.pickle\", \"rb\") as f:\n",
    "    data = pickle.load(f)\n",
    "\n",
    "# Convert the data to a pandas dataframe\n",
    "df = pd.DataFrame(data)\n",
    "\n",
    "# Encode the class labels\n",
    "label_encoder = LabelEncoder()\n",
    "df['class_label'] = label_encoder.fit_transform(df['class_label'])\n",
    "\n",
    "# Define the maximum sequence length\n",
    "max_len = 0\n",
    "for i in df['lengths']:\n",
    "    max_len=max(max_len,len(i))\n",
    "\n",
    "# Pad the sequences to the maximum length\n",
    "sequences = np.array(df['lengths'])\n",
    "padded_sequences = np.zeros((len(sequences), max_len))\n",
    "for i, sequence in enumerate(sequences):\n",
    "    padded_sequences[i, :len(sequence)] = sequence\n",
    "\n",
    "# Split the data into training and validation sets\n",
    "X_train, X_val, y_train, y_val = train_test_split(padded_sequences, df['class_label'], test_size=0.2)\n",
    "\n",
    "# Convert the data to PyTorch tensors\n",
    "X_train = torch.from_numpy(X_train).to(torch.float32)\n",
    "y_train = torch.from_numpy(y_train.values).long()\n",
    "X_val = torch.from_numpy(X_val).to(torch.float32)\n",
    "y_val = torch.from_numpy(y_val.values).long()\n",
    "# check if split is stratified\n",
    "# print(\"Training set class distribution:\")\n",
    "# print(y_train.unique(return_counts=True)) \n",
    "# print(\"Validation set class distribution:\")\n",
    "# print(y_val.unique(return_counts=True))\n",
    "print(y_train.unique().shape)\n",
    "print(y_val.unique().shape)"
   ]
  },
  {
   "cell_type": "code",
   "execution_count": 7,
   "metadata": {},
   "outputs": [],
   "source": [
    "# Define a custom dataset\n",
    "class SequenceDataset(Dataset):\n",
    "    def __init__(self, sequences, labels):\n",
    "        self.sequences = sequences\n",
    "        self.labels = labels\n",
    "    \n",
    "    def __len__(self):\n",
    "        return len(self.labels)\n",
    "    \n",
    "    def __getitem__(self, index):\n",
    "        sequence = self.sequences[index]\n",
    "        label = self.labels[index]\n",
    "        return sequence, label\n"
   ]
  },
  {
   "cell_type": "code",
   "execution_count": 8,
   "metadata": {},
   "outputs": [
    {
     "name": "stdout",
     "output_type": "stream",
     "text": [
      "1213\n"
     ]
    }
   ],
   "source": [
    "\n",
    "# Initialize the model\n",
    "input_dim=0\n",
    "for i in X_train:\n",
    "    input_dim = max(input_dim,len(i))\n",
    "# input_dim = len(X_train[0])\n",
    "hidden_dim = 128\n",
    "output_dim = 1500\n",
    "learning_rate = 1e-3\n",
    "print(input_dim)\n",
    "# Define the loss function and optimizer\n",
    "criterion = nn.CrossEntropyLoss()\n",
    "# Define the dataloaders\n",
    "train_dataset = SequenceDataset(X_train, y_train)\n",
    "train_loader = DataLoader(train_dataset, batch_size=64, shuffle=True)\n",
    "val_dataset = SequenceDataset(X_val, y_val)\n",
    "val_loader = DataLoader(val_dataset, batch_size=64, shuffle=False)\n"
   ]
  },
  {
   "cell_type": "code",
   "execution_count": null,
   "metadata": {},
   "outputs": [],
   "source": []
  },
  {
   "cell_type": "code",
   "execution_count": 9,
   "metadata": {},
   "outputs": [],
   "source": [
    "# Define the model architecture\n",
    "class RNN(nn.Module):\n",
    "    def __init__(self, input_dim, hidden_dim, output_dim, batch_size):\n",
    "        super(RNN, self).__init__()\n",
    "        self.batch_size=batch_size\n",
    "        # simple 1d conv \n",
    "        self.conv1 = nn.Conv1d(1, 8, 3, padding=1)\n",
    "        self.bn1 = nn.BatchNorm1d(8)\n",
    "        self.relu = nn.ReLU()        \n",
    "        \n",
    "        # parameters for the RNN\n",
    "        self.hidden_dim = hidden_dim\n",
    "        self.input_dim = input_dim\n",
    "        self.output_dim = output_dim\n",
    "\n",
    "        # define the RNN\n",
    "        # self.rnn = nn.LSTM(8*input_dim, hidden_dim, batch_first=True)\n",
    "        self.rnn = nn.RNN(8*input_dim, hidden_dim, batch_first=True)\n",
    "        # define the output layer\n",
    "        self.fc = nn.Linear(hidden_dim, output_dim)    \n",
    "        self.h = self.init_hidden(self.batch_size)    \n",
    "        self.flatten = nn.Flatten()\n",
    "        # self.fc = nn.Linear(8*input_dim, output_dim)\n",
    "        \n",
    "    def init_hidden(self, bsz):\n",
    "        # initialize the hidden state\n",
    "        self.h=torch.zeros(1, bsz, self.hidden_dim).to(device)\n",
    "    \n",
    "    def forward(self, x):\n",
    "        # reshape the input\n",
    "        # x = x.view(self.batch_size, self.input_dim, -1)\n",
    "        x = self.conv1(x)\n",
    "        x = self.bn1(x)\n",
    "        x = self.relu(x)\n",
    "        x = self.flatten(x)\n",
    "        # initialize the hidden state\n",
    "        self.init_hidden(x.shape[0])\n",
    "        # get RNN unit outputs\n",
    "        out, h = self.rnn(x.unsqueeze(1), self.h)\n",
    "        # get the output for the last time step\n",
    "        out = self.fc(out[:, -1, :])\n",
    "        return out\n"
   ]
  },
  {
   "cell_type": "code",
   "execution_count": 10,
   "metadata": {},
   "outputs": [
    {
     "name": "stdout",
     "output_type": "stream",
     "text": [
      "Using device: cuda:6\n"
     ]
    }
   ],
   "source": [
    "device = torch.device('cuda:6' if torch.cuda.is_available() else 'cpu')\n",
    "print('Using device:', device)\n",
    "rnn = RNN(input_dim, hidden_dim, output_dim, batch_size=64)\n",
    "rnn = rnn.to(device)\n",
    "criterion = criterion.to(device)\n",
    "\n",
    "optimizer = torch.optim.Adam(rnn.parameters(), lr=learning_rate)\n"
   ]
  },
  {
   "cell_type": "code",
   "execution_count": 13,
   "metadata": {},
   "outputs": [
    {
     "name": "stdout",
     "output_type": "stream",
     "text": [
      "Train Loss: 4.1880 Train Acc: 20.4928 %\n",
      "Epoch: 0, Test Accuracy of the model on the test sequences: 38.5645593313325 %\n",
      "{'precision': 0.40355490708855574, 'recall': 0.3889125439817476, 'f1': 0.3495203446593721}\n"
     ]
    },
    {
     "name": "stderr",
     "output_type": "stream",
     "text": [
      "/home/anirudha/miniconda3/envs/cod/lib/python3.9/site-packages/sklearn/metrics/_classification.py:1327: UndefinedMetricWarning: Precision and F-score are ill-defined and being set to 0.0 in labels with no predicted samples. Use `zero_division` parameter to control this behavior.\n",
      "  _warn_prf(average, modifier, msg_start, len(result))\n"
     ]
    },
    {
     "ename": "KeyboardInterrupt",
     "evalue": "",
     "output_type": "error",
     "traceback": [
      "\u001b[0;31m---------------------------------------------------------------------------\u001b[0m",
      "\u001b[0;31mKeyboardInterrupt\u001b[0m                         Traceback (most recent call last)",
      "\u001b[1;32m/home/anirudha/COL707/doh_traffic_analysis/code/classification/test.ipynb Cell 10\u001b[0m in \u001b[0;36m3\n\u001b[1;32m     <a href='vscode-notebook-cell://ssh-remote%2B7b22686f73744e616d65223a22526566696e656d656e74227d/home/anirudha/COL707/doh_traffic_analysis/code/classification/test.ipynb#X12sdnNjb2RlLXJlbW90ZQ%3D%3D?line=36'>37</a>\u001b[0m     running_loss \u001b[39m+\u001b[39m\u001b[39m=\u001b[39m loss\u001b[39m.\u001b[39mitem() \u001b[39m*\u001b[39m sequences\u001b[39m.\u001b[39msize(\u001b[39m0\u001b[39m)\n\u001b[1;32m     <a href='vscode-notebook-cell://ssh-remote%2B7b22686f73744e616d65223a22526566696e656d656e74227d/home/anirudha/COL707/doh_traffic_analysis/code/classification/test.ipynb#X12sdnNjb2RlLXJlbW90ZQ%3D%3D?line=37'>38</a>\u001b[0m     _, preds \u001b[39m=\u001b[39m torch\u001b[39m.\u001b[39mmax(outputs, \u001b[39m1\u001b[39m)\n\u001b[0;32m---> <a href='vscode-notebook-cell://ssh-remote%2B7b22686f73744e616d65223a22526566696e656d656e74227d/home/anirudha/COL707/doh_traffic_analysis/code/classification/test.ipynb#X12sdnNjb2RlLXJlbW90ZQ%3D%3D?line=38'>39</a>\u001b[0m     running_corrects \u001b[39m+\u001b[39m\u001b[39m=\u001b[39m torch\u001b[39m.\u001b[39;49msum(preds \u001b[39m==\u001b[39;49m labels)\n\u001b[1;32m     <a href='vscode-notebook-cell://ssh-remote%2B7b22686f73744e616d65223a22526566696e656d656e74227d/home/anirudha/COL707/doh_traffic_analysis/code/classification/test.ipynb#X12sdnNjb2RlLXJlbW90ZQ%3D%3D?line=39'>40</a>\u001b[0m epoch_loss \u001b[39m=\u001b[39m running_loss \u001b[39m/\u001b[39m \u001b[39mlen\u001b[39m(train_dataset)\n\u001b[1;32m     <a href='vscode-notebook-cell://ssh-remote%2B7b22686f73744e616d65223a22526566696e656d656e74227d/home/anirudha/COL707/doh_traffic_analysis/code/classification/test.ipynb#X12sdnNjb2RlLXJlbW90ZQ%3D%3D?line=40'>41</a>\u001b[0m epoch_acc \u001b[39m=\u001b[39m running_corrects\u001b[39m.\u001b[39mdouble() \u001b[39m/\u001b[39m\u001b[39mlen\u001b[39m(train_dataset)\n",
      "\u001b[0;31mKeyboardInterrupt\u001b[0m: "
     ]
    }
   ],
   "source": [
    "from sklearn.metrics import precision_recall_fscore_support\n",
    "def get_precision_recall_f1(y_true, y_pred):\n",
    "    \"\"\"Calculate precision, recall, F1 score for each class.\n",
    "    Args:\n",
    "        y_true (list): list of true labels\n",
    "        y_pred (list): list of predicted labels\n",
    "    Returns:\n",
    "        dict: dictionary with precision, recall, F1 score for each class\n",
    "    \"\"\"\n",
    "    # Calculate precision, recall, F1 score for each class\n",
    "    precision, recall, f1, _ = precision_recall_fscore_support(y_true, y_pred, average='macro')\n",
    "    return {\n",
    "        \"precision\": precision,\n",
    "        \"recall\": recall,\n",
    "        \"f1\": f1\n",
    "    }\n",
    "\n",
    "num_epochs = 50\n",
    "# optimizer = optimizer.to(device)\n",
    "for epoch in range(num_epochs):\n",
    "    running_loss = 0.0\n",
    "    running_corrects = 0\n",
    "    rnn.train()\n",
    "    for sequences, labels in train_loader:\n",
    "        optimizer.zero_grad()\n",
    "        labels = labels.to(device)\n",
    "        sequences = sequences.to(device)\n",
    "        sequences = sequences.unsqueeze(1)\n",
    "        outputs = rnn(sequences)\n",
    "        \n",
    "        # print(sequences.shape)\n",
    "        # print(outputs.shape)\n",
    "        # print(labels.shape)\n",
    "        loss = criterion(outputs, labels)\n",
    "        loss.backward()\n",
    "        optimizer.step()\n",
    "        running_loss += loss.item() * sequences.size(0)\n",
    "        _, preds = torch.max(outputs, 1)\n",
    "        running_corrects += torch.sum(preds == labels)\n",
    "    epoch_loss = running_loss / len(train_dataset)\n",
    "    epoch_acc = running_corrects.double() /len(train_dataset)\n",
    "    print('Train Loss: {:.4f} Train Acc: {:.4f} %'.format(epoch_loss, epoch_acc*100))\n",
    "    \n",
    "    # test the model\n",
    "    rnn.eval()\n",
    "    with torch.no_grad():\n",
    "        correct = 0\n",
    "        total = 0\n",
    "        total_preds = []\n",
    "        total_labels = []\n",
    "        for sequences, labels in val_loader:\n",
    "            sequences = sequences.to(device)\n",
    "            labels = labels.to(device)\n",
    "            sequences = sequences.unsqueeze(1)\n",
    "            outputs = rnn(sequences)\n",
    "            _, predicted = torch.max(outputs.data, 1)\n",
    "            total += labels.size(0)\n",
    "            correct += (predicted == labels).sum().item()\n",
    "            total_preds.append(predicted)\n",
    "            total_labels.append(labels)\n",
    "        \n",
    "        print('Epoch: {}, Test Accuracy of the model on the test sequences: {} %'.format(epoch, 100 * correct / total))\n",
    "        total_preds = torch.cat(total_preds, dim=0)\n",
    "        total_labels = torch.cat(total_labels, dim=0)\n",
    "        print(get_precision_recall_f1(total_labels.cpu(), total_preds.cpu()))"
   ]
  },
  {
   "cell_type": "code",
   "execution_count": 62,
   "metadata": {},
   "outputs": [
    {
     "data": {
      "text/plain": [
       "<All keys matched successfully>"
      ]
     },
     "execution_count": 62,
     "metadata": {},
     "output_type": "execute_result"
    }
   ],
   "source": [
    "# save model\n",
    "rnn.load_state_dict(torch.load('rnn_model_main.ckpt'))\n",
    "# torch.save(rnn.state_dict(), 'rnn_model_main.ckpt')\n"
   ]
  },
  {
   "cell_type": "code",
   "execution_count": 63,
   "metadata": {},
   "outputs": [
    {
     "name": "stdout",
     "output_type": "stream",
     "text": [
      "Val Loss: 0.3739 Val Acc: 0.8932\n"
     ]
    }
   ],
   "source": [
    "# Evaluate the model\n",
    "running_loss = 0.0\n",
    "running_corrects = 0\n",
    "rnn.eval()\n",
    "with torch.no_grad():\n",
    "    for sequences, labels in val_loader:\n",
    "        labels = labels.to(device)\n",
    "        sequences = sequences.to(device)\n",
    "        sequences = sequences.unsqueeze(1)\n",
    "        outputs = rnn(sequences)\n",
    "        loss = criterion(outputs, labels)\n",
    "        running_loss += loss.item() * sequences.size(0)\n",
    "        _, preds = torch.max(outputs, 1)\n",
    "        running_corrects += torch.sum(preds == labels)\n",
    "epoch_loss = running_loss / len(val_dataset)\n",
    "epoch_acc = running_corrects.double() / len(val_dataset)\n",
    "print('Val Loss: {:.4f} Val Acc: {:.4f}'.format(epoch_loss, epoch_acc))\n"
   ]
  },
  {
   "cell_type": "code",
   "execution_count": 64,
   "metadata": {},
   "outputs": [],
   "source": [
    "# from pytorch_grad_cam import GradCAM, ScoreCAM, GradCAMPlusPlus, AblationCAM, XGradCAM, EigenCAM, EigenGradCAM\n",
    "# import matplotlib.pyplot as plt \n",
    "# torch.backends.cudnn.enabled=False\n",
    "\n",
    "# x,y = next(iter(val_loader))\n",
    "# ls=[]\n",
    "# for l in rnn.children():\n",
    "#     ls+=[l]\n",
    "# # ls=ls[:3]\n",
    "# # ls\n",
    "# device = torch.device('cuda:0' if torch.cuda.is_available() else 'cpu')\n",
    "# rnn.train()\n",
    "# cam = GradCAM(model=rnn, target_layers=[ls[-1]], use_cuda=True)\n",
    "# # cam = cam.to(device)\n",
    "# # [1, 64, 1213]\n",
    "# x = x.unsqueeze(1).to(device)\n",
    "\n",
    "# print(x.shape)\n",
    "# # x = torch.permute(x,(1,0,2))\n",
    "# # print(rnn)\n",
    "# # print(x)\n",
    "# # x=x[0]\n",
    "# x_cam = cam(input_tensor=x)\n",
    "# # viusalize the CAM result\n",
    "# plt.imshow(x_cam[0, :], cmap='jet')\n",
    "# plt.show()"
   ]
  },
  {
   "cell_type": "code",
   "execution_count": 65,
   "metadata": {},
   "outputs": [],
   "source": [
    "# from omnixai.explainers.vision.specific.gradcam.pytorch.gradcam import GradCAM\n",
    "# from omnixai.explainers.vision.specific.gradcam.pytorch.gradcam import GradCAM\n",
    "# x,y = next(iter(val_loader))\n",
    "# x = x.unsqueeze(1).to(device)\n",
    "# ls=[]\n",
    "# for l in rnn.children():\n",
    "#     ls+=[l]\n",
    "# # ls=ls[:3]\n",
    "# # ls\n",
    "# device = torch.device('cuda:0' if torch.cuda.is_available() else 'cpu')\n",
    "# rnn.train()\n",
    "# explainer = GradCAM(model=rnn, target_layer=ls[0],preprocess_function=lambda x:x)\n",
    "# explanations = explainer.explain(x.to(device))\n",
    "# explanations.ipython_plot(index=0, class_names=y)\n"
   ]
  },
  {
   "cell_type": "code",
   "execution_count": 66,
   "metadata": {},
   "outputs": [],
   "source": [
    "# def grad_cam(input_model, data, category_index, layer_name, nb_classes):\n",
    "#     def target_layer(x): return target_category_loss(\n",
    "#         x, category_index, nb_classes)\n",
    "#     x = input_model.children()[-1].output\n",
    "#     x = Lambda(target_layer, output_shape=target_category_loss_output_shape)(x)\n",
    "#     model = Model(input_model.layers[0].input, x)\n",
    "#     loss = K.sum(model.layers[-1].output)\n",
    "#     conv_output = [l for l in model.layers if l.name is layer_name][0].output\n",
    "\n",
    "#     grads = normalize(K.gradients(loss, conv_output)[0])\n",
    "#     gradient_function = K.function(\n",
    "#         [model.layers[0].input], [conv_output, grads])\n",
    "#     output, grads_val = gradient_function([data])\n",
    "#     output, grads_val = output[0, :], grads_val[0, :, :]\n",
    "#     weights = np.mean(grads_val, axis=(0))\n",
    "#     # cam = np.ones(output.shape[0: 1], dtype=np.float32)\n",
    "#     # for i, w in enumerate(weights):\n",
    "#     #     cam += w * output[:, i]\n",
    "#     cam = output.dot(weights)\n",
    "#     # print(cam)\n",
    "#     cam = resize_1d(cam, (data.shape[1]))\n",
    "#     cam = np.maximum(cam, 0)\n",
    "#     # heatmap = cam / np.max(cam)\n",
    "#     heatmap = (cam - np.min(cam))/(np.max(cam) - np.min(cam)+1e-10)\n",
    "#     return heatmap"
   ]
  },
  {
   "cell_type": "code",
   "execution_count": 67,
   "metadata": {},
   "outputs": [
    {
     "name": "stdout",
     "output_type": "stream",
     "text": [
      "torch.Size([9000, 1213])\n",
      "torch.Size([9000, 1213])\n"
     ]
    }
   ],
   "source": [
    "\n",
    "\n",
    "from torch.nn import functional as F\n",
    "import matplotlib.pyplot as plt\n",
    "def get_gra_cam_on_1d(model, x, y):\n",
    "    '''\n",
    "    given a pytorch model, an input x, and a target y, returns the gradient of \n",
    "    the loss with respect to \n",
    "    '''\n",
    "    model.zero_grad()\n",
    "    x.requires_grad = True\n",
    "    y_hat = model(x)\n",
    "    loss = F.cross_entropy(y_hat, y)\n",
    "    loss.backward()\n",
    "    return x.grad.data# from grad_cam import grad_cam\n",
    "device = torch.device('cuda:0' if torch.cuda.is_available() else 'cpu')\n",
    "device = torch.device('cpu')\n",
    "val_loader2 = torch.utils.data.DataLoader(val_dataset, batch_size=9000, shuffle=True)\n",
    "x,y=next(iter(val_loader2))\n",
    "print(x.shape)\n",
    "rnn = rnn.to(device)\n",
    "x = x.unsqueeze(1).to(device)\n",
    "y = y.to(device)\n",
    "\n",
    "x_grad = get_gra_cam_on_1d(rnn,x,y)\n",
    "x_grad = np.abs(x_grad)\n",
    "x_grad = x_grad.squeeze(1)\n",
    "print(x_grad.shape)"
   ]
  },
  {
   "cell_type": "code",
   "execution_count": 68,
   "metadata": {},
   "outputs": [
    {
     "name": "stdout",
     "output_type": "stream",
     "text": [
      "tensor([[1.8417e-10, 1.4440e-09, 6.3000e-10,  ..., 0.0000e+00, 0.0000e+00,\n",
      "         0.0000e+00],\n",
      "        [2.6410e-10, 2.0309e-10, 1.0922e-09,  ..., 0.0000e+00, 0.0000e+00,\n",
      "         0.0000e+00],\n",
      "        [3.7904e-12, 1.6734e-11, 1.9734e-13,  ..., 0.0000e+00, 0.0000e+00,\n",
      "         0.0000e+00],\n",
      "        ...,\n",
      "        [4.5450e-08, 1.4181e-07, 2.7941e-09,  ..., 0.0000e+00, 0.0000e+00,\n",
      "         0.0000e+00],\n",
      "        [1.9676e-06, 9.2775e-06, 3.8486e-06,  ..., 0.0000e+00, 0.0000e+00,\n",
      "         0.0000e+00],\n",
      "        [3.4024e-12, 3.5292e-12, 2.3619e-12,  ..., 0.0000e+00, 0.0000e+00,\n",
      "         0.0000e+00]])\n"
     ]
    }
   ],
   "source": [
    "print(x_grad)"
   ]
  },
  {
   "cell_type": "code",
   "execution_count": 69,
   "metadata": {},
   "outputs": [
    {
     "name": "stdout",
     "output_type": "stream",
     "text": [
      "torch.Size([9000, 1213])\n",
      "torch.Size([9000, 1213])\n"
     ]
    }
   ],
   "source": [
    "print((x_grad.max(dim=1).values-x_grad.min(dim=1).values).unsqueeze(1).expand_as(x_grad).shape)\n",
    "print(x_grad.shape)\n"
   ]
  },
  {
   "cell_type": "code",
   "execution_count": 70,
   "metadata": {},
   "outputs": [
    {
     "name": "stdout",
     "output_type": "stream",
     "text": [
      "[[0.03292321 0.25813523 0.11262453 ... 0.         0.         0.        ]\n",
      " [0.02098738 0.01613913 0.08679768 ... 0.         0.         0.        ]\n",
      " [0.0499141  0.22036693 0.00259866 ... 0.         0.         0.        ]\n",
      " ...\n",
      " [0.02844823 0.08876019 0.00174892 ... 0.         0.         0.        ]\n",
      " [0.2120848  1.         0.41482803 ... 0.         0.         0.        ]\n",
      " [0.03967937 0.04115858 0.027545   ... 0.         0.         0.        ]]\n"
     ]
    },
    {
     "data": {
      "image/png": "[encoded data removed]",
      "text/plain": [
       "<Figure size 640x480 with 1 Axes>"
      ]
     },
     "metadata": {},
     "output_type": "display_data"
    }
   ],
   "source": [
    "x_grad = x_grad - x_grad.min(dim=1).values.unsqueeze(1).expand_as(x_grad)\n",
    "x_grad = x_grad.div ((x_grad.max(dim=1).values-x_grad.min(dim=1).values).unsqueeze(1).expand_as(x_grad))\n",
    "\n",
    "x_grad = x_grad.squeeze(0)\n",
    "x_grad = x_grad.cpu().numpy()\n",
    "print(x_grad)\n",
    "\n",
    "# plot heatmap\n",
    "plt.imshow(x_grad, cmap='jet', interpolation='nearest')\n",
    "plt.show()"
   ]
  },
  {
   "cell_type": "code",
   "execution_count": null,
   "metadata": {},
   "outputs": [],
   "source": []
  },
  {
   "cell_type": "code",
   "execution_count": 75,
   "metadata": {},
   "outputs": [
    {
     "data": {
      "image/png": "[encoded data removed]",
      "text/plain": [
       "<Figure size 640x480 with 2 Axes>"
      ]
     },
     "metadata": {},
     "output_type": "display_data"
    }
   ],
   "source": [
    "x_grad_clip= x_grad[:50,:50]\n",
    "plt.imshow(x_grad_clip, cmap='jet', interpolation='nearest')\n",
    "plt.colorbar()\n",
    "# plt.title('Contribution of features to the gradient of the output')\n",
    "plt.xlabel('Feature index')\n",
    "plt.ylabel('Sample index')\n",
    "plt.show()\n"
   ]
  },
  {
   "cell_type": "code",
   "execution_count": 72,
   "metadata": {},
   "outputs": [
    {
     "name": "stdout",
     "output_type": "stream",
     "text": [
      "[0.06734419 0.22715989 0.11713807 ... 0.         0.         0.        ]\n"
     ]
    }
   ],
   "source": [
    "non_zero_count = (x_grad != 0).sum(0)\n",
    "x_grad_norm_sum = x_grad.sum(0)\n",
    "x_grad_norm_sum[non_zero_count != 0] /= non_zero_count[non_zero_count != 0]\n",
    "print(x_grad_norm_sum)"
   ]
  },
  {
   "cell_type": "code",
   "execution_count": 73,
   "metadata": {},
   "outputs": [
    {
     "data": {
      "image/png": "[encoded data removed]",
      "text/plain": [
       "<Figure size 640x480 with 1 Axes>"
      ]
     },
     "metadata": {},
     "output_type": "display_data"
    }
   ],
   "source": [
    "x_grad_avg = x_grad_norm_sum\n",
    "plt.plot(x_grad_avg)\n",
    "# plt.title('Average Loss gradient contribution with respect to input')\n",
    "plt.xlabel('Feature index')\n",
    "plt.ylabel('Average Loss gradient contribution')\n",
    "plt.show()"
   ]
  },
  {
   "cell_type": "code",
   "execution_count": 74,
   "metadata": {},
   "outputs": [
    {
     "name": "stdout",
     "output_type": "stream",
     "text": [
      "[  10    3   15    9 1058    7 1040 1079 1043 1066 1136    1 1037 1063\n",
      "  978 1071   12   13  968 1074 1036    4 1121 1095 1062  974   20  951\n",
      "   18 1110   17 1046  894 1131   19  884 1072 1105   16    8  962  873\n",
      "   11 1060  825  972   14   21  930 1126]\n"
     ]
    }
   ],
   "source": [
    "print(np.argsort(x_grad_avg)[::-1][:50])\n"
   ]
  },
  {
   "cell_type": "code",
   "execution_count": 103,
   "metadata": {},
   "outputs": [
    {
     "name": "stdout",
     "output_type": "stream",
     "text": [
      "tensor(616995)\n",
      "91057.46\n",
      "tensor(10300005)\n",
      "37620.734\n",
      "Contribution due to outgoing packets:  tensor(0.9758)\n",
      "Contribution due to incoming packets:  tensor(0.0242)\n"
     ]
    }
   ],
   "source": [
    "x_z = x.squeeze(1)\n",
    "x_loc = x_z>0\n",
    "print(x_loc.sum())\n",
    "print(np.sum(x_grad[x_loc]))\n",
    "print(torch.numel(x_loc)-x_loc.sum())\n",
    "print(np.sum(x_grad)-np.sum(x_grad[x_loc]))\n",
    "\n",
    "pos_contrib = np.sum(np.abs(x_grad[x_loc]))/x_loc.sum()\n",
    "neg_contrib = (np.sum(np.abs(x_grad))-np.sum(np.abs(x_grad[x_loc])))/(torch.numel(x_loc)-x_loc.sum())\n",
    "\n",
    "print(\"Contribution due to outgoing packets: \", pos_contrib/(pos_contrib+neg_contrib))\n",
    "print(\"Contribution due to incoming packets: \", neg_contrib/(pos_contrib+neg_contrib))\n"
   ]
  },
  {
   "cell_type": "code",
   "execution_count": null,
   "metadata": {},
   "outputs": [],
   "source": []
  }
 ],
 "metadata": {
  "kernelspec": {
   "display_name": "707",
   "language": "python",
   "name": "python3"
  },
  "language_info": {
   "codemirror_mode": {
    "name": "ipython",
    "version": 3
   },
   "file_extension": ".py",
   "mimetype": "text/x-python",
   "name": "python",
   "nbconvert_exporter": "python",
   "pygments_lexer": "ipython3",
   "version": "3.9.15"
  },
  "orig_nbformat": 4
 },
 "nbformat": 4,
 "nbformat_minor": 2
}
