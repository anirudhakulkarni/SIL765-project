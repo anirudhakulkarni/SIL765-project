{
 "cells": [
  {
   "cell_type": "code",
   "execution_count": 3,
   "metadata": {},
   "outputs": [],
   "source": [
    "import pickle\n",
    "import numpy as np\n",
    "import pandas as pd\n",
    "import torch\n",
    "import torch.nn as nn\n",
    "import torch.optim as optim\n",
    "from torch.utils.data import Dataset, DataLoader\n",
    "from sklearn.preprocessing import LabelEncoder\n",
    "from sklearn.model_selection import train_test_split\n"
   ]
  },
  {
   "cell_type": "code",
   "execution_count": 4,
   "metadata": {},
   "outputs": [],
   "source": [
    "# print(torch.is_gpu_)"
   ]
  },
  {
   "cell_type": "code",
   "execution_count": null,
   "metadata": {},
   "outputs": [],
   "source": []
  },
  {
   "cell_type": "code",
   "execution_count": 5,
   "metadata": {},
   "outputs": [
    {
     "name": "stdout",
     "output_type": "stream",
     "text": [
      "Training set class distribution:\n",
      "(tensor([   0,    1,    2,  ..., 1497, 1498, 1499]), tensor([82, 84, 87,  ..., 86, 73, 81]))\n",
      "Validation set class distribution:\n",
      "(tensor([   0,    1,    2,  ..., 1497, 1498, 1499]), tensor([25, 21, 19,  ..., 19, 29, 24]))\n",
      "torch.Size([1500])\n",
      "torch.Size([1500])\n"
     ]
    }
   ],
   "source": [
    "\n",
    "# Read the pickle object\n",
    "with open(\"../../dataset/pickles/LOC3.pickle\", \"rb\") as f:\n",
    "    data = pickle.load(f)\n",
    "\n",
    "# Convert the data to a pandas dataframe\n",
    "df = pd.DataFrame(data)\n",
    "\n",
    "# Encode the class labels\n",
    "label_encoder = LabelEncoder()\n",
    "df['class_label'] = label_encoder.fit_transform(df['class_label'])\n",
    "\n",
    "# Define the maximum sequence length\n",
    "max_len = 0\n",
    "for i in df['lengths']:\n",
    "    max_len=max(max_len,len(i))\n",
    "\n",
    "# Pad the sequences to the maximum length\n",
    "sequences = np.array(df['lengths'])\n",
    "padded_sequences = np.zeros((len(sequences), max_len))\n",
    "for i, sequence in enumerate(sequences):\n",
    "    padded_sequences[i, :len(sequence)] = sequence\n",
    "\n",
    "# Split the data into training and validation sets\n",
    "X_train, X_val, y_train, y_val = train_test_split(padded_sequences, df['class_label'], test_size=0.2)\n",
    "\n",
    "# Convert the data to PyTorch tensors\n",
    "X_train = torch.from_numpy(X_train).to(torch.float32)\n",
    "y_train = torch.from_numpy(y_train.values).long()\n",
    "X_val = torch.from_numpy(X_val).to(torch.float32)\n",
    "y_val = torch.from_numpy(y_val.values).long()\n",
    "# check if split is stratified\n",
    "print(\"Training set class distribution:\")\n",
    "print(y_train.unique(return_counts=True)) \n",
    "print(\"Validation set class distribution:\")\n",
    "print(y_val.unique(return_counts=True))\n",
    "print(y_train.unique().shape)\n",
    "print(y_val.unique().shape)"
   ]
  },
  {
   "cell_type": "code",
   "execution_count": 7,
   "metadata": {},
   "outputs": [],
   "source": [
    "# Define a custom dataset\n",
    "class SequenceDataset(Dataset):\n",
    "    def __init__(self, sequences, labels):\n",
    "        self.sequences = sequences\n",
    "        self.labels = labels\n",
    "    \n",
    "    def __len__(self):\n",
    "        return len(self.labels)\n",
    "    \n",
    "    def __getitem__(self, index):\n",
    "        sequence = self.sequences[index]\n",
    "        label = self.labels[index]\n",
    "        return sequence, label\n"
   ]
  },
  {
   "cell_type": "code",
   "execution_count": 8,
   "metadata": {},
   "outputs": [
    {
     "name": "stdout",
     "output_type": "stream",
     "text": [
      "1213\n"
     ]
    }
   ],
   "source": [
    "\n",
    "# Initialize the model\n",
    "input_dim=0\n",
    "for i in X_train:\n",
    "    input_dim = max(input_dim,len(i))\n",
    "# input_dim = len(X_train[0])\n",
    "hidden_dim = 128\n",
    "output_dim = 1500\n",
    "learning_rate = 1e-3\n",
    "print(input_dim)\n",
    "# Define the loss function and optimizer\n",
    "criterion = nn.CrossEntropyLoss()\n",
    "# Define the dataloaders\n",
    "train_dataset = SequenceDataset(X_train, y_train)\n",
    "train_loader = DataLoader(train_dataset, batch_size=64, shuffle=True)\n",
    "val_dataset = SequenceDataset(X_val, y_val)\n",
    "val_loader = DataLoader(val_dataset, batch_size=64, shuffle=False)\n"
   ]
  },
  {
   "cell_type": "code",
   "execution_count": null,
   "metadata": {},
   "outputs": [],
   "source": []
  },
  {
   "cell_type": "code",
   "execution_count": 9,
   "metadata": {},
   "outputs": [],
   "source": [
    "\n",
    "# Define the model architecture\n",
    "class RNN(nn.Module):\n",
    "    def __init__(self, input_dim, hidden_dim, output_dim, batch_size):\n",
    "        super(RNN, self).__init__()\n",
    "        self.batch_size=batch_size\n",
    "        # simple 1d conv \n",
    "        self.conv1 = nn.Conv1d(1, 8, 3, padding=1)\n",
    "        self.bn1 = nn.BatchNorm1d(8)\n",
    "        self.relu = nn.ReLU()        \n",
    "        \n",
    "        # parameters for the RNN\n",
    "        self.hidden_dim = hidden_dim\n",
    "        self.input_dim = input_dim\n",
    "        self.output_dim = output_dim\n",
    "\n",
    "        # define the RNN\n",
    "        # self.rnn = nn.LSTM(8*input_dim, hidden_dim, batch_first=True)\n",
    "        self.rnn = nn.RNN(8*input_dim, hidden_dim, batch_first=True)\n",
    "        # define the output layer\n",
    "        self.fc = nn.Linear(hidden_dim, output_dim)    \n",
    "        self.h = self.init_hidden(self.batch_size)    \n",
    "        self.flatten = nn.Flatten()\n",
    "        # self.fc = nn.Linear(8*input_dim, output_dim)\n",
    "        \n",
    "    def init_hidden(self, bsz):\n",
    "        # initialize the hidden state\n",
    "        self.h=torch.zeros(1, bsz, self.hidden_dim).to(device)\n",
    "    \n",
    "    def forward(self, x):\n",
    "        # reshape the input\n",
    "        # x = x.view(self.batch_size, self.input_dim, -1)\n",
    "        x = self.conv1(x)\n",
    "        x = self.bn1(x)\n",
    "        x = self.relu(x)\n",
    "        x = self.flatten(x)\n",
    "        # initialize the hidden state\n",
    "        self.init_hidden(x.shape[0])\n",
    "        # get RNN unit outputs\n",
    "        out, h = self.rnn(x.unsqueeze(1), self.h)\n",
    "        # get the output for the last time step\n",
    "        out = self.fc(out[:, -1, :])\n",
    "        return out"
   ]
  },
  {
   "cell_type": "code",
   "execution_count": 10,
   "metadata": {},
   "outputs": [
    {
     "name": "stdout",
     "output_type": "stream",
     "text": [
      "Using device: cuda:6\n"
     ]
    }
   ],
   "source": [
    "device = torch.device('cuda:6' if torch.cuda.is_available() else 'cpu')\n",
    "print('Using device:', device)\n",
    "rnn = RNN(input_dim, hidden_dim, output_dim, batch_size=64)\n",
    "rnn = rnn.to(device)\n",
    "criterion = criterion.to(device)\n",
    "\n",
    "optimizer = torch.optim.Adam(rnn.parameters(), lr=learning_rate)\n"
   ]
  },
  {
   "cell_type": "code",
   "execution_count": 11,
   "metadata": {},
   "outputs": [
    {
     "name": "stdout",
     "output_type": "stream",
     "text": [
      "Train Loss: 4.1951 Train Acc: 20.1071 %\n",
      "Test Accuracy of the model on the test sequences: 37.53832252234808 %\n",
      "{'precision': 0.3829803069670158, 'recall': 0.37638851138244306, 'f1': 0.33455669707443275}\n"
     ]
    },
    {
     "name": "stderr",
     "output_type": "stream",
     "text": [
      "/home/anirudha/miniconda3/envs/765/lib/python3.11/site-packages/sklearn/metrics/_classification.py:1344: UndefinedMetricWarning: Precision and F-score are ill-defined and being set to 0.0 in labels with no predicted samples. Use `zero_division` parameter to control this behavior.\n",
      "  _warn_prf(average, modifier, msg_start, len(result))\n"
     ]
    },
    {
     "name": "stdout",
     "output_type": "stream",
     "text": [
      "Train Loss: 2.3572 Train Acc: 47.0124 %\n",
      "Test Accuracy of the model on the test sequences: 52.78665246716365 %\n",
      "{'precision': 0.5372059739651895, 'recall': 0.5285931198022131, 'f1': 0.5033229602582767}\n"
     ]
    },
    {
     "name": "stderr",
     "output_type": "stream",
     "text": [
      "/home/anirudha/miniconda3/envs/765/lib/python3.11/site-packages/sklearn/metrics/_classification.py:1344: UndefinedMetricWarning: Precision and F-score are ill-defined and being set to 0.0 in labels with no predicted samples. Use `zero_division` parameter to control this behavior.\n",
      "  _warn_prf(average, modifier, msg_start, len(result))\n"
     ]
    },
    {
     "name": "stdout",
     "output_type": "stream",
     "text": [
      "Train Loss: 1.7410 Train Acc: 59.3234 %\n",
      "Test Accuracy of the model on the test sequences: 60.81582599154484 %\n",
      "{'precision': 0.620229293136035, 'recall': 0.6076250153107966, 'f1': 0.5886198272872815}\n"
     ]
    },
    {
     "name": "stderr",
     "output_type": "stream",
     "text": [
      "/home/anirudha/miniconda3/envs/765/lib/python3.11/site-packages/sklearn/metrics/_classification.py:1344: UndefinedMetricWarning: Precision and F-score are ill-defined and being set to 0.0 in labels with no predicted samples. Use `zero_division` parameter to control this behavior.\n",
      "  _warn_prf(average, modifier, msg_start, len(result))\n"
     ]
    },
    {
     "name": "stdout",
     "output_type": "stream",
     "text": [
      "Train Loss: 1.4040 Train Acc: 66.2264 %\n",
      "Test Accuracy of the model on the test sequences: 66.12127666440766 %\n",
      "{'precision': 0.6658563738955431, 'recall': 0.6613700201075747, 'f1': 0.6436933748064724}\n"
     ]
    },
    {
     "name": "stderr",
     "output_type": "stream",
     "text": [
      "/home/anirudha/miniconda3/envs/765/lib/python3.11/site-packages/sklearn/metrics/_classification.py:1344: UndefinedMetricWarning: Precision and F-score are ill-defined and being set to 0.0 in labels with no predicted samples. Use `zero_division` parameter to control this behavior.\n",
      "  _warn_prf(average, modifier, msg_start, len(result))\n"
     ]
    },
    {
     "name": "stdout",
     "output_type": "stream",
     "text": [
      "Train Loss: 1.1773 Train Acc: 71.0124 %\n",
      "Test Accuracy of the model on the test sequences: 69.45170555394198 %\n",
      "{'precision': 0.701454522199555, 'recall': 0.6952175211467527, 'f1': 0.680578104605034}\n"
     ]
    },
    {
     "name": "stderr",
     "output_type": "stream",
     "text": [
      "/home/anirudha/miniconda3/envs/765/lib/python3.11/site-packages/sklearn/metrics/_classification.py:1344: UndefinedMetricWarning: Precision and F-score are ill-defined and being set to 0.0 in labels with no predicted samples. Use `zero_division` parameter to control this behavior.\n",
      "  _warn_prf(average, modifier, msg_start, len(result))\n"
     ]
    },
    {
     "name": "stdout",
     "output_type": "stream",
     "text": [
      "Train Loss: 1.0166 Train Acc: 74.2856 %\n",
      "Test Accuracy of the model on the test sequences: 71.49127053280408 %\n",
      "{'precision': 0.7201682920424852, 'recall': 0.7147310963745279, 'f1': 0.700196283997085}\n"
     ]
    },
    {
     "name": "stderr",
     "output_type": "stream",
     "text": [
      "/home/anirudha/miniconda3/envs/765/lib/python3.11/site-packages/sklearn/metrics/_classification.py:1344: UndefinedMetricWarning: Precision and F-score are ill-defined and being set to 0.0 in labels with no predicted samples. Use `zero_division` parameter to control this behavior.\n",
      "  _warn_prf(average, modifier, msg_start, len(result))\n"
     ]
    },
    {
     "name": "stdout",
     "output_type": "stream",
     "text": [
      "Train Loss: 0.9021 Train Acc: 76.8157 %\n",
      "Test Accuracy of the model on the test sequences: 73.05644302449414 %\n",
      "{'precision': 0.7361997256017312, 'recall': 0.7312052286689723, 'f1': 0.7178879245062709}\n"
     ]
    },
    {
     "name": "stderr",
     "output_type": "stream",
     "text": [
      "/home/anirudha/miniconda3/envs/765/lib/python3.11/site-packages/sklearn/metrics/_classification.py:1344: UndefinedMetricWarning: Precision and F-score are ill-defined and being set to 0.0 in labels with no predicted samples. Use `zero_division` parameter to control this behavior.\n",
      "  _warn_prf(average, modifier, msg_start, len(result))\n"
     ]
    },
    {
     "name": "stdout",
     "output_type": "stream",
     "text": [
      "Train Loss: 0.8145 Train Acc: 78.5955 %\n",
      "Test Accuracy of the model on the test sequences: 74.07945267370188 %\n",
      "{'precision': 0.748378467030986, 'recall': 0.7414334145697097, 'f1': 0.7282534099101842}\n"
     ]
    },
    {
     "name": "stderr",
     "output_type": "stream",
     "text": [
      "/home/anirudha/miniconda3/envs/765/lib/python3.11/site-packages/sklearn/metrics/_classification.py:1344: UndefinedMetricWarning: Precision and F-score are ill-defined and being set to 0.0 in labels with no predicted samples. Use `zero_division` parameter to control this behavior.\n",
      "  _warn_prf(average, modifier, msg_start, len(result))\n"
     ]
    },
    {
     "name": "stdout",
     "output_type": "stream",
     "text": [
      "Train Loss: 0.7472 Train Acc: 80.0131 %\n",
      "Test Accuracy of the model on the test sequences: 74.61838835640752 %\n",
      "{'precision': 0.7525542905520057, 'recall': 0.7467579165388809, 'f1': 0.7352886009852062}\n"
     ]
    },
    {
     "name": "stderr",
     "output_type": "stream",
     "text": [
      "/home/anirudha/miniconda3/envs/765/lib/python3.11/site-packages/sklearn/metrics/_classification.py:1344: UndefinedMetricWarning: Precision and F-score are ill-defined and being set to 0.0 in labels with no predicted samples. Use `zero_division` parameter to control this behavior.\n",
      "  _warn_prf(average, modifier, msg_start, len(result))\n"
     ]
    },
    {
     "name": "stdout",
     "output_type": "stream",
     "text": [
      "Train Loss: 0.6908 Train Acc: 81.2079 %\n",
      "Test Accuracy of the model on the test sequences: 75.83180043243941 %\n",
      "{'precision': 0.7678504736991171, 'recall': 0.7598722048817161, 'f1': 0.7479944678747013}\n"
     ]
    },
    {
     "name": "stderr",
     "output_type": "stream",
     "text": [
      "/home/anirudha/miniconda3/envs/765/lib/python3.11/site-packages/sklearn/metrics/_classification.py:1344: UndefinedMetricWarning: Precision and F-score are ill-defined and being set to 0.0 in labels with no predicted samples. Use `zero_division` parameter to control this behavior.\n",
      "  _warn_prf(average, modifier, msg_start, len(result))\n"
     ]
    },
    {
     "name": "stdout",
     "output_type": "stream",
     "text": [
      "Train Loss: 0.6507 Train Acc: 82.1406 %\n",
      "Test Accuracy of the model on the test sequences: 76.06738309613709 %\n",
      "{'precision': 0.7686725231614642, 'recall': 0.7615745038351243, 'f1': 0.7499929041564813}\n"
     ]
    },
    {
     "name": "stderr",
     "output_type": "stream",
     "text": [
      "/home/anirudha/miniconda3/envs/765/lib/python3.11/site-packages/sklearn/metrics/_classification.py:1344: UndefinedMetricWarning: Precision and F-score are ill-defined and being set to 0.0 in labels with no predicted samples. Use `zero_division` parameter to control this behavior.\n",
      "  _warn_prf(average, modifier, msg_start, len(result))\n"
     ]
    },
    {
     "name": "stdout",
     "output_type": "stream",
     "text": [
      "Train Loss: 0.6176 Train Acc: 82.7352 %\n",
      "Test Accuracy of the model on the test sequences: 76.50950398554232 %\n",
      "{'precision': 0.7732336039635108, 'recall': 0.7660428076037001, 'f1': 0.7554562917798191}\n"
     ]
    },
    {
     "name": "stderr",
     "output_type": "stream",
     "text": [
      "/home/anirudha/miniconda3/envs/765/lib/python3.11/site-packages/sklearn/metrics/_classification.py:1344: UndefinedMetricWarning: Precision and F-score are ill-defined and being set to 0.0 in labels with no predicted samples. Use `zero_division` parameter to control this behavior.\n",
      "  _warn_prf(average, modifier, msg_start, len(result))\n"
     ]
    },
    {
     "name": "stdout",
     "output_type": "stream",
     "text": [
      "Train Loss: 0.5881 Train Acc: 83.3411 %\n",
      "Test Accuracy of the model on the test sequences: 76.80640268499694 %\n",
      "{'precision': 0.7785338170028787, 'recall': 0.7693192786640115, 'f1': 0.7588846999145578}\n"
     ]
    },
    {
     "name": "stderr",
     "output_type": "stream",
     "text": [
      "/home/anirudha/miniconda3/envs/765/lib/python3.11/site-packages/sklearn/metrics/_classification.py:1344: UndefinedMetricWarning: Precision and F-score are ill-defined and being set to 0.0 in labels with no predicted samples. Use `zero_division` parameter to control this behavior.\n",
      "  _warn_prf(average, modifier, msg_start, len(result))\n"
     ]
    },
    {
     "name": "stdout",
     "output_type": "stream",
     "text": [
      "Train Loss: 0.5610 Train Acc: 84.1108 %\n",
      "Test Accuracy of the model on the test sequences: 77.61319262916707 %\n",
      "{'precision': 0.7841774147794079, 'recall': 0.7767152154998639, 'f1': 0.7688386117663866}\n"
     ]
    },
    {
     "name": "stderr",
     "output_type": "stream",
     "text": [
      "/home/anirudha/miniconda3/envs/765/lib/python3.11/site-packages/sklearn/metrics/_classification.py:1344: UndefinedMetricWarning: Precision and F-score are ill-defined and being set to 0.0 in labels with no predicted samples. Use `zero_division` parameter to control this behavior.\n",
      "  _warn_prf(average, modifier, msg_start, len(result))\n"
     ]
    },
    {
     "name": "stdout",
     "output_type": "stream",
     "text": [
      "Train Loss: 0.5413 Train Acc: 84.5441 %\n",
      "Test Accuracy of the model on the test sequences: 77.81327653532126 %\n",
      "{'precision': 0.7912122527998726, 'recall': 0.7779624335246066, 'f1': 0.7685521443217722}\n"
     ]
    },
    {
     "name": "stderr",
     "output_type": "stream",
     "text": [
      "/home/anirudha/miniconda3/envs/765/lib/python3.11/site-packages/sklearn/metrics/_classification.py:1344: UndefinedMetricWarning: Precision and F-score are ill-defined and being set to 0.0 in labels with no predicted samples. Use `zero_division` parameter to control this behavior.\n",
      "  _warn_prf(average, modifier, msg_start, len(result))\n"
     ]
    },
    {
     "name": "stdout",
     "output_type": "stream",
     "text": [
      "Train Loss: 0.5206 Train Acc: 84.9773 %\n",
      "Test Accuracy of the model on the test sequences: 78.04563203924226 %\n",
      "{'precision': 0.7885089271215157, 'recall': 0.7805444681603616, 'f1': 0.7696191656411276}\n"
     ]
    },
    {
     "name": "stderr",
     "output_type": "stream",
     "text": [
      "/home/anirudha/miniconda3/envs/765/lib/python3.11/site-packages/sklearn/metrics/_classification.py:1344: UndefinedMetricWarning: Precision and F-score are ill-defined and being set to 0.0 in labels with no predicted samples. Use `zero_division` parameter to control this behavior.\n",
      "  _warn_prf(average, modifier, msg_start, len(result))\n"
     ]
    },
    {
     "name": "stdout",
     "output_type": "stream",
     "text": [
      "Train Loss: 0.5079 Train Acc: 85.1911 %\n",
      "Test Accuracy of the model on the test sequences: 78.603930680608 %\n",
      "{'precision': 0.7943175374589133, 'recall': 0.7859525866256811, 'f1': 0.7780208641240851}\n"
     ]
    },
    {
     "name": "stderr",
     "output_type": "stream",
     "text": [
      "/home/anirudha/miniconda3/envs/765/lib/python3.11/site-packages/sklearn/metrics/_classification.py:1344: UndefinedMetricWarning: Precision and F-score are ill-defined and being set to 0.0 in labels with no predicted samples. Use `zero_division` parameter to control this behavior.\n",
      "  _warn_prf(average, modifier, msg_start, len(result))\n"
     ]
    },
    {
     "name": "stdout",
     "output_type": "stream",
     "text": [
      "Train Loss: 0.4926 Train Acc: 85.5849 %\n",
      "Test Accuracy of the model on the test sequences: 78.77497014877207 %\n",
      "{'precision': 0.796491321750044, 'recall': 0.7886716638854544, 'f1': 0.7793603358097935}\n"
     ]
    },
    {
     "name": "stderr",
     "output_type": "stream",
     "text": [
      "/home/anirudha/miniconda3/envs/765/lib/python3.11/site-packages/sklearn/metrics/_classification.py:1344: UndefinedMetricWarning: Precision and F-score are ill-defined and being set to 0.0 in labels with no predicted samples. Use `zero_division` parameter to control this behavior.\n",
      "  _warn_prf(average, modifier, msg_start, len(result))\n"
     ]
    },
    {
     "name": "stdout",
     "output_type": "stream",
     "text": [
      "Train Loss: 0.4767 Train Acc: 86.0512 %\n",
      "Test Accuracy of the model on the test sequences: 78.80078742698551 %\n",
      "{'precision': 0.7971634957948033, 'recall': 0.7892676575760212, 'f1': 0.7787076790087587}\n"
     ]
    },
    {
     "name": "stderr",
     "output_type": "stream",
     "text": [
      "/home/anirudha/miniconda3/envs/765/lib/python3.11/site-packages/sklearn/metrics/_classification.py:1344: UndefinedMetricWarning: Precision and F-score are ill-defined and being set to 0.0 in labels with no predicted samples. Use `zero_division` parameter to control this behavior.\n",
      "  _warn_prf(average, modifier, msg_start, len(result))\n"
     ]
    },
    {
     "name": "stdout",
     "output_type": "stream",
     "text": [
      "Train Loss: 0.4635 Train Acc: 86.2948 %\n",
      "Test Accuracy of the model on the test sequences: 78.77174298899538 %\n",
      "{'precision': 0.7976078687005637, 'recall': 0.7885219738310449, 'f1': 0.7798321477945648}\n"
     ]
    },
    {
     "name": "stderr",
     "output_type": "stream",
     "text": [
      "/home/anirudha/miniconda3/envs/765/lib/python3.11/site-packages/sklearn/metrics/_classification.py:1344: UndefinedMetricWarning: Precision and F-score are ill-defined and being set to 0.0 in labels with no predicted samples. Use `zero_division` parameter to control this behavior.\n",
      "  _warn_prf(average, modifier, msg_start, len(result))\n"
     ]
    },
    {
     "name": "stdout",
     "output_type": "stream",
     "text": [
      "Train Loss: 0.4553 Train Acc: 86.5094 %\n",
      "Test Accuracy of the model on the test sequences: 78.98796269403299 %\n",
      "{'precision': 0.7988762766612524, 'recall': 0.7901051579064848, 'f1': 0.7815674446671113}\n"
     ]
    },
    {
     "name": "stderr",
     "output_type": "stream",
     "text": [
      "/home/anirudha/miniconda3/envs/765/lib/python3.11/site-packages/sklearn/metrics/_classification.py:1344: UndefinedMetricWarning: Precision and F-score are ill-defined and being set to 0.0 in labels with no predicted samples. Use `zero_division` parameter to control this behavior.\n",
      "  _warn_prf(average, modifier, msg_start, len(result))\n"
     ]
    },
    {
     "name": "stdout",
     "output_type": "stream",
     "text": [
      "Train Loss: 0.4448 Train Acc: 86.7789 %\n",
      "Test Accuracy of the model on the test sequences: 79.52044405718527 %\n",
      "{'precision': 0.8040444500996391, 'recall': 0.7961655935426493, 'f1': 0.7867528760442968}\n"
     ]
    },
    {
     "name": "stderr",
     "output_type": "stream",
     "text": [
      "/home/anirudha/miniconda3/envs/765/lib/python3.11/site-packages/sklearn/metrics/_classification.py:1344: UndefinedMetricWarning: Precision and F-score are ill-defined and being set to 0.0 in labels with no predicted samples. Use `zero_division` parameter to control this behavior.\n",
      "  _warn_prf(average, modifier, msg_start, len(result))\n"
     ]
    },
    {
     "name": "stdout",
     "output_type": "stream",
     "text": [
      "Train Loss: 0.4370 Train Acc: 86.9217 %\n",
      "Test Accuracy of the model on the test sequences: 79.61403169070901 %\n",
      "{'precision': 0.8072523089303237, 'recall': 0.7972600898919506, 'f1': 0.7894844089948375}\n"
     ]
    },
    {
     "name": "stderr",
     "output_type": "stream",
     "text": [
      "/home/anirudha/miniconda3/envs/765/lib/python3.11/site-packages/sklearn/metrics/_classification.py:1344: UndefinedMetricWarning: Precision and F-score are ill-defined and being set to 0.0 in labels with no predicted samples. Use `zero_division` parameter to control this behavior.\n",
      "  _warn_prf(average, modifier, msg_start, len(result))\n"
     ]
    },
    {
     "name": "stdout",
     "output_type": "stream",
     "text": [
      "Train Loss: 0.4270 Train Acc: 87.1016 %\n",
      "Test Accuracy of the model on the test sequences: 79.4494465420983 %\n",
      "{'precision': 0.806496860125903, 'recall': 0.7964629103524781, 'f1': 0.7882378058697947}\n"
     ]
    },
    {
     "name": "stderr",
     "output_type": "stream",
     "text": [
      "/home/anirudha/miniconda3/envs/765/lib/python3.11/site-packages/sklearn/metrics/_classification.py:1344: UndefinedMetricWarning: Precision and F-score are ill-defined and being set to 0.0 in labels with no predicted samples. Use `zero_division` parameter to control this behavior.\n",
      "  _warn_prf(average, modifier, msg_start, len(result))\n"
     ]
    },
    {
     "name": "stdout",
     "output_type": "stream",
     "text": [
      "Train Loss: 0.4186 Train Acc: 87.3760 %\n",
      "Test Accuracy of the model on the test sequences: 79.65598476780585 %\n",
      "{'precision': 0.8055801772392133, 'recall': 0.7966754081550738, 'f1': 0.7885596980824466}\n"
     ]
    },
    {
     "name": "stderr",
     "output_type": "stream",
     "text": [
      "/home/anirudha/miniconda3/envs/765/lib/python3.11/site-packages/sklearn/metrics/_classification.py:1344: UndefinedMetricWarning: Precision and F-score are ill-defined and being set to 0.0 in labels with no predicted samples. Use `zero_division` parameter to control this behavior.\n",
      "  _warn_prf(average, modifier, msg_start, len(result))\n"
     ]
    },
    {
     "name": "stdout",
     "output_type": "stream",
     "text": [
      "Train Loss: 0.4125 Train Acc: 87.4752 %\n",
      "Test Accuracy of the model on the test sequences: 79.72375512311615 %\n",
      "{'precision': 0.8071687590102612, 'recall': 0.7982980126187553, 'f1': 0.7891714304238416}\n"
     ]
    },
    {
     "name": "stderr",
     "output_type": "stream",
     "text": [
      "/home/anirudha/miniconda3/envs/765/lib/python3.11/site-packages/sklearn/metrics/_classification.py:1344: UndefinedMetricWarning: Precision and F-score are ill-defined and being set to 0.0 in labels with no predicted samples. Use `zero_division` parameter to control this behavior.\n",
      "  _warn_prf(average, modifier, msg_start, len(result))\n"
     ]
    },
    {
     "name": "stdout",
     "output_type": "stream",
     "text": [
      "Train Loss: 0.4041 Train Acc: 87.7285 %\n",
      "Test Accuracy of the model on the test sequences: 80.27237228515183 %\n",
      "{'precision': 0.8152020666447318, 'recall': 0.803968464934578, 'f1': 0.7974485135920726}\n"
     ]
    },
    {
     "name": "stderr",
     "output_type": "stream",
     "text": [
      "/home/anirudha/miniconda3/envs/765/lib/python3.11/site-packages/sklearn/metrics/_classification.py:1344: UndefinedMetricWarning: Precision and F-score are ill-defined and being set to 0.0 in labels with no predicted samples. Use `zero_division` parameter to control this behavior.\n",
      "  _warn_prf(average, modifier, msg_start, len(result))\n"
     ]
    },
    {
     "name": "stdout",
     "output_type": "stream",
     "text": [
      "Train Loss: 0.3963 Train Acc: 87.9472 %\n",
      "Test Accuracy of the model on the test sequences: 80.16910317229807 %\n",
      "{'precision': 0.8089467204089554, 'recall': 0.8034606076380328, 'f1': 0.7945049436551662}\n"
     ]
    },
    {
     "name": "stderr",
     "output_type": "stream",
     "text": [
      "/home/anirudha/miniconda3/envs/765/lib/python3.11/site-packages/sklearn/metrics/_classification.py:1344: UndefinedMetricWarning: Precision and F-score are ill-defined and being set to 0.0 in labels with no predicted samples. Use `zero_division` parameter to control this behavior.\n",
      "  _warn_prf(average, modifier, msg_start, len(result))\n"
     ]
    },
    {
     "name": "stdout",
     "output_type": "stream",
     "text": [
      "Train Loss: 0.3942 Train Acc: 87.9811 %\n",
      "Test Accuracy of the model on the test sequences: 80.74031045277052 %\n",
      "{'precision': 0.8130374440571871, 'recall': 0.80823531278487, 'f1': 0.8006314010612667}\n"
     ]
    },
    {
     "name": "stderr",
     "output_type": "stream",
     "text": [
      "/home/anirudha/miniconda3/envs/765/lib/python3.11/site-packages/sklearn/metrics/_classification.py:1344: UndefinedMetricWarning: Precision and F-score are ill-defined and being set to 0.0 in labels with no predicted samples. Use `zero_division` parameter to control this behavior.\n",
      "  _warn_prf(average, modifier, msg_start, len(result))\n"
     ]
    },
    {
     "name": "stdout",
     "output_type": "stream",
     "text": [
      "Train Loss: 0.3844 Train Acc: 88.2231 %\n",
      "Test Accuracy of the model on the test sequences: 79.70116500467938 %\n",
      "{'precision': 0.8069046323017532, 'recall': 0.7980812189525589, 'f1': 0.7905849308193863}\n"
     ]
    },
    {
     "name": "stderr",
     "output_type": "stream",
     "text": [
      "/home/anirudha/miniconda3/envs/765/lib/python3.11/site-packages/sklearn/metrics/_classification.py:1344: UndefinedMetricWarning: Precision and F-score are ill-defined and being set to 0.0 in labels with no predicted samples. Use `zero_division` parameter to control this behavior.\n",
      "  _warn_prf(average, modifier, msg_start, len(result))\n"
     ]
    },
    {
     "name": "stdout",
     "output_type": "stream",
     "text": [
      "Train Loss: 0.3817 Train Acc: 88.1916 %\n",
      "Test Accuracy of the model on the test sequences: 80.29173524381193 %\n",
      "{'precision': 0.8123926431370593, 'recall': 0.8036836610324829, 'f1': 0.7959855419590292}\n"
     ]
    },
    {
     "name": "stderr",
     "output_type": "stream",
     "text": [
      "/home/anirudha/miniconda3/envs/765/lib/python3.11/site-packages/sklearn/metrics/_classification.py:1344: UndefinedMetricWarning: Precision and F-score are ill-defined and being set to 0.0 in labels with no predicted samples. Use `zero_division` parameter to control this behavior.\n",
      "  _warn_prf(average, modifier, msg_start, len(result))\n"
     ]
    },
    {
     "name": "stdout",
     "output_type": "stream",
     "text": [
      "Train Loss: 0.3744 Train Acc: 88.4200 %\n",
      "Test Accuracy of the model on the test sequences: 80.52086358795624 %\n",
      "{'precision': 0.812065171997368, 'recall': 0.8073013819269057, 'f1': 0.798905387978858}\n"
     ]
    },
    {
     "name": "stderr",
     "output_type": "stream",
     "text": [
      "/home/anirudha/miniconda3/envs/765/lib/python3.11/site-packages/sklearn/metrics/_classification.py:1344: UndefinedMetricWarning: Precision and F-score are ill-defined and being set to 0.0 in labels with no predicted samples. Use `zero_division` parameter to control this behavior.\n",
      "  _warn_prf(average, modifier, msg_start, len(result))\n"
     ]
    },
    {
     "name": "stdout",
     "output_type": "stream",
     "text": [
      "Train Loss: 0.3707 Train Acc: 88.5103 %\n",
      "Test Accuracy of the model on the test sequences: 80.68544873656695 %\n",
      "{'precision': 0.8172947711693711, 'recall': 0.807661281605668, 'f1': 0.8014199891770408}\n"
     ]
    },
    {
     "name": "stderr",
     "output_type": "stream",
     "text": [
      "/home/anirudha/miniconda3/envs/765/lib/python3.11/site-packages/sklearn/metrics/_classification.py:1344: UndefinedMetricWarning: Precision and F-score are ill-defined and being set to 0.0 in labels with no predicted samples. Use `zero_division` parameter to control this behavior.\n",
      "  _warn_prf(average, modifier, msg_start, len(result))\n"
     ]
    },
    {
     "name": "stdout",
     "output_type": "stream",
     "text": [
      "Train Loss: 0.3661 Train Acc: 88.6321 %\n",
      "Test Accuracy of the model on the test sequences: 80.68544873656695 %\n",
      "{'precision': 0.8125543798380347, 'recall': 0.8073180674692394, 'f1': 0.8001648493676583}\n"
     ]
    },
    {
     "name": "stderr",
     "output_type": "stream",
     "text": [
      "/home/anirudha/miniconda3/envs/765/lib/python3.11/site-packages/sklearn/metrics/_classification.py:1344: UndefinedMetricWarning: Precision and F-score are ill-defined and being set to 0.0 in labels with no predicted samples. Use `zero_division` parameter to control this behavior.\n",
      "  _warn_prf(average, modifier, msg_start, len(result))\n"
     ]
    },
    {
     "name": "stdout",
     "output_type": "stream",
     "text": [
      "Train Loss: 0.3615 Train Acc: 88.7628 %\n",
      "Test Accuracy of the model on the test sequences: 80.60799690192661 %\n",
      "{'precision': 0.81250323930494, 'recall': 0.806882693945594, 'f1': 0.7982024787436697}\n"
     ]
    },
    {
     "name": "stderr",
     "output_type": "stream",
     "text": [
      "/home/anirudha/miniconda3/envs/765/lib/python3.11/site-packages/sklearn/metrics/_classification.py:1344: UndefinedMetricWarning: Precision and F-score are ill-defined and being set to 0.0 in labels with no predicted samples. Use `zero_division` parameter to control this behavior.\n",
      "  _warn_prf(average, modifier, msg_start, len(result))\n"
     ]
    },
    {
     "name": "stdout",
     "output_type": "stream",
     "text": [
      "Train Loss: 0.3566 Train Acc: 88.8387 %\n",
      "Test Accuracy of the model on the test sequences: 80.61767838125665 %\n",
      "{'precision': 0.8132252945968663, 'recall': 0.8067227986216925, 'f1': 0.7998208508247914}\n"
     ]
    },
    {
     "name": "stderr",
     "output_type": "stream",
     "text": [
      "/home/anirudha/miniconda3/envs/765/lib/python3.11/site-packages/sklearn/metrics/_classification.py:1344: UndefinedMetricWarning: Precision and F-score are ill-defined and being set to 0.0 in labels with no predicted samples. Use `zero_division` parameter to control this behavior.\n",
      "  _warn_prf(average, modifier, msg_start, len(result))\n"
     ]
    },
    {
     "name": "stdout",
     "output_type": "stream",
     "text": [
      "Train Loss: 0.3535 Train Acc: 88.8306 %\n",
      "Test Accuracy of the model on the test sequences: 80.6273598605867 %\n",
      "{'precision': 0.8146291793164913, 'recall': 0.8082563396486673, 'f1': 0.8004612578314017}\n"
     ]
    },
    {
     "name": "stderr",
     "output_type": "stream",
     "text": [
      "/home/anirudha/miniconda3/envs/765/lib/python3.11/site-packages/sklearn/metrics/_classification.py:1344: UndefinedMetricWarning: Precision and F-score are ill-defined and being set to 0.0 in labels with no predicted samples. Use `zero_division` parameter to control this behavior.\n",
      "  _warn_prf(average, modifier, msg_start, len(result))\n"
     ]
    },
    {
     "name": "stdout",
     "output_type": "stream",
     "text": [
      "Train Loss: 0.3490 Train Acc: 88.9436 %\n",
      "Test Accuracy of the model on the test sequences: 80.87262400361442 %\n",
      "{'precision': 0.8149922669019244, 'recall': 0.8100983495079447, 'f1': 0.8019210896129637}\n"
     ]
    },
    {
     "name": "stderr",
     "output_type": "stream",
     "text": [
      "/home/anirudha/miniconda3/envs/765/lib/python3.11/site-packages/sklearn/metrics/_classification.py:1344: UndefinedMetricWarning: Precision and F-score are ill-defined and being set to 0.0 in labels with no predicted samples. Use `zero_division` parameter to control this behavior.\n",
      "  _warn_prf(average, modifier, msg_start, len(result))\n"
     ]
    },
    {
     "name": "stdout",
     "output_type": "stream",
     "text": [
      "Train Loss: 0.3444 Train Acc: 89.1146 %\n",
      "Test Accuracy of the model on the test sequences: 80.77903637009068 %\n",
      "{'precision': 0.8172170239593539, 'recall': 0.8090013163869717, 'f1': 0.8016270168261599}\n"
     ]
    },
    {
     "name": "stderr",
     "output_type": "stream",
     "text": [
      "/home/anirudha/miniconda3/envs/765/lib/python3.11/site-packages/sklearn/metrics/_classification.py:1344: UndefinedMetricWarning: Precision and F-score are ill-defined and being set to 0.0 in labels with no predicted samples. Use `zero_division` parameter to control this behavior.\n",
      "  _warn_prf(average, modifier, msg_start, len(result))\n"
     ]
    },
    {
     "name": "stdout",
     "output_type": "stream",
     "text": [
      "Train Loss: 0.3420 Train Acc: 89.2494 %\n",
      "Test Accuracy of the model on the test sequences: 80.50150062929616 %\n",
      "{'precision': 0.8125405719052875, 'recall': 0.8052594377300203, 'f1': 0.7982564888472664}\n"
     ]
    },
    {
     "name": "stderr",
     "output_type": "stream",
     "text": [
      "/home/anirudha/miniconda3/envs/765/lib/python3.11/site-packages/sklearn/metrics/_classification.py:1344: UndefinedMetricWarning: Precision and F-score are ill-defined and being set to 0.0 in labels with no predicted samples. Use `zero_division` parameter to control this behavior.\n",
      "  _warn_prf(average, modifier, msg_start, len(result))\n"
     ]
    },
    {
     "name": "stdout",
     "output_type": "stream",
     "text": [
      "Train Loss: 0.3375 Train Acc: 89.3389 %\n",
      "Test Accuracy of the model on the test sequences: 80.56604382482976 %\n",
      "{'precision': 0.8119837671251073, 'recall': 0.8071512179062059, 'f1': 0.7980493286198236}\n"
     ]
    },
    {
     "name": "stderr",
     "output_type": "stream",
     "text": [
      "/home/anirudha/miniconda3/envs/765/lib/python3.11/site-packages/sklearn/metrics/_classification.py:1344: UndefinedMetricWarning: Precision and F-score are ill-defined and being set to 0.0 in labels with no predicted samples. Use `zero_division` parameter to control this behavior.\n",
      "  _warn_prf(average, modifier, msg_start, len(result))\n"
     ]
    },
    {
     "name": "stdout",
     "output_type": "stream",
     "text": [
      "Train Loss: 0.3350 Train Acc: 89.3704 %\n",
      "Test Accuracy of the model on the test sequences: 80.6434956594701 %\n",
      "{'precision': 0.8151821117663033, 'recall': 0.807319631984903, 'f1': 0.8003770872237986}\n"
     ]
    },
    {
     "name": "stderr",
     "output_type": "stream",
     "text": [
      "/home/anirudha/miniconda3/envs/765/lib/python3.11/site-packages/sklearn/metrics/_classification.py:1344: UndefinedMetricWarning: Precision and F-score are ill-defined and being set to 0.0 in labels with no predicted samples. Use `zero_division` parameter to control this behavior.\n",
      "  _warn_prf(average, modifier, msg_start, len(result))\n"
     ]
    },
    {
     "name": "stdout",
     "output_type": "stream",
     "text": [
      "Train Loss: 0.3340 Train Acc: 89.3139 %\n",
      "Test Accuracy of the model on the test sequences: 80.68544873656695 %\n",
      "{'precision': 0.8132674015909607, 'recall': 0.8079051001188527, 'f1': 0.8001729170493106}\n"
     ]
    },
    {
     "name": "stderr",
     "output_type": "stream",
     "text": [
      "/home/anirudha/miniconda3/envs/765/lib/python3.11/site-packages/sklearn/metrics/_classification.py:1344: UndefinedMetricWarning: Precision and F-score are ill-defined and being set to 0.0 in labels with no predicted samples. Use `zero_division` parameter to control this behavior.\n",
      "  _warn_prf(average, modifier, msg_start, len(result))\n"
     ]
    },
    {
     "name": "stdout",
     "output_type": "stream",
     "text": [
      "Train Loss: 0.3289 Train Acc: 89.5035 %\n",
      "Test Accuracy of the model on the test sequences: 80.72740181366379 %\n",
      "{'precision': 0.8153546593459414, 'recall': 0.8078779969316398, 'f1': 0.8014858222144113}\n"
     ]
    },
    {
     "name": "stderr",
     "output_type": "stream",
     "text": [
      "/home/anirudha/miniconda3/envs/765/lib/python3.11/site-packages/sklearn/metrics/_classification.py:1344: UndefinedMetricWarning: Precision and F-score are ill-defined and being set to 0.0 in labels with no predicted samples. Use `zero_division` parameter to control this behavior.\n",
      "  _warn_prf(average, modifier, msg_start, len(result))\n"
     ]
    },
    {
     "name": "stdout",
     "output_type": "stream",
     "text": [
      "Train Loss: 0.3260 Train Acc: 89.6197 %\n",
      "Test Accuracy of the model on the test sequences: 80.82421660696421 %\n",
      "{'precision': 0.8167662486206636, 'recall': 0.8092909344453246, 'f1': 0.8023235378515238}\n"
     ]
    },
    {
     "name": "stderr",
     "output_type": "stream",
     "text": [
      "/home/anirudha/miniconda3/envs/765/lib/python3.11/site-packages/sklearn/metrics/_classification.py:1344: UndefinedMetricWarning: Precision and F-score are ill-defined and being set to 0.0 in labels with no predicted samples. Use `zero_division` parameter to control this behavior.\n",
      "  _warn_prf(average, modifier, msg_start, len(result))\n"
     ]
    },
    {
     "name": "stdout",
     "output_type": "stream",
     "text": [
      "Train Loss: 0.3241 Train Acc: 89.6019 %\n",
      "Test Accuracy of the model on the test sequences: 80.60476974214994 %\n",
      "{'precision': 0.8141331693246128, 'recall': 0.8077806697565952, 'f1': 0.7999867645975295}\n"
     ]
    },
    {
     "name": "stderr",
     "output_type": "stream",
     "text": [
      "/home/anirudha/miniconda3/envs/765/lib/python3.11/site-packages/sklearn/metrics/_classification.py:1344: UndefinedMetricWarning: Precision and F-score are ill-defined and being set to 0.0 in labels with no predicted samples. Use `zero_division` parameter to control this behavior.\n",
      "  _warn_prf(average, modifier, msg_start, len(result))\n"
     ]
    },
    {
     "name": "stdout",
     "output_type": "stream",
     "text": [
      "Train Loss: 0.3190 Train Acc: 89.7923 %\n",
      "Test Accuracy of the model on the test sequences: 81.06625359021525 %\n",
      "{'precision': 0.818125444718247, 'recall': 0.8113055527428212, 'f1': 0.8042727980179591}\n"
     ]
    },
    {
     "name": "stderr",
     "output_type": "stream",
     "text": [
      "/home/anirudha/miniconda3/envs/765/lib/python3.11/site-packages/sklearn/metrics/_classification.py:1344: UndefinedMetricWarning: Precision and F-score are ill-defined and being set to 0.0 in labels with no predicted samples. Use `zero_division` parameter to control this behavior.\n",
      "  _warn_prf(average, modifier, msg_start, len(result))\n"
     ]
    },
    {
     "name": "stdout",
     "output_type": "stream",
     "text": [
      "Train Loss: 0.3165 Train Acc: 89.7536 %\n",
      "Test Accuracy of the model on the test sequences: 80.74999193210056 %\n",
      "{'precision': 0.8158584598347952, 'recall': 0.8081927852151345, 'f1': 0.8017457303784792}\n"
     ]
    },
    {
     "name": "stderr",
     "output_type": "stream",
     "text": [
      "/home/anirudha/miniconda3/envs/765/lib/python3.11/site-packages/sklearn/metrics/_classification.py:1344: UndefinedMetricWarning: Precision and F-score are ill-defined and being set to 0.0 in labels with no predicted samples. Use `zero_division` parameter to control this behavior.\n",
      "  _warn_prf(average, modifier, msg_start, len(result))\n"
     ]
    },
    {
     "name": "stdout",
     "output_type": "stream",
     "text": [
      "Train Loss: 0.3158 Train Acc: 89.8254 %\n",
      "Test Accuracy of the model on the test sequences: 80.95653015780812 %\n",
      "{'precision': 0.818257338639102, 'recall': 0.8103176129484281, 'f1': 0.8032188713287756}\n"
     ]
    },
    {
     "name": "stderr",
     "output_type": "stream",
     "text": [
      "/home/anirudha/miniconda3/envs/765/lib/python3.11/site-packages/sklearn/metrics/_classification.py:1344: UndefinedMetricWarning: Precision and F-score are ill-defined and being set to 0.0 in labels with no predicted samples. Use `zero_division` parameter to control this behavior.\n",
      "  _warn_prf(average, modifier, msg_start, len(result))\n"
     ]
    },
    {
     "name": "stdout",
     "output_type": "stream",
     "text": [
      "Train Loss: 0.3132 Train Acc: 89.9125 %\n",
      "Test Accuracy of the model on the test sequences: 81.26311033659276 %\n",
      "{'precision': 0.8189540355698695, 'recall': 0.8135096663820836, 'f1': 0.8059352557806794}\n"
     ]
    },
    {
     "name": "stderr",
     "output_type": "stream",
     "text": [
      "/home/anirudha/miniconda3/envs/765/lib/python3.11/site-packages/sklearn/metrics/_classification.py:1344: UndefinedMetricWarning: Precision and F-score are ill-defined and being set to 0.0 in labels with no predicted samples. Use `zero_division` parameter to control this behavior.\n",
      "  _warn_prf(average, modifier, msg_start, len(result))\n"
     ]
    },
    {
     "name": "stdout",
     "output_type": "stream",
     "text": [
      "Train Loss: 0.3096 Train Acc: 90.0134 %\n",
      "Test Accuracy of the model on the test sequences: 80.5757253041598 %\n",
      "{'precision': 0.813923410625941, 'recall': 0.8067979335832917, 'f1': 0.7990898887348121}\n"
     ]
    },
    {
     "name": "stderr",
     "output_type": "stream",
     "text": [
      "/home/anirudha/miniconda3/envs/765/lib/python3.11/site-packages/sklearn/metrics/_classification.py:1344: UndefinedMetricWarning: Precision and F-score are ill-defined and being set to 0.0 in labels with no predicted samples. Use `zero_division` parameter to control this behavior.\n",
      "  _warn_prf(average, modifier, msg_start, len(result))\n"
     ]
    },
    {
     "name": "stdout",
     "output_type": "stream",
     "text": [
      "Train Loss: 0.3087 Train Acc: 90.0110 %\n",
      "Test Accuracy of the model on the test sequences: 81.1243424661955 %\n",
      "{'precision': 0.8183670921890148, 'recall': 0.8121625698246744, 'f1': 0.8059430110281097}\n"
     ]
    },
    {
     "name": "stderr",
     "output_type": "stream",
     "text": [
      "/home/anirudha/miniconda3/envs/765/lib/python3.11/site-packages/sklearn/metrics/_classification.py:1344: UndefinedMetricWarning: Precision and F-score are ill-defined and being set to 0.0 in labels with no predicted samples. Use `zero_division` parameter to control this behavior.\n",
      "  _warn_prf(average, modifier, msg_start, len(result))\n"
     ]
    },
    {
     "name": "stdout",
     "output_type": "stream",
     "text": [
      "Train Loss: 0.3053 Train Acc: 90.0319 %\n",
      "Test Accuracy of the model on the test sequences: 81.08561654887534 %\n",
      "{'precision': 0.8203954749452976, 'recall': 0.811984016278343, 'f1': 0.806364473555855}\n"
     ]
    },
    {
     "name": "stderr",
     "output_type": "stream",
     "text": [
      "/home/anirudha/miniconda3/envs/765/lib/python3.11/site-packages/sklearn/metrics/_classification.py:1344: UndefinedMetricWarning: Precision and F-score are ill-defined and being set to 0.0 in labels with no predicted samples. Use `zero_division` parameter to control this behavior.\n",
      "  _warn_prf(average, modifier, msg_start, len(result))\n"
     ]
    },
    {
     "name": "stdout",
     "output_type": "stream",
     "text": [
      "Train Loss: 0.3053 Train Acc: 90.0505 %\n",
      "Test Accuracy of the model on the test sequences: 80.99848323490497 %\n",
      "{'precision': 0.8165254138881015, 'recall': 0.8105705706215255, 'f1': 0.8039630509053398}\n"
     ]
    },
    {
     "name": "stderr",
     "output_type": "stream",
     "text": [
      "/home/anirudha/miniconda3/envs/765/lib/python3.11/site-packages/sklearn/metrics/_classification.py:1344: UndefinedMetricWarning: Precision and F-score are ill-defined and being set to 0.0 in labels with no predicted samples. Use `zero_division` parameter to control this behavior.\n",
      "  _warn_prf(average, modifier, msg_start, len(result))\n"
     ]
    },
    {
     "name": "stdout",
     "output_type": "stream",
     "text": [
      "Train Loss: 0.3024 Train Acc: 90.1255 %\n",
      "Test Accuracy of the model on the test sequences: 81.1243424661955 %\n",
      "{'precision': 0.8190044407040541, 'recall': 0.8111785817375657, 'f1': 0.8037017724323756}\n"
     ]
    },
    {
     "name": "stderr",
     "output_type": "stream",
     "text": [
      "/home/anirudha/miniconda3/envs/765/lib/python3.11/site-packages/sklearn/metrics/_classification.py:1344: UndefinedMetricWarning: Precision and F-score are ill-defined and being set to 0.0 in labels with no predicted samples. Use `zero_division` parameter to control this behavior.\n",
      "  _warn_prf(average, modifier, msg_start, len(result))\n"
     ]
    },
    {
     "name": "stdout",
     "output_type": "stream",
     "text": [
      "Train Loss: 0.3013 Train Acc: 90.1538 %\n",
      "Test Accuracy of the model on the test sequences: 81.08561654887534 %\n",
      "{'precision': 0.8193057290427151, 'recall': 0.8118010862693433, 'f1': 0.8045190077891484}\n"
     ]
    },
    {
     "name": "stderr",
     "output_type": "stream",
     "text": [
      "/home/anirudha/miniconda3/envs/765/lib/python3.11/site-packages/sklearn/metrics/_classification.py:1344: UndefinedMetricWarning: Precision and F-score are ill-defined and being set to 0.0 in labels with no predicted samples. Use `zero_division` parameter to control this behavior.\n",
      "  _warn_prf(average, modifier, msg_start, len(result))\n"
     ]
    },
    {
     "name": "stdout",
     "output_type": "stream",
     "text": [
      "Train Loss: 0.2989 Train Acc: 90.2385 %\n",
      "Test Accuracy of the model on the test sequences: 80.78549068964405 %\n",
      "{'precision': 0.81396460632525, 'recall': 0.8094616890292228, 'f1': 0.8021818445797038}\n"
     ]
    },
    {
     "name": "stderr",
     "output_type": "stream",
     "text": [
      "/home/anirudha/miniconda3/envs/765/lib/python3.11/site-packages/sklearn/metrics/_classification.py:1344: UndefinedMetricWarning: Precision and F-score are ill-defined and being set to 0.0 in labels with no predicted samples. Use `zero_division` parameter to control this behavior.\n",
      "  _warn_prf(average, modifier, msg_start, len(result))\n"
     ]
    },
    {
     "name": "stdout",
     "output_type": "stream",
     "text": [
      "Train Loss: 0.2979 Train Acc: 90.3022 %\n",
      "Test Accuracy of the model on the test sequences: 81.51482879917384 %\n",
      "{'precision': 0.823176594277875, 'recall': 0.8160995859520414, 'f1': 0.8100293215041627}\n"
     ]
    },
    {
     "name": "stderr",
     "output_type": "stream",
     "text": [
      "/home/anirudha/miniconda3/envs/765/lib/python3.11/site-packages/sklearn/metrics/_classification.py:1344: UndefinedMetricWarning: Precision and F-score are ill-defined and being set to 0.0 in labels with no predicted samples. Use `zero_division` parameter to control this behavior.\n",
      "  _warn_prf(average, modifier, msg_start, len(result))\n"
     ]
    },
    {
     "name": "stdout",
     "output_type": "stream",
     "text": [
      "Train Loss: 0.2941 Train Acc: 90.3950 %\n",
      "Test Accuracy of the model on the test sequences: 80.94684867847808 %\n",
      "{'precision': 0.815175713633653, 'recall': 0.8107820853444876, 'f1': 0.8032329155149949}\n"
     ]
    },
    {
     "name": "stderr",
     "output_type": "stream",
     "text": [
      "/home/anirudha/miniconda3/envs/765/lib/python3.11/site-packages/sklearn/metrics/_classification.py:1344: UndefinedMetricWarning: Precision and F-score are ill-defined and being set to 0.0 in labels with no predicted samples. Use `zero_division` parameter to control this behavior.\n",
      "  _warn_prf(average, modifier, msg_start, len(result))\n"
     ]
    },
    {
     "name": "stdout",
     "output_type": "stream",
     "text": [
      "Train Loss: 0.2949 Train Acc: 90.2554 %\n",
      "Test Accuracy of the model on the test sequences: 81.05979927066188 %\n",
      "{'precision': 0.8165407971715513, 'recall': 0.8112443400638263, 'f1': 0.8043529555854347}\n"
     ]
    },
    {
     "name": "stderr",
     "output_type": "stream",
     "text": [
      "/home/anirudha/miniconda3/envs/765/lib/python3.11/site-packages/sklearn/metrics/_classification.py:1344: UndefinedMetricWarning: Precision and F-score are ill-defined and being set to 0.0 in labels with no predicted samples. Use `zero_division` parameter to control this behavior.\n",
      "  _warn_prf(average, modifier, msg_start, len(result))\n"
     ]
    },
    {
     "name": "stdout",
     "output_type": "stream",
     "text": [
      "Train Loss: 0.2924 Train Acc: 90.3660 %\n",
      "Test Accuracy of the model on the test sequences: 80.96943879691483 %\n",
      "{'precision': 0.8171712463971795, 'recall': 0.8100646364980506, 'f1': 0.8041206746564109}\n"
     ]
    },
    {
     "name": "stderr",
     "output_type": "stream",
     "text": [
      "/home/anirudha/miniconda3/envs/765/lib/python3.11/site-packages/sklearn/metrics/_classification.py:1344: UndefinedMetricWarning: Precision and F-score are ill-defined and being set to 0.0 in labels with no predicted samples. Use `zero_division` parameter to control this behavior.\n",
      "  _warn_prf(average, modifier, msg_start, len(result))\n"
     ]
    },
    {
     "name": "stdout",
     "output_type": "stream",
     "text": [
      "Train Loss: 0.2895 Train Acc: 90.4466 %\n",
      "Test Accuracy of the model on the test sequences: 81.28892761480621 %\n",
      "{'precision': 0.8196207918998113, 'recall': 0.813640313488402, 'f1': 0.8073154314797016}\n"
     ]
    },
    {
     "name": "stderr",
     "output_type": "stream",
     "text": [
      "/home/anirudha/miniconda3/envs/765/lib/python3.11/site-packages/sklearn/metrics/_classification.py:1344: UndefinedMetricWarning: Precision and F-score are ill-defined and being set to 0.0 in labels with no predicted samples. Use `zero_division` parameter to control this behavior.\n",
      "  _warn_prf(average, modifier, msg_start, len(result))\n"
     ]
    },
    {
     "name": "stdout",
     "output_type": "stream",
     "text": [
      "Train Loss: 0.2871 Train Acc: 90.5733 %\n",
      "Test Accuracy of the model on the test sequences: 80.83389808629425 %\n",
      "{'precision': 0.8165056961807735, 'recall': 0.8095717740244296, 'f1': 0.8022494564472954}\n"
     ]
    },
    {
     "name": "stderr",
     "output_type": "stream",
     "text": [
      "/home/anirudha/miniconda3/envs/765/lib/python3.11/site-packages/sklearn/metrics/_classification.py:1344: UndefinedMetricWarning: Precision and F-score are ill-defined and being set to 0.0 in labels with no predicted samples. Use `zero_division` parameter to control this behavior.\n",
      "  _warn_prf(average, modifier, msg_start, len(result))\n"
     ]
    },
    {
     "name": "stdout",
     "output_type": "stream",
     "text": [
      "Train Loss: 0.2872 Train Acc: 90.4797 %\n",
      "Test Accuracy of the model on the test sequences: 81.22115725949591 %\n",
      "{'precision': 0.8210451332966844, 'recall': 0.8124557580064855, 'f1': 0.8066392091274284}\n"
     ]
    },
    {
     "name": "stderr",
     "output_type": "stream",
     "text": [
      "/home/anirudha/miniconda3/envs/765/lib/python3.11/site-packages/sklearn/metrics/_classification.py:1344: UndefinedMetricWarning: Precision and F-score are ill-defined and being set to 0.0 in labels with no predicted samples. Use `zero_division` parameter to control this behavior.\n",
      "  _warn_prf(average, modifier, msg_start, len(result))\n"
     ]
    },
    {
     "name": "stdout",
     "output_type": "stream",
     "text": [
      "Train Loss: 0.2834 Train Acc: 90.6274 %\n",
      "Test Accuracy of the model on the test sequences: 81.13725110530223 %\n",
      "{'precision': 0.8179663173721453, 'recall': 0.8124171555352137, 'f1': 0.8049368664068943}\n"
     ]
    },
    {
     "name": "stderr",
     "output_type": "stream",
     "text": [
      "/home/anirudha/miniconda3/envs/765/lib/python3.11/site-packages/sklearn/metrics/_classification.py:1344: UndefinedMetricWarning: Precision and F-score are ill-defined and being set to 0.0 in labels with no predicted samples. Use `zero_division` parameter to control this behavior.\n",
      "  _warn_prf(average, modifier, msg_start, len(result))\n"
     ]
    },
    {
     "name": "stdout",
     "output_type": "stream",
     "text": [
      "Train Loss: 0.2840 Train Acc: 90.5725 %\n",
      "Test Accuracy of the model on the test sequences: 81.30183625391292 %\n",
      "{'precision': 0.8193375716068003, 'recall': 0.8148660504896991, 'f1': 0.8073520509047718}\n"
     ]
    },
    {
     "name": "stderr",
     "output_type": "stream",
     "text": [
      "/home/anirudha/miniconda3/envs/765/lib/python3.11/site-packages/sklearn/metrics/_classification.py:1344: UndefinedMetricWarning: Precision and F-score are ill-defined and being set to 0.0 in labels with no predicted samples. Use `zero_division` parameter to control this behavior.\n",
      "  _warn_prf(average, modifier, msg_start, len(result))\n"
     ]
    },
    {
     "name": "stdout",
     "output_type": "stream",
     "text": [
      "Train Loss: 0.2808 Train Acc: 90.6443 %\n",
      "Test Accuracy of the model on the test sequences: 80.95007583825475 %\n",
      "{'precision': 0.8142166428873071, 'recall': 0.8109489730582284, 'f1': 0.8021154380758713}\n"
     ]
    },
    {
     "name": "stderr",
     "output_type": "stream",
     "text": [
      "/home/anirudha/miniconda3/envs/765/lib/python3.11/site-packages/sklearn/metrics/_classification.py:1344: UndefinedMetricWarning: Precision and F-score are ill-defined and being set to 0.0 in labels with no predicted samples. Use `zero_division` parameter to control this behavior.\n",
      "  _warn_prf(average, modifier, msg_start, len(result))\n"
     ]
    },
    {
     "name": "stdout",
     "output_type": "stream",
     "text": [
      "Train Loss: 0.2774 Train Acc: 90.7621 %\n",
      "Test Accuracy of the model on the test sequences: 81.23729305837932 %\n",
      "{'precision': 0.8192843023376257, 'recall': 0.8129356957983251, 'f1': 0.8053849189212503}\n"
     ]
    },
    {
     "name": "stderr",
     "output_type": "stream",
     "text": [
      "/home/anirudha/miniconda3/envs/765/lib/python3.11/site-packages/sklearn/metrics/_classification.py:1344: UndefinedMetricWarning: Precision and F-score are ill-defined and being set to 0.0 in labels with no predicted samples. Use `zero_division` parameter to control this behavior.\n",
      "  _warn_prf(average, modifier, msg_start, len(result))\n"
     ]
    },
    {
     "name": "stdout",
     "output_type": "stream",
     "text": [
      "Train Loss: 0.2771 Train Acc: 90.7742 %\n",
      "Test Accuracy of the model on the test sequences: 81.37928808855327 %\n",
      "{'precision': 0.821540090852204, 'recall': 0.8151197117907483, 'f1': 0.8089252763957802}\n"
     ]
    },
    {
     "name": "stderr",
     "output_type": "stream",
     "text": [
      "/home/anirudha/miniconda3/envs/765/lib/python3.11/site-packages/sklearn/metrics/_classification.py:1344: UndefinedMetricWarning: Precision and F-score are ill-defined and being set to 0.0 in labels with no predicted samples. Use `zero_division` parameter to control this behavior.\n",
      "  _warn_prf(average, modifier, msg_start, len(result))\n"
     ]
    },
    {
     "name": "stdout",
     "output_type": "stream",
     "text": [
      "Train Loss: 0.2767 Train Acc: 90.7694 %\n",
      "Test Accuracy of the model on the test sequences: 81.09207086842869 %\n",
      "{'precision': 0.8185758507627771, 'recall': 0.8127409203824263, 'f1': 0.8059238191425472}\n"
     ]
    },
    {
     "name": "stderr",
     "output_type": "stream",
     "text": [
      "/home/anirudha/miniconda3/envs/765/lib/python3.11/site-packages/sklearn/metrics/_classification.py:1344: UndefinedMetricWarning: Precision and F-score are ill-defined and being set to 0.0 in labels with no predicted samples. Use `zero_division` parameter to control this behavior.\n",
      "  _warn_prf(average, modifier, msg_start, len(result))\n"
     ]
    },
    {
     "name": "stdout",
     "output_type": "stream",
     "text": [
      "Train Loss: 0.2752 Train Acc: 90.8589 %\n",
      "Test Accuracy of the model on the test sequences: 81.52451027850388 %\n",
      "{'precision': 0.8185492536420454, 'recall': 0.815692317242414, 'f1': 0.8083438724883848}\n"
     ]
    },
    {
     "name": "stderr",
     "output_type": "stream",
     "text": [
      "/home/anirudha/miniconda3/envs/765/lib/python3.11/site-packages/sklearn/metrics/_classification.py:1344: UndefinedMetricWarning: Precision and F-score are ill-defined and being set to 0.0 in labels with no predicted samples. Use `zero_division` parameter to control this behavior.\n",
      "  _warn_prf(average, modifier, msg_start, len(result))\n"
     ]
    },
    {
     "name": "stdout",
     "output_type": "stream",
     "text": [
      "Train Loss: 0.2745 Train Acc: 90.8178 %\n",
      "Test Accuracy of the model on the test sequences: 81.38251524832995 %\n",
      "{'precision': 0.8236990221729299, 'recall': 0.8148848425292965, 'f1': 0.8086205309062618}\n"
     ]
    },
    {
     "name": "stderr",
     "output_type": "stream",
     "text": [
      "/home/anirudha/miniconda3/envs/765/lib/python3.11/site-packages/sklearn/metrics/_classification.py:1344: UndefinedMetricWarning: Precision and F-score are ill-defined and being set to 0.0 in labels with no predicted samples. Use `zero_division` parameter to control this behavior.\n",
      "  _warn_prf(average, modifier, msg_start, len(result))\n"
     ]
    },
    {
     "name": "stdout",
     "output_type": "stream",
     "text": [
      "Train Loss: 0.2704 Train Acc: 91.0122 %\n",
      "Test Accuracy of the model on the test sequences: 81.32119921257302 %\n",
      "{'precision': 0.8212268986212773, 'recall': 0.8141620601234405, 'f1': 0.8075193212780551}\n"
     ]
    },
    {
     "name": "stderr",
     "output_type": "stream",
     "text": [
      "/home/anirudha/miniconda3/envs/765/lib/python3.11/site-packages/sklearn/metrics/_classification.py:1344: UndefinedMetricWarning: Precision and F-score are ill-defined and being set to 0.0 in labels with no predicted samples. Use `zero_division` parameter to control this behavior.\n",
      "  _warn_prf(average, modifier, msg_start, len(result))\n"
     ]
    },
    {
     "name": "stdout",
     "output_type": "stream",
     "text": [
      "Train Loss: 0.2697 Train Acc: 91.0453 %\n",
      "Test Accuracy of the model on the test sequences: 81.0404363120018 %\n",
      "{'precision': 0.8190716294475839, 'recall': 0.8116739988719919, 'f1': 0.804360778545657}\n"
     ]
    },
    {
     "name": "stderr",
     "output_type": "stream",
     "text": [
      "/home/anirudha/miniconda3/envs/765/lib/python3.11/site-packages/sklearn/metrics/_classification.py:1344: UndefinedMetricWarning: Precision and F-score are ill-defined and being set to 0.0 in labels with no predicted samples. Use `zero_division` parameter to control this behavior.\n",
      "  _warn_prf(average, modifier, msg_start, len(result))\n"
     ]
    },
    {
     "name": "stdout",
     "output_type": "stream",
     "text": [
      "Train Loss: 0.2695 Train Acc: 91.0001 %\n",
      "Test Accuracy of the model on the test sequences: 81.63423371091103 %\n",
      "{'precision': 0.8230207894525238, 'recall': 0.8177434606539614, 'f1': 0.8105871726053361}\n"
     ]
    },
    {
     "name": "stderr",
     "output_type": "stream",
     "text": [
      "/home/anirudha/miniconda3/envs/765/lib/python3.11/site-packages/sklearn/metrics/_classification.py:1344: UndefinedMetricWarning: Precision and F-score are ill-defined and being set to 0.0 in labels with no predicted samples. Use `zero_division` parameter to control this behavior.\n",
      "  _warn_prf(average, modifier, msg_start, len(result))\n"
     ]
    },
    {
     "name": "stdout",
     "output_type": "stream",
     "text": [
      "Train Loss: 0.2680 Train Acc: 91.0235 %\n",
      "Test Accuracy of the model on the test sequences: 80.84680672540098 %\n",
      "{'precision': 0.8142334605700798, 'recall': 0.8083725812910169, 'f1': 0.8017673288583322}\n"
     ]
    },
    {
     "name": "stderr",
     "output_type": "stream",
     "text": [
      "/home/anirudha/miniconda3/envs/765/lib/python3.11/site-packages/sklearn/metrics/_classification.py:1344: UndefinedMetricWarning: Precision and F-score are ill-defined and being set to 0.0 in labels with no predicted samples. Use `zero_division` parameter to control this behavior.\n",
      "  _warn_prf(average, modifier, msg_start, len(result))\n"
     ]
    },
    {
     "name": "stdout",
     "output_type": "stream",
     "text": [
      "Train Loss: 0.2679 Train Acc: 91.0154 %\n",
      "Test Accuracy of the model on the test sequences: 81.159841223739 %\n",
      "{'precision': 0.8216350136401903, 'recall': 0.8126197009861501, 'f1': 0.8056978475588901}\n"
     ]
    },
    {
     "name": "stderr",
     "output_type": "stream",
     "text": [
      "/home/anirudha/miniconda3/envs/765/lib/python3.11/site-packages/sklearn/metrics/_classification.py:1344: UndefinedMetricWarning: Precision and F-score are ill-defined and being set to 0.0 in labels with no predicted samples. Use `zero_division` parameter to control this behavior.\n",
      "  _warn_prf(average, modifier, msg_start, len(result))\n"
     ]
    },
    {
     "name": "stdout",
     "output_type": "stream",
     "text": [
      "Train Loss: 0.2667 Train Acc: 91.0945 %\n",
      "Test Accuracy of the model on the test sequences: 81.18243134217575 %\n",
      "{'precision': 0.820298913426493, 'recall': 0.8128098503260813, 'f1': 0.8057473206705531}\n"
     ]
    },
    {
     "name": "stderr",
     "output_type": "stream",
     "text": [
      "/home/anirudha/miniconda3/envs/765/lib/python3.11/site-packages/sklearn/metrics/_classification.py:1344: UndefinedMetricWarning: Precision and F-score are ill-defined and being set to 0.0 in labels with no predicted samples. Use `zero_division` parameter to control this behavior.\n",
      "  _warn_prf(average, modifier, msg_start, len(result))\n"
     ]
    },
    {
     "name": "stdout",
     "output_type": "stream",
     "text": [
      "Train Loss: 0.2663 Train Acc: 91.0711 %\n",
      "Test Accuracy of the model on the test sequences: 81.27924613547617 %\n",
      "{'precision': 0.8190247610818221, 'recall': 0.8130836310273521, 'f1': 0.8077582532722957}\n"
     ]
    },
    {
     "name": "stderr",
     "output_type": "stream",
     "text": [
      "/home/anirudha/miniconda3/envs/765/lib/python3.11/site-packages/sklearn/metrics/_classification.py:1344: UndefinedMetricWarning: Precision and F-score are ill-defined and being set to 0.0 in labels with no predicted samples. Use `zero_division` parameter to control this behavior.\n",
      "  _warn_prf(average, modifier, msg_start, len(result))\n"
     ]
    },
    {
     "name": "stdout",
     "output_type": "stream",
     "text": [
      "Train Loss: 0.2625 Train Acc: 91.1905 %\n",
      "Test Accuracy of the model on the test sequences: 81.46642140252364 %\n",
      "{'precision': 0.8208034717676439, 'recall': 0.8156966291304549, 'f1': 0.8086783503718801}\n"
     ]
    },
    {
     "name": "stderr",
     "output_type": "stream",
     "text": [
      "/home/anirudha/miniconda3/envs/765/lib/python3.11/site-packages/sklearn/metrics/_classification.py:1344: UndefinedMetricWarning: Precision and F-score are ill-defined and being set to 0.0 in labels with no predicted samples. Use `zero_division` parameter to control this behavior.\n",
      "  _warn_prf(average, modifier, msg_start, len(result))\n"
     ]
    },
    {
     "name": "stdout",
     "output_type": "stream",
     "text": [
      "Train Loss: 0.2637 Train Acc: 91.1816 %\n",
      "Test Accuracy of the model on the test sequences: 81.01784619356505 %\n",
      "{'precision': 0.8177414281232975, 'recall': 0.8108787803670131, 'f1': 0.8041144406471109}\n"
     ]
    },
    {
     "name": "stderr",
     "output_type": "stream",
     "text": [
      "/home/anirudha/miniconda3/envs/765/lib/python3.11/site-packages/sklearn/metrics/_classification.py:1344: UndefinedMetricWarning: Precision and F-score are ill-defined and being set to 0.0 in labels with no predicted samples. Use `zero_division` parameter to control this behavior.\n",
      "  _warn_prf(average, modifier, msg_start, len(result))\n"
     ]
    },
    {
     "name": "stdout",
     "output_type": "stream",
     "text": [
      "Train Loss: 0.2632 Train Acc: 91.0929 %\n",
      "Test Accuracy of the model on the test sequences: 81.39542388743666 %\n",
      "{'precision': 0.8206574043309376, 'recall': 0.8149757150640119, 'f1': 0.8085692629878694}\n"
     ]
    },
    {
     "name": "stderr",
     "output_type": "stream",
     "text": [
      "/home/anirudha/miniconda3/envs/765/lib/python3.11/site-packages/sklearn/metrics/_classification.py:1344: UndefinedMetricWarning: Precision and F-score are ill-defined and being set to 0.0 in labels with no predicted samples. Use `zero_division` parameter to control this behavior.\n",
      "  _warn_prf(average, modifier, msg_start, len(result))\n"
     ]
    },
    {
     "name": "stdout",
     "output_type": "stream",
     "text": [
      "Train Loss: 0.2607 Train Acc: 91.1413 %\n",
      "Test Accuracy of the model on the test sequences: 81.29538193435957 %\n",
      "{'precision': 0.8217021167528406, 'recall': 0.8148379946702076, 'f1': 0.8082826068937929}\n"
     ]
    },
    {
     "name": "stderr",
     "output_type": "stream",
     "text": [
      "/home/anirudha/miniconda3/envs/765/lib/python3.11/site-packages/sklearn/metrics/_classification.py:1344: UndefinedMetricWarning: Precision and F-score are ill-defined and being set to 0.0 in labels with no predicted samples. Use `zero_division` parameter to control this behavior.\n",
      "  _warn_prf(average, modifier, msg_start, len(result))\n"
     ]
    },
    {
     "name": "stdout",
     "output_type": "stream",
     "text": [
      "Train Loss: 0.2566 Train Acc: 91.3535 %\n",
      "Test Accuracy of the model on the test sequences: 81.28570045502953 %\n",
      "{'precision': 0.8207537058149361, 'recall': 0.8145911327468274, 'f1': 0.8075583907885462}\n"
     ]
    },
    {
     "name": "stderr",
     "output_type": "stream",
     "text": [
      "/home/anirudha/miniconda3/envs/765/lib/python3.11/site-packages/sklearn/metrics/_classification.py:1344: UndefinedMetricWarning: Precision and F-score are ill-defined and being set to 0.0 in labels with no predicted samples. Use `zero_division` parameter to control this behavior.\n",
      "  _warn_prf(average, modifier, msg_start, len(result))\n"
     ]
    },
    {
     "name": "stdout",
     "output_type": "stream",
     "text": [
      "Train Loss: 0.2582 Train Acc: 91.1808 %\n",
      "Test Accuracy of the model on the test sequences: 81.48578436118372 %\n",
      "{'precision': 0.8234383057847551, 'recall': 0.8159869226482562, 'f1': 0.8094023912229559}\n"
     ]
    },
    {
     "name": "stderr",
     "output_type": "stream",
     "text": [
      "/home/anirudha/miniconda3/envs/765/lib/python3.11/site-packages/sklearn/metrics/_classification.py:1344: UndefinedMetricWarning: Precision and F-score are ill-defined and being set to 0.0 in labels with no predicted samples. Use `zero_division` parameter to control this behavior.\n",
      "  _warn_prf(average, modifier, msg_start, len(result))\n"
     ]
    }
   ],
   "source": [
    "from sklearn.metrics import precision_recall_fscore_support\n",
    "def get_precision_recall_f1(y_true, y_pred):\n",
    "    \"\"\"Calculate precision, recall, F1 score for each class.\n",
    "    Args:\n",
    "        y_true (list): list of true labels\n",
    "        y_pred (list): list of predicted labels\n",
    "    Returns:\n",
    "        dict: dictionary with precision, recall, F1 score for each class\n",
    "    \"\"\"\n",
    "    # Calculate precision, recall, F1 score for each class\n",
    "    precision, recall, f1, _ = precision_recall_fscore_support(y_true, y_pred, average='macro')\n",
    "    return {\n",
    "        \"precision\": precision,\n",
    "        \"recall\": recall,\n",
    "        \"f1\": f1\n",
    "    }\n",
    "\n",
    "num_epochs = 100\n",
    "# optimizer = optimizer.to(device)\n",
    "for epoch in range(num_epochs):\n",
    "    running_loss = 0.0\n",
    "    running_corrects = 0\n",
    "    rnn.train()\n",
    "    for sequences, labels in train_loader:\n",
    "        optimizer.zero_grad()\n",
    "        labels = labels.to(device)\n",
    "        sequences = sequences.to(device)\n",
    "        sequences = sequences.unsqueeze(1)\n",
    "        outputs = rnn(sequences)\n",
    "        \n",
    "        # print(sequences.shape)\n",
    "        # print(outputs.shape)\n",
    "        # print(labels.shape)\n",
    "        loss = criterion(outputs, labels)\n",
    "        loss.backward()\n",
    "        optimizer.step()\n",
    "        running_loss += loss.item() * sequences.size(0)\n",
    "        _, preds = torch.max(outputs, 1)\n",
    "        running_corrects += torch.sum(preds == labels)\n",
    "    epoch_loss = running_loss / len(train_dataset)\n",
    "    epoch_acc = running_corrects.double() /len(train_dataset)\n",
    "    print('Train Loss: {:.4f} Train Acc: {:.4f} %'.format(epoch_loss, epoch_acc*100))\n",
    "    \n",
    "    # test the model\n",
    "    rnn.eval()\n",
    "    with torch.no_grad():\n",
    "        correct = 0\n",
    "        total = 0\n",
    "        total_preds = []\n",
    "        total_labels = []\n",
    "        for sequences, labels in val_loader:\n",
    "            sequences = sequences.to(device)\n",
    "            labels = labels.to(device)\n",
    "            sequences = sequences.unsqueeze(1)\n",
    "            outputs = rnn(sequences)\n",
    "            _, predicted = torch.max(outputs.data, 1)\n",
    "            total += labels.size(0)\n",
    "            correct += (predicted == labels).sum().item()\n",
    "            total_preds.append(predicted)\n",
    "            total_labels.append(labels)\n",
    "        \n",
    "        print('Test Accuracy of the model on the test sequences: {} %'.format(100 * correct / total))\n",
    "        total_preds = torch.cat(total_preds, dim=0)\n",
    "        total_labels = torch.cat(total_labels, dim=0)\n",
    "        print(get_precision_recall_f1(total_labels.cpu(), total_preds.cpu()))"
   ]
  },
  {
   "cell_type": "code",
   "execution_count": null,
   "metadata": {},
   "outputs": [
    {
     "name": "stdout",
     "output_type": "stream",
     "text": [
      "torch.Size([1467])\n",
      "torch.Size([1500])\n",
      "Accuracy:0.7917\n",
      "torch.Size([30987])\n",
      "Precision:0.8021 Recall:0.7924 F1:0.7865\n"
     ]
    },
    {
     "name": "stderr",
     "output_type": "stream",
     "text": [
      "/home/anirudha/miniconda3/envs/765/lib/python3.11/site-packages/sklearn/metrics/_classification.py:1344: UndefinedMetricWarning: Precision and F-score are ill-defined and being set to 0.0 in labels with no predicted samples. Use `zero_division` parameter to control this behavior.\n",
      "  _warn_prf(average, modifier, msg_start, len(result))\n",
      "/home/anirudha/miniconda3/envs/765/lib/python3.11/site-packages/sklearn/metrics/_classification.py:1344: UndefinedMetricWarning: Precision and F-score are ill-defined and being set to 0.0 in labels with no predicted samples. Use `zero_division` parameter to control this behavior.\n",
      "  _warn_prf(average, modifier, msg_start, len(result))\n",
      "/home/anirudha/miniconda3/envs/765/lib/python3.11/site-packages/sklearn/metrics/_classification.py:1344: UndefinedMetricWarning: Precision and F-score are ill-defined and being set to 0.0 in labels with no predicted samples. Use `zero_division` parameter to control this behavior.\n",
      "  _warn_prf(average, modifier, msg_start, len(result))\n"
     ]
    }
   ],
   "source": [
    "print(total_preds.unique().shape)\n",
    "print(total_labels.unique().shape)\n",
    "print(\"Accuracy:{:.4f}\".format(torch.sum(total_preds == total_labels).item()/len(total_labels)))\n",
    "print(total_preds.shape)\n",
    "print(\"Precision:{:.4f} Recall:{:.4f} F1:{:.4f}\".format(get_precision_recall_f1(total_labels.cpu(), total_preds.cpu())['precision'], get_precision_recall_f1(total_labels.cpu(), total_preds.cpu())['recall'], get_precision_recall_f1(total_labels.cpu(), total_preds.cpu())['f1']))"
   ]
  },
  {
   "cell_type": "code",
   "execution_count": null,
   "metadata": {},
   "outputs": [
    {
     "name": "stdout",
     "output_type": "stream",
     "text": [
      "Val Loss: 1.7257 Val Acc: 0.6621\n"
     ]
    }
   ],
   "source": [
    "# Evaluate the model\n",
    "running_loss = 0.0\n",
    "running_corrects = 0\n",
    "rnn.eval()\n",
    "with torch.no_grad():\n",
    "    for sequences, labels in val_loader:\n",
    "        labels = labels.to(device)\n",
    "        sequences = sequences.to(device)\n",
    "        sequences = sequences.unsqueeze(1)\n",
    "        outputs = rnn(sequences)\n",
    "        loss = criterion(outputs, labels)\n",
    "        running_loss += loss.item() * sequences.size(0)\n",
    "        _, preds = torch.max(outputs, 1)\n",
    "        running_corrects += torch.sum(preds == labels)\n",
    "epoch_loss = running_loss / len(val_dataset)\n",
    "epoch_acc = running_corrects.double() / len(val_dataset)\n",
    "print('Val Loss: {:.4f} Val Acc: {:.4f}'.format(epoch_loss, epoch_acc))\n"
   ]
  },
  {
   "cell_type": "code",
   "execution_count": null,
   "metadata": {},
   "outputs": [
    {
     "name": "stdout",
     "output_type": "stream",
     "text": [
      "Accuracy: 90%\n"
     ]
    }
   ],
   "source": [
    "accuracy = model.predict(test_data)\n",
    "print(\"Accuracy: \", accuracy,\"%\")"
   ]
  },
  {
   "cell_type": "code",
   "execution_count": null,
   "metadata": {},
   "outputs": [],
   "source": [
    "a = torch.tensor([[1]])"
   ]
  }
 ],
 "metadata": {
  "kernelspec": {
   "display_name": "707",
   "language": "python",
   "name": "python3"
  },
  "language_info": {
   "codemirror_mode": {
    "name": "ipython",
    "version": 3
   },
   "file_extension": ".py",
   "mimetype": "text/x-python",
   "name": "python",
   "nbconvert_exporter": "python",
   "pygments_lexer": "ipython3",
   "version": "3.11.2"
  },
  "orig_nbformat": 4
 },
 "nbformat": 4,
 "nbformat_minor": 2
}
