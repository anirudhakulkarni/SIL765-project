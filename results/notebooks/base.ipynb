{
 "cells": [
  {
   "cell_type": "markdown",
   "metadata": {},
   "source": [
    "# Base experiment Results (Section 5A)"
   ]
  },
  {
   "cell_type": "code",
   "execution_count": 1,
   "metadata": {},
   "outputs": [],
   "source": [
    "import os\n",
    "from os.path import join, dirname, abspath, pardir\n",
    "import sys\n",
    "sys.path.append(os.path.abspath('../../code/classification'))\n",
    "from classify_pipeline import *\n",
    "from process_results import *"
   ]
  },
  {
   "cell_type": "markdown",
   "metadata": {},
   "source": [
    "## Full Dataset"
   ]
  },
  {
   "cell_type": "code",
   "execution_count": null,
   "metadata": {},
   "outputs": [
    {
     "name": "stdout",
     "output_type": "stream",
     "text": [
      "/workspaces/doh_traffic_analysis/dataset/pickles/loc1.pickle\n",
      "Loading /workspaces/doh_traffic_analysis/dataset/loc1\n",
      "Starting to parse\n",
      "Number of selected files 0\n",
      "Empty traces: 0\n",
      "Pickling to /workspaces/doh_traffic_analysis/dataset/loc1.pickle\n",
      "Trim data to required number of samples and classes\n"
     ]
    },
    {
     "ename": "KeyError",
     "evalue": "'class_label'",
     "output_type": "error",
     "traceback": [
      "\u001b[0;31m---------------------------------------------------------------------------\u001b[0m",
      "\u001b[0;31mKeyError\u001b[0m                                  Traceback (most recent call last)",
      "Cell \u001b[0;32mIn[2], line 2\u001b[0m\n\u001b[1;32m      1\u001b[0m \u001b[39m#Run experiment\u001b[39;00m\n\u001b[0;32m----> 2\u001b[0m normal_experiment()\n",
      "File \u001b[0;32m/workspaces/doh_traffic_analysis/code/classification/classify_pipeline.py:283\u001b[0m, in \u001b[0;36mnormal_experiment\u001b[0;34m(remove_bad)\u001b[0m\n\u001b[1;32m    280\u001b[0m     df \u001b[39m=\u001b[39m remove_strange(df, STRANGE_URL_LIST, urls)\n\u001b[1;32m    282\u001b[0m \u001b[39mprint\u001b[39m(\u001b[39m\"\u001b[39m\u001b[39mTrim data to required number of samples and classes\u001b[39m\u001b[39m\"\u001b[39m)\n\u001b[0;32m--> 283\u001b[0m df_trimmed \u001b[39m=\u001b[39m trim_sample_df(df, num_samples, \u001b[39mmap\u001b[39;49m(\u001b[39mstr\u001b[39;49m, \u001b[39mrange\u001b[39;49m(num_classes)))\n\u001b[1;32m    284\u001b[0m \u001b[39mprint\u001b[39m(\u001b[39m\"\u001b[39m\u001b[39mStart cross validation\u001b[39m\u001b[39m\"\u001b[39m)\n\u001b[1;32m    285\u001b[0m start \u001b[39m=\u001b[39m time\u001b[39m.\u001b[39mtime()\n",
      "File \u001b[0;32m/workspaces/doh_traffic_analysis/code/classification/utils/util.py:118\u001b[0m, in \u001b[0;36mtrim_sample_df\u001b[0;34m(df, num_insts, classes)\u001b[0m\n\u001b[1;32m    117\u001b[0m \u001b[39mdef\u001b[39;00m \u001b[39mtrim_sample_df\u001b[39m(df, num_insts, classes):\n\u001b[0;32m--> 118\u001b[0m     df \u001b[39m=\u001b[39m trim_df(df, num_insts)\n\u001b[1;32m    119\u001b[0m     df \u001b[39m=\u001b[39m sample_classes(df, classes)\n\u001b[1;32m    121\u001b[0m     \u001b[39m# restart index\u001b[39;00m\n",
      "File \u001b[0;32m/workspaces/doh_traffic_analysis/code/classification/utils/util.py:65\u001b[0m, in \u001b[0;36mtrim_df\u001b[0;34m(df, num_insts)\u001b[0m\n\u001b[1;32m     63\u001b[0m df2 \u001b[39m=\u001b[39m df\u001b[39m.\u001b[39mcopy()  \u001b[39m# the selected field should not appear in the original `df`\u001b[39;00m\n\u001b[1;32m     64\u001b[0m df2[\u001b[39m'\u001b[39m\u001b[39mselected\u001b[39m\u001b[39m'\u001b[39m] \u001b[39m=\u001b[39m \u001b[39mFalse\u001b[39;00m  \u001b[39m# initialize all instances to not selected\u001b[39;00m\n\u001b[0;32m---> 65\u001b[0m classes \u001b[39m=\u001b[39m df2\u001b[39m.\u001b[39;49mgroupby(\u001b[39m'\u001b[39;49m\u001b[39mclass_label\u001b[39;49m\u001b[39m'\u001b[39;49m)  \u001b[39m# group instances by class\u001b[39;00m\n\u001b[1;32m     66\u001b[0m trim_part \u001b[39m=\u001b[39m partial(trim, n\u001b[39m=\u001b[39mnum_insts)  \u001b[39m# partial trim to n=NUM_INSTS\u001b[39;00m\n\u001b[1;32m     67\u001b[0m df2[\u001b[39m'\u001b[39m\u001b[39mselected\u001b[39m\u001b[39m'\u001b[39m] \u001b[39m=\u001b[39m classes\u001b[39m.\u001b[39mselected\u001b[39m.\u001b[39mtransform(trim_part)  \u001b[39m# mark as selected\u001b[39;00m\n",
      "File \u001b[0;32m~/.local/lib/python3.10/site-packages/pandas/core/frame.py:8402\u001b[0m, in \u001b[0;36mDataFrame.groupby\u001b[0;34m(self, by, axis, level, as_index, sort, group_keys, squeeze, observed, dropna)\u001b[0m\n\u001b[1;32m   8399\u001b[0m     \u001b[39mraise\u001b[39;00m \u001b[39mTypeError\u001b[39;00m(\u001b[39m\"\u001b[39m\u001b[39mYou have to supply one of \u001b[39m\u001b[39m'\u001b[39m\u001b[39mby\u001b[39m\u001b[39m'\u001b[39m\u001b[39m and \u001b[39m\u001b[39m'\u001b[39m\u001b[39mlevel\u001b[39m\u001b[39m'\u001b[39m\u001b[39m\"\u001b[39m)\n\u001b[1;32m   8400\u001b[0m axis \u001b[39m=\u001b[39m \u001b[39mself\u001b[39m\u001b[39m.\u001b[39m_get_axis_number(axis)\n\u001b[0;32m-> 8402\u001b[0m \u001b[39mreturn\u001b[39;00m DataFrameGroupBy(\n\u001b[1;32m   8403\u001b[0m     obj\u001b[39m=\u001b[39;49m\u001b[39mself\u001b[39;49m,\n\u001b[1;32m   8404\u001b[0m     keys\u001b[39m=\u001b[39;49mby,\n\u001b[1;32m   8405\u001b[0m     axis\u001b[39m=\u001b[39;49maxis,\n\u001b[1;32m   8406\u001b[0m     level\u001b[39m=\u001b[39;49mlevel,\n\u001b[1;32m   8407\u001b[0m     as_index\u001b[39m=\u001b[39;49mas_index,\n\u001b[1;32m   8408\u001b[0m     sort\u001b[39m=\u001b[39;49msort,\n\u001b[1;32m   8409\u001b[0m     group_keys\u001b[39m=\u001b[39;49mgroup_keys,\n\u001b[1;32m   8410\u001b[0m     squeeze\u001b[39m=\u001b[39;49msqueeze,\n\u001b[1;32m   8411\u001b[0m     observed\u001b[39m=\u001b[39;49mobserved,\n\u001b[1;32m   8412\u001b[0m     dropna\u001b[39m=\u001b[39;49mdropna,\n\u001b[1;32m   8413\u001b[0m )\n",
      "File \u001b[0;32m~/.local/lib/python3.10/site-packages/pandas/core/groupby/groupby.py:965\u001b[0m, in \u001b[0;36mGroupBy.__init__\u001b[0;34m(self, obj, keys, axis, level, grouper, exclusions, selection, as_index, sort, group_keys, squeeze, observed, mutated, dropna)\u001b[0m\n\u001b[1;32m    962\u001b[0m \u001b[39mif\u001b[39;00m grouper \u001b[39mis\u001b[39;00m \u001b[39mNone\u001b[39;00m:\n\u001b[1;32m    963\u001b[0m     \u001b[39mfrom\u001b[39;00m \u001b[39mpandas\u001b[39;00m\u001b[39m.\u001b[39;00m\u001b[39mcore\u001b[39;00m\u001b[39m.\u001b[39;00m\u001b[39mgroupby\u001b[39;00m\u001b[39m.\u001b[39;00m\u001b[39mgrouper\u001b[39;00m \u001b[39mimport\u001b[39;00m get_grouper\n\u001b[0;32m--> 965\u001b[0m     grouper, exclusions, obj \u001b[39m=\u001b[39m get_grouper(\n\u001b[1;32m    966\u001b[0m         obj,\n\u001b[1;32m    967\u001b[0m         keys,\n\u001b[1;32m    968\u001b[0m         axis\u001b[39m=\u001b[39;49maxis,\n\u001b[1;32m    969\u001b[0m         level\u001b[39m=\u001b[39;49mlevel,\n\u001b[1;32m    970\u001b[0m         sort\u001b[39m=\u001b[39;49msort,\n\u001b[1;32m    971\u001b[0m         observed\u001b[39m=\u001b[39;49mobserved,\n\u001b[1;32m    972\u001b[0m         mutated\u001b[39m=\u001b[39;49m\u001b[39mself\u001b[39;49m\u001b[39m.\u001b[39;49mmutated,\n\u001b[1;32m    973\u001b[0m         dropna\u001b[39m=\u001b[39;49m\u001b[39mself\u001b[39;49m\u001b[39m.\u001b[39;49mdropna,\n\u001b[1;32m    974\u001b[0m     )\n\u001b[1;32m    976\u001b[0m \u001b[39mself\u001b[39m\u001b[39m.\u001b[39mobj \u001b[39m=\u001b[39m obj\n\u001b[1;32m    977\u001b[0m \u001b[39mself\u001b[39m\u001b[39m.\u001b[39maxis \u001b[39m=\u001b[39m obj\u001b[39m.\u001b[39m_get_axis_number(axis)\n",
      "File \u001b[0;32m~/.local/lib/python3.10/site-packages/pandas/core/groupby/grouper.py:888\u001b[0m, in \u001b[0;36mget_grouper\u001b[0;34m(obj, key, axis, level, sort, observed, mutated, validate, dropna)\u001b[0m\n\u001b[1;32m    886\u001b[0m         in_axis, level, gpr \u001b[39m=\u001b[39m \u001b[39mFalse\u001b[39;00m, gpr, \u001b[39mNone\u001b[39;00m\n\u001b[1;32m    887\u001b[0m     \u001b[39melse\u001b[39;00m:\n\u001b[0;32m--> 888\u001b[0m         \u001b[39mraise\u001b[39;00m \u001b[39mKeyError\u001b[39;00m(gpr)\n\u001b[1;32m    889\u001b[0m \u001b[39melif\u001b[39;00m \u001b[39misinstance\u001b[39m(gpr, Grouper) \u001b[39mand\u001b[39;00m gpr\u001b[39m.\u001b[39mkey \u001b[39mis\u001b[39;00m \u001b[39mnot\u001b[39;00m \u001b[39mNone\u001b[39;00m:\n\u001b[1;32m    890\u001b[0m     \u001b[39m# Add key to exclusions\u001b[39;00m\n\u001b[1;32m    891\u001b[0m     exclusions\u001b[39m.\u001b[39madd(gpr\u001b[39m.\u001b[39mkey)\n",
      "\u001b[0;31mKeyError\u001b[0m: 'class_label'"
     ]
    }
   ],
   "source": [
    "#Run experiment\n",
    "normal_experiment()"
   ]
  },
  {
   "cell_type": "code",
   "execution_count": 20,
   "metadata": {},
   "outputs": [
    {
     "name": "stdout",
     "output_type": "stream",
     "text": [
      "Precision: 0.902 +- 0.002\n",
      "Recall: 0.897 +- 0.002\n",
      "F1-score: 0.896 +- 0.002\n"
     ]
    }
   ],
   "source": [
    "#Print results\n",
    "BASE_DIR = abspath(join(dirname(\"__file__\"), pardir, pardir))\n",
    "RESULTS_DIR = join(BASE_DIR, 'results', 'normal')\n",
    "\n",
    "prec_mean, prec_std, rec_mean, rec_std, f_mean, f_std = get_stats(RESULTS_DIR)\n",
    "print \"Precision:\", \"{0:.3f}\".format(prec_mean), \"+-\", \"{0:.3f}\".format(prec_std)\n",
    "print \"Recall:\", \"{0:.3f}\".format(rec_mean), \"+-\", \"{0:.3f}\".format(rec_std)\n",
    "print \"F1-score:\", \"{0:.3f}\".format(f_mean), \"+-\", \"{0:.3f}\".format(f_std)"
   ]
  }
 ],
 "metadata": {
  "kernelspec": {
   "display_name": "Python 3",
   "language": "python",
   "name": "python3"
  },
  "language_info": {
   "codemirror_mode": {
    "name": "ipython",
    "version": 3
   },
   "file_extension": ".py",
   "mimetype": "text/x-python",
   "name": "python",
   "nbconvert_exporter": "python",
   "pygments_lexer": "ipython3",
   "version": "3.10.4"
  }
 },
 "nbformat": 4,
 "nbformat_minor": 2
}
