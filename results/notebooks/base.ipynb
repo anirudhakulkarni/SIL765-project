{
 "cells": [
  {
   "cell_type": "markdown",
   "metadata": {},
   "source": [
    "# Base experiment Results (Section 5A)"
   ]
  },
  {
   "cell_type": "code",
   "execution_count": 2,
   "metadata": {},
   "outputs": [],
   "source": [
    "import os\n",
    "from os.path import join, dirname, abspath, pardir\n",
    "import sys\n",
    "sys.path.append(os.path.abspath('../../code/classification'))\n",
    "from classify_pipeline import *\n",
    "from process_results import *\n",
    "import warnings\n",
    "warnings.filterwarnings(\"ignore\")\n"
   ]
  },
  {
   "cell_type": "markdown",
   "metadata": {},
   "source": [
    "## Full Dataset"
   ]
  },
  {
   "cell_type": "code",
   "execution_count": 3,
   "metadata": {},
   "outputs": [
    {
     "name": "stdout",
     "output_type": "stream",
     "text": [
      "/workspaces/doh_traffic_analysis/dataset/pickles/LOC1.pickle\n",
      "Loading /workspaces/doh_traffic_analysis/dataset/LOC1\n",
      "Starting to parse /workspaces/doh_traffic_analysis/dataset/LOC1\n",
      "Traversing /workspaces/doh_traffic_analysis/dataset/LOC1\n",
      "['05-09-18_7.json', '11-09-18_8_2.json', '13-09-18_6_2.json', '15-09-18_12_2.json', '31-10-18_2.json', '30-10-18_1.json', '09-09-18_8_2.json', '12-10-18_2_2.json', '06-09-18_7.json', '11-10-18_3_2.json', '12-09-18_9.json', '26-10-18_2.json', '07-11-18_1.json', '15-09-18_12.json', '10-09-18_10.json', '10-09-18_5.json', '10-09-18_9.json', '04-09-18_8.json', '15-09-18_7.json', '20-09-18_3_2.json', '29-09-18_7.json', '11-09-18_10_2.json', '25-10-18_1_2.json', '08-09-18_10_2.json', '06-11-18_2_2.json', '13-09-18_10.json', '13-09-18_7.json', '10-09-18_11_2.json', '14-09-18_12.json', '12-09-18_12.json', '04-09-18_2.json', '08-09-18_1.json', '13-09-18_4_2.json', '27-10-18_1_2.json', '12-10-18_4_2.json', '11-09-18_3_2.json', '27-09-18_11_2.json', '11-09-18_7.json', '20-09-18_2_2.json', '10-09-18_4.json', '30-10-18_2.json', '14-09-18_8.json', '25-09-18_11_2.json', '11-09-18_4_2.json', '15-09-18_2_2.json', '11-10-18_1_2.json', '21-09-18_1_2.json', '31-10-18_1.json', '29-09-18_11_2.json', '30-08-18_12.json', '04-11-18_1_2.json', '10-09-18_11.json', '11-09-18_2_2.json', '11-09-18_11_2.json', '04-11-18_2_2.json', '05-11-18_1_2.json', '03-11-18_2_2.json', '04-09-18_1.json', '13-09-18_8_2.json', '08-10-18_10_2.json', '05-09-18_8.json', '29-09-18_11.json', '08-09-18_12.json', '14-09-18_5.json', '25-10-18_2_2.json', '10-09-18_6.json', '10-10-18_1_2.json', '04-09-18_3.json', '27-10-18_2_2.json', '24-10-18_2.json', '27-10-18_2.json', '11-09-18_6.json', '10-09-18_3.json', '06-09-18_6.json', '11-09-18_4.json', '15-09-18_7_2.json', '08-09-18_3_2.json', '12-09-18_2_2.json', '11-09-18_10.json', '13-09-18_7_2.json', '09-10-18_10_2.json', '02-11-18_1_2.json', '04-09-18_5.json', '07-11-18_2_2.json', '12-09-18_7.json', '12-09-18_9_2.json', '11-10-18_2_2.json', '27-09-18_11.json', '10-09-18_8_2.json', '14-09-18_5_2.json', '21-09-18_10_2.json', '28-09-18_6.json', '12-09-18_10.json', '19-09-18_7.json', '09-09-18_5_2.json', '13-09-18_11_2.json', '02-11-18_2.json', '08-09-18_2_2.json', '13-09-18_12_2.json', '04-09-18_10.json', '25-10-18_1.json', '06-09-18_12.json', '14-09-18_6.json', '01-11-18_1_2.json', '20-09-18_10_2.json', '26-10-18_1.json', '10-09-18_7_2.json', '11-09-18_12.json', '06-09-18_8.json', '31-10-18_1_2.json', '06-09-18_5.json', '06-11-18_2.json', '04-09-18_9.json', '12-09-18_5.json', '14-10-18_2_2.json', '04-09-18_6.json', '20-09-18_6.json', '20-09-18_7.json', '03-11-18_1_2.json', '12-09-18_6.json', '20-09-18_1_2.json', '11-09-18_8.json', '15-09-18_9.json', '20-09-18_8.json', '28-09-18_8.json', '10-10-18_3_2.json', '12-09-18_12_2.json', '06-09-18_9.json', '10-09-18_2.json', '11-09-18_9.json', '29-09-18_6_2.json', '15-09-18_10.json', '08-11-18_1_2.json', '06-09-18_11.json', '14-09-18_10.json', '05-09-18_4.json', '21-09-18_2_2.json', '06-11-18_1.json', '01-11-18_2_2.json', '26-09-18_11_2.json', '19-09-18_8.json', '04-11-18_1.json', '08-09-18_8_2.json', '28-10-18_2_2.json', '13-09-18_11.json', '13-09-18_8.json', '12-09-18_11_2.json', '25-10-18_2.json', '06-10-18_10_2.json', '06-09-18_1.json', '05-11-18_2.json', '03-11-18_1.json', '05-09-18_5.json', '11-09-18_12_2.json', '10-09-18_9_2.json', '15-09-18_1_2.json', '29-09-18_5_2.json', '06-09-18_4.json', '12-09-18_3_2.json', '12-09-18_8.json', '12-09-18_5_2.json', '11-09-18_5.json', '19-09-18_5.json', '05-09-18_6.json', '24-10-18_1.json', '21-09-18_8_2.json', '01-11-18_2.json', '28-09-18_11.json', '12-09-18_4_2.json', '29-09-18_8.json', '15-09-18_5.json', '02-11-18_1.json', '20-09-18_4_2.json', '10-09-18_3_2.json', '12-09-18_6_2.json', '13-10-18_3_2.json', '06-09-18_10.json', '09-09-18_7_2.json', '05-09-18_2.json', '28-10-18_1_2.json', '15-10-18_2_2.json', '14-09-18_7.json', '12-09-18_8_2.json', '15-10-18_1_2.json', '13-09-18_2_2.json', '30-08-18_10.json', '28-10-18_2.json', '26-09-18_11.json', '15-09-18_4_2.json', '10-09-18_12.json', '09-09-18_12_2.json', '29-09-18_6.json', '11-09-18_6_2.json', '06-11-18_1_2.json', '29-10-18_2.json', '07-10-18_10_2.json', '12-09-18_10_2.json', '21-09-18_7_2.json', '30-10-18_2_2.json', '09-09-18_3_2.json', '04-11-18_2.json', '13-10-18_2_2.json', '28-09-18_11_2.json', '05-10-18_10.json', '15-09-18_5_2.json', '11-10-18_4_2.json', '15-09-18_6.json', '29-10-18_1.json', '09-09-18_9_2.json', '08-09-18_9_2.json', '04-09-18_4.json', '10-09-18_5_2.json', '10-09-18_2_2.json', '10-09-18_1.json', '21-09-18_3_2.json', '12-10-18_3_2.json', '13-10-18_1_2.json', '08-11-18_2_2.json', '14-09-18_9_2.json', '10-10-18_2_2.json', '12-09-18_7_2.json', '15-09-18_9_2.json', '21-09-18_5_2.json', '11-09-18_9_2.json', '13-09-18_1_2.json', '20-09-18_5_2.json', '14-09-18_11_2.json', '02-11-18_2_2.json', '10-09-18_12_2.json', '11-09-18_2.json', '09-09-18_6_2.json', '14-10-18_1_2.json', '15-09-18_3_2.json', '05-11-18_2_2.json', '06-09-18_3.json', '25-09-18_11.json', '09-09-18_4_2.json', '19-09-18_10.json', '04-09-18_7.json', '12-09-18_11.json', '30-08-18_9.json', '15-09-18_8.json', '06-09-18_2.json', '08-10-18_10.json', '11-09-18_7_2.json', '13-09-18_5_2.json', '13-10-18_4_2.json', '10-09-18_4_2.json', '28-10-18_1.json', '07-11-18_2.json', '20-09-18_5.json', '20-09-18_10.json', '13-09-18_9.json', '15-10-18_3_2.json', '12-10-18_1_2.json', '13-09-18_5.json', '07-11-18_1_2.json', '09-09-18_11_2.json', '29-09-18_8_2.json', '30-10-18_1_2.json', '19-09-18_6.json', '10-09-18_6_2.json', '07-10-18_10.json', '24-09-18_11.json', '08-09-18_11_2.json', '11-09-18_11.json', '13-09-18_9_2.json', '09-09-18_2_2.json', '08-09-18_7_2.json', '08-09-18_5_2.json', '05-09-18_3.json', '15-09-18_11.json', '08-09-18_12_2.json', '29-09-18_4_2.json', '08-09-18_6_2.json', '28-09-18_5.json', '14-10-18_4_2.json', '15-09-18_8_2.json', '20-09-18_6_2.json', '31-10-18_2_2.json', '10-09-18_8.json', '15-09-18_10_2.json', '09-09-18_1_2.json', '15-10-18_4_2.json', '20-09-18_7_2.json', '10-09-18_7.json', '03-11-18_2.json', '29-09-18_3_2.json', '10-10-18_4_2.json', '28-09-18_7.json', '15-09-18_6_2.json', '14-09-18_9.json', '29-09-18_7_2.json', '11-09-18_5_2.json', '01-11-18_1.json', '29-09-18_5.json', '11-09-18_3.json', '08-09-18_4_2.json', '05-11-18_1.json', '20-09-18_8_2.json', '30-08-18_11.json', '04-09-18_11.json', '27-10-18_1.json', '05-09-18_1.json', '14-10-18_3_2.json', '06-10-18_10.json']\n",
      "Number of selected files 306\n",
      "1499 sites in /workspaces/doh_traffic_analysis/dataset/LOC1/05-09-18_7.json\n",
      "1499 sites in /workspaces/doh_traffic_analysis/dataset/LOC1/11-09-18_8_2.json\n",
      "1499 sites in /workspaces/doh_traffic_analysis/dataset/LOC1/13-09-18_6_2.json\n",
      "1499 sites in /workspaces/doh_traffic_analysis/dataset/LOC1/15-09-18_12_2.json\n",
      "1499 sites in /workspaces/doh_traffic_analysis/dataset/LOC1/31-10-18_2.json\n",
      "1499 sites in /workspaces/doh_traffic_analysis/dataset/LOC1/30-10-18_1.json\n",
      "1499 sites in /workspaces/doh_traffic_analysis/dataset/LOC1/09-09-18_8_2.json\n",
      "1499 sites in /workspaces/doh_traffic_analysis/dataset/LOC1/12-10-18_2_2.json\n",
      "1499 sites in /workspaces/doh_traffic_analysis/dataset/LOC1/06-09-18_7.json\n",
      "1499 sites in /workspaces/doh_traffic_analysis/dataset/LOC1/11-10-18_3_2.json\n",
      "1499 sites in /workspaces/doh_traffic_analysis/dataset/LOC1/12-09-18_9.json\n",
      "1499 sites in /workspaces/doh_traffic_analysis/dataset/LOC1/26-10-18_2.json\n",
      "1499 sites in /workspaces/doh_traffic_analysis/dataset/LOC1/07-11-18_1.json\n",
      "1436 sites in /workspaces/doh_traffic_analysis/dataset/LOC1/15-09-18_12.json\n",
      "1499 sites in /workspaces/doh_traffic_analysis/dataset/LOC1/10-09-18_10.json\n",
      "1499 sites in /workspaces/doh_traffic_analysis/dataset/LOC1/10-09-18_5.json\n",
      "1499 sites in /workspaces/doh_traffic_analysis/dataset/LOC1/10-09-18_9.json\n",
      "1499 sites in /workspaces/doh_traffic_analysis/dataset/LOC1/04-09-18_8.json\n",
      "1395 sites in /workspaces/doh_traffic_analysis/dataset/LOC1/15-09-18_7.json\n",
      "1499 sites in /workspaces/doh_traffic_analysis/dataset/LOC1/20-09-18_3_2.json\n",
      "1101 sites in /workspaces/doh_traffic_analysis/dataset/LOC1/29-09-18_7.json\n",
      "1499 sites in /workspaces/doh_traffic_analysis/dataset/LOC1/11-09-18_10_2.json\n",
      "1499 sites in /workspaces/doh_traffic_analysis/dataset/LOC1/25-10-18_1_2.json\n",
      "1499 sites in /workspaces/doh_traffic_analysis/dataset/LOC1/08-09-18_10_2.json\n",
      "786 sites in /workspaces/doh_traffic_analysis/dataset/LOC1/06-11-18_2_2.json\n",
      "1499 sites in /workspaces/doh_traffic_analysis/dataset/LOC1/13-09-18_10.json\n",
      "1499 sites in /workspaces/doh_traffic_analysis/dataset/LOC1/13-09-18_7.json\n",
      "952 sites in /workspaces/doh_traffic_analysis/dataset/LOC1/10-09-18_11_2.json\n",
      "1499 sites in /workspaces/doh_traffic_analysis/dataset/LOC1/14-09-18_12.json\n",
      "1499 sites in /workspaces/doh_traffic_analysis/dataset/LOC1/12-09-18_12.json\n",
      "1499 sites in /workspaces/doh_traffic_analysis/dataset/LOC1/04-09-18_2.json\n",
      "16 sites in /workspaces/doh_traffic_analysis/dataset/LOC1/08-09-18_1.json\n",
      "1499 sites in /workspaces/doh_traffic_analysis/dataset/LOC1/13-09-18_4_2.json\n",
      "1499 sites in /workspaces/doh_traffic_analysis/dataset/LOC1/27-10-18_1_2.json\n",
      "1499 sites in /workspaces/doh_traffic_analysis/dataset/LOC1/12-10-18_4_2.json\n",
      "1499 sites in /workspaces/doh_traffic_analysis/dataset/LOC1/11-09-18_3_2.json\n",
      "1499 sites in /workspaces/doh_traffic_analysis/dataset/LOC1/27-09-18_11_2.json\n",
      "1499 sites in /workspaces/doh_traffic_analysis/dataset/LOC1/11-09-18_7.json\n",
      "1499 sites in /workspaces/doh_traffic_analysis/dataset/LOC1/20-09-18_2_2.json\n",
      "1499 sites in /workspaces/doh_traffic_analysis/dataset/LOC1/10-09-18_4.json\n",
      "1499 sites in /workspaces/doh_traffic_analysis/dataset/LOC1/30-10-18_2.json\n",
      "1499 sites in /workspaces/doh_traffic_analysis/dataset/LOC1/14-09-18_8.json\n",
      "1499 sites in /workspaces/doh_traffic_analysis/dataset/LOC1/25-09-18_11_2.json\n",
      "1499 sites in /workspaces/doh_traffic_analysis/dataset/LOC1/11-09-18_4_2.json\n",
      "1499 sites in /workspaces/doh_traffic_analysis/dataset/LOC1/15-09-18_2_2.json\n",
      "1499 sites in /workspaces/doh_traffic_analysis/dataset/LOC1/11-10-18_1_2.json\n",
      "614 sites in /workspaces/doh_traffic_analysis/dataset/LOC1/21-09-18_1_2.json\n",
      "1499 sites in /workspaces/doh_traffic_analysis/dataset/LOC1/31-10-18_1.json\n",
      "1499 sites in /workspaces/doh_traffic_analysis/dataset/LOC1/29-09-18_11_2.json\n",
      "1499 sites in /workspaces/doh_traffic_analysis/dataset/LOC1/30-08-18_12.json\n",
      "1499 sites in /workspaces/doh_traffic_analysis/dataset/LOC1/04-11-18_1_2.json\n",
      "1499 sites in /workspaces/doh_traffic_analysis/dataset/LOC1/10-09-18_11.json\n",
      "1499 sites in /workspaces/doh_traffic_analysis/dataset/LOC1/11-09-18_2_2.json\n",
      "1499 sites in /workspaces/doh_traffic_analysis/dataset/LOC1/11-09-18_11_2.json\n",
      "1499 sites in /workspaces/doh_traffic_analysis/dataset/LOC1/04-11-18_2_2.json\n",
      "1499 sites in /workspaces/doh_traffic_analysis/dataset/LOC1/05-11-18_1_2.json\n",
      "1499 sites in /workspaces/doh_traffic_analysis/dataset/LOC1/03-11-18_2_2.json\n",
      "1499 sites in /workspaces/doh_traffic_analysis/dataset/LOC1/04-09-18_1.json\n",
      "1499 sites in /workspaces/doh_traffic_analysis/dataset/LOC1/13-09-18_8_2.json\n",
      "1499 sites in /workspaces/doh_traffic_analysis/dataset/LOC1/08-10-18_10_2.json\n",
      "1499 sites in /workspaces/doh_traffic_analysis/dataset/LOC1/05-09-18_8.json\n",
      "1085 sites in /workspaces/doh_traffic_analysis/dataset/LOC1/29-09-18_11.json\n",
      "1499 sites in /workspaces/doh_traffic_analysis/dataset/LOC1/08-09-18_12.json\n",
      "1499 sites in /workspaces/doh_traffic_analysis/dataset/LOC1/14-09-18_5.json\n",
      "1499 sites in /workspaces/doh_traffic_analysis/dataset/LOC1/25-10-18_2_2.json\n",
      "1499 sites in /workspaces/doh_traffic_analysis/dataset/LOC1/10-09-18_6.json\n",
      "1499 sites in /workspaces/doh_traffic_analysis/dataset/LOC1/10-10-18_1_2.json\n",
      "1499 sites in /workspaces/doh_traffic_analysis/dataset/LOC1/04-09-18_3.json\n",
      "1499 sites in /workspaces/doh_traffic_analysis/dataset/LOC1/27-10-18_2_2.json\n",
      "1499 sites in /workspaces/doh_traffic_analysis/dataset/LOC1/24-10-18_2.json\n",
      "1499 sites in /workspaces/doh_traffic_analysis/dataset/LOC1/27-10-18_2.json\n",
      "1499 sites in /workspaces/doh_traffic_analysis/dataset/LOC1/11-09-18_6.json\n",
      "1499 sites in /workspaces/doh_traffic_analysis/dataset/LOC1/10-09-18_3.json\n",
      "1499 sites in /workspaces/doh_traffic_analysis/dataset/LOC1/06-09-18_6.json\n",
      "1499 sites in /workspaces/doh_traffic_analysis/dataset/LOC1/11-09-18_4.json\n",
      "1499 sites in /workspaces/doh_traffic_analysis/dataset/LOC1/15-09-18_7_2.json\n",
      "1499 sites in /workspaces/doh_traffic_analysis/dataset/LOC1/08-09-18_3_2.json\n",
      "1499 sites in /workspaces/doh_traffic_analysis/dataset/LOC1/12-09-18_2_2.json\n",
      "1499 sites in /workspaces/doh_traffic_analysis/dataset/LOC1/11-09-18_10.json\n",
      "1499 sites in /workspaces/doh_traffic_analysis/dataset/LOC1/13-09-18_7_2.json\n",
      "598 sites in /workspaces/doh_traffic_analysis/dataset/LOC1/09-10-18_10_2.json\n",
      "385 sites in /workspaces/doh_traffic_analysis/dataset/LOC1/02-11-18_1_2.json\n",
      "1499 sites in /workspaces/doh_traffic_analysis/dataset/LOC1/04-09-18_5.json\n",
      "1499 sites in /workspaces/doh_traffic_analysis/dataset/LOC1/07-11-18_2_2.json\n",
      "1499 sites in /workspaces/doh_traffic_analysis/dataset/LOC1/12-09-18_7.json\n",
      "1499 sites in /workspaces/doh_traffic_analysis/dataset/LOC1/12-09-18_9_2.json\n",
      "1499 sites in /workspaces/doh_traffic_analysis/dataset/LOC1/11-10-18_2_2.json\n",
      "1499 sites in /workspaces/doh_traffic_analysis/dataset/LOC1/27-09-18_11.json\n"
     ]
    },
    {
     "ename": "KeyboardInterrupt",
     "evalue": "",
     "output_type": "error",
     "traceback": [
      "\u001b[0;31m---------------------------------------------------------------------------\u001b[0m",
      "\u001b[0;31mKeyboardInterrupt\u001b[0m                         Traceback (most recent call last)",
      "Cell \u001b[0;32mIn[3], line 2\u001b[0m\n\u001b[1;32m      1\u001b[0m \u001b[39m#Run experiment\u001b[39;00m\n\u001b[0;32m----> 2\u001b[0m normal_experiment()\n",
      "File \u001b[0;32m/workspaces/doh_traffic_analysis/code/classification/classify_pipeline.py:275\u001b[0m, in \u001b[0;36mnormal_experiment\u001b[0;34m(remove_bad)\u001b[0m\n\u001b[1;32m    273\u001b[0m     df \u001b[39m=\u001b[39m load_data(path\u001b[39m=\u001b[39mpickle_path)\n\u001b[1;32m    274\u001b[0m \u001b[39melse\u001b[39;00m:\n\u001b[0;32m--> 275\u001b[0m     df \u001b[39m=\u001b[39m load_data(path\u001b[39m=\u001b[39;49mdata_dir)\n\u001b[1;32m    277\u001b[0m \u001b[39m#To remove bad webpages\u001b[39;00m\n\u001b[1;32m    278\u001b[0m \u001b[39mif\u001b[39;00m remove_bad:\n",
      "File \u001b[0;32m/workspaces/doh_traffic_analysis/code/classification/utils/util.py:368\u001b[0m, in \u001b[0;36mload_data\u001b[0;34m(path, pickle)\u001b[0m\n\u001b[1;32m    366\u001b[0m     df \u001b[39m=\u001b[39m pd\u001b[39m.\u001b[39mread_pickle(path)\n\u001b[1;32m    367\u001b[0m \u001b[39melse\u001b[39;00m:\n\u001b[0;32m--> 368\u001b[0m     df \u001b[39m=\u001b[39m parse_directory(path)\n\u001b[1;32m    369\u001b[0m     dataset \u001b[39m=\u001b[39m basename(normpath(path))\n\u001b[1;32m    370\u001b[0m     PICKLE_FILE \u001b[39m=\u001b[39m join(DATA_DIR, \u001b[39m'\u001b[39m\u001b[39m%s\u001b[39;00m\u001b[39m.pickle\u001b[39m\u001b[39m'\u001b[39m \u001b[39m%\u001b[39m dataset)\n",
      "File \u001b[0;32m/workspaces/doh_traffic_analysis/code/classification/utils/util.py:438\u001b[0m, in \u001b[0;36mparse_directory\u001b[0;34m(dpath)\u001b[0m\n\u001b[1;32m    436\u001b[0m     row_head[\u001b[39m'\u001b[39m\u001b[39mclass_label\u001b[39m\u001b[39m'\u001b[39m] \u001b[39m=\u001b[39m webpage_id\n\u001b[1;32m    437\u001b[0m     row_head[\u001b[39m'\u001b[39m\u001b[39mlengths\u001b[39m\u001b[39m'\u001b[39m] \u001b[39m=\u001b[39m lengths\n\u001b[0;32m--> 438\u001b[0m     idx \u001b[39m=\u001b[39m pd\u001b[39m.\u001b[39mconcat([idx, pd\u001b[39m.\u001b[39mDataFrame([row_head])], ignore_index\u001b[39m=\u001b[39m\u001b[39mTrue\u001b[39;00m)\n\u001b[1;32m    439\u001b[0m     \u001b[39m# idx = idx.append(row_head, ignore_index=True)\u001b[39;00m\n\u001b[1;32m    440\u001b[0m \u001b[39mprint\u001b[39m(i, \u001b[39m'\u001b[39m\u001b[39msites in\u001b[39m\u001b[39m'\u001b[39m, fpath)\n",
      "\u001b[0;31mKeyboardInterrupt\u001b[0m: "
     ]
    }
   ],
   "source": [
    "#Run experiment\n",
    "normal_experiment()"
   ]
  },
  {
   "cell_type": "code",
   "execution_count": null,
   "metadata": {},
   "outputs": [
    {
     "name": "stdout",
     "output_type": "stream",
     "text": [
      "Precision: 0.902 +- 0.002\n",
      "Recall: 0.897 +- 0.002\n",
      "F1-score: 0.896 +- 0.002\n"
     ]
    }
   ],
   "source": [
    "#Print results\n",
    "BASE_DIR = abspath(join(dirname(\"__file__\"), pardir, pardir))\n",
    "RESULTS_DIR = join(BASE_DIR, 'results', 'normal')\n",
    "\n",
    "prec_mean, prec_std, rec_mean, rec_std, f_mean, f_std = get_stats(RESULTS_DIR)\n",
    "print(\"Precision:\", \"{0:.3f}\".format(prec_mean), \"+-\", \"{0:.3f}\".format(prec_std))\n",
    "print(\"Recall:\", \"{0:.3f}\".format(rec_mean), \"+-\", \"{0:.3f}\".format(rec_std))\n",
    "print(\"F1-score:\", \"{0:.3f}\".format(f_mean), \"+-\", \"{0:.3f}\".format(f_std))"
   ]
  },
  {
   "cell_type": "code",
   "execution_count": null,
   "metadata": {},
   "outputs": [],
   "source": []
  }
 ],
 "metadata": {
  "kernelspec": {
   "display_name": "Python 3",
   "language": "python",
   "name": "python3"
  },
  "language_info": {
   "codemirror_mode": {
    "name": "ipython",
    "version": 3
   },
   "file_extension": ".py",
   "mimetype": "text/x-python",
   "name": "python",
   "nbconvert_exporter": "python",
   "pygments_lexer": "ipython3",
   "version": "3.10.4"
  }
 },
 "nbformat": 4,
 "nbformat_minor": 2
}
